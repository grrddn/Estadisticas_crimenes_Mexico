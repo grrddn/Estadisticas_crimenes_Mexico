{
 "cells": [
  {
   "cell_type": "markdown",
   "id": "40e51bb9",
   "metadata": {},
   "source": [
    "# **ANÁLISIS - Estadísiticas Criminales en México 2024**\n",
    "\n",
    "### **Objetivo**\n",
    "\n",
    "Ejercicio realizado para la formación como analista de datos. Se busca crear una conexión entre SQL, Python y finalmente Google Looker Studio."
   ]
  },
  {
   "cell_type": "markdown",
   "id": "33ddd802",
   "metadata": {},
   "source": [
    "### **Carga y Exploración de Datos**"
   ]
  },
  {
   "cell_type": "markdown",
   "id": "698e3344",
   "metadata": {},
   "source": [
    "**Previamente** limpié la tabla de excel que serían los datos de nuestra tabla que voy a analizar. He crado una base de datos en SQL Server Management y cree una única tabla desde la cuál voy a obtener la información que servirá para crear mi **DataFrame** aquí en Python."
   ]
  },
  {
   "cell_type": "markdown",
   "id": "7172b06a",
   "metadata": {},
   "source": [
    "- Instalo la librería que permite crear la conexión con el servidor local de SQL Server Management"
   ]
  },
  {
   "cell_type": "code",
   "execution_count": 1,
   "id": "a06e61a2",
   "metadata": {},
   "outputs": [
    {
     "name": "stdout",
     "output_type": "stream",
     "text": [
      "Requirement already satisfied: pyodbc in c:\\users\\danielortega\\appdata\\local\\anaconda3\\lib\\site-packages (5.1.0)\n",
      "Note: you may need to restart the kernel to use updated packages.\n"
     ]
    }
   ],
   "source": [
    "pip install pyodbc\n"
   ]
  },
  {
   "cell_type": "markdown",
   "id": "4db66b7e",
   "metadata": {},
   "source": [
    "- Importo la librería correspondiente"
   ]
  },
  {
   "cell_type": "code",
   "execution_count": 2,
   "id": "a8ad4da0",
   "metadata": {},
   "outputs": [],
   "source": [
    "import pyodbc"
   ]
  },
  {
   "cell_type": "markdown",
   "id": "f1da1e42",
   "metadata": {},
   "source": [
    "- Creo las credenciales para establecer la conexión entre Python y SQL"
   ]
  },
  {
   "cell_type": "code",
   "execution_count": 3,
   "id": "e9762389",
   "metadata": {},
   "outputs": [
    {
     "name": "stderr",
     "output_type": "stream",
     "text": [
      "<>:3: SyntaxWarning: invalid escape sequence '\\d'\n",
      "<>:3: SyntaxWarning: invalid escape sequence '\\d'\n",
      "C:\\Users\\danielortega\\AppData\\Local\\Temp\\ipykernel_17204\\4200607893.py:3: SyntaxWarning: invalid escape sequence '\\d'\n",
      "  username = 'SPT\\danielortega'         # Si usas autenticación por usuario\n"
     ]
    },
    {
     "name": "stdout",
     "output_type": "stream",
     "text": [
      "('La vida y la Integridad', 'Homicidio', 'Homicidio doloso', 'Nacional', 2049, 1944, 2062, 2259, 2279, 2265, 2182, 2074, 2209, 2192, 2049, 1885)\n",
      "('La vida y la Integridad', 'Homicidio', 'Homicidio culposo', 'Nacional', 1376, 1365, 1583, 1488, 1740, 1490, 1415, 1395, 1338, 1424, 1467, 1602)\n",
      "('La vida y la Integridad', 'Lesiones', 'Lesiones dolosas', 'Nacional', 12251, 12842, 14293, 14838, 17145, 14664, 13079, 12734, 13766, 13468, 13179, 12374)\n",
      "('La vida y la Integridad', 'Lesiones', 'Lesiones culposas', 'Nacional', 4647, 4844, 4924, 4923, 5088, 4560, 4470, 4302, 4401, 4684, 4618, 4500)\n",
      "('La vida y la Integridad', 'Feminicidio', 'Feminicidio', 'Nacional', 62, 62, 77, 64, 87, 67, 68, 60, 77, 73, 63, 60)\n"
     ]
    }
   ],
   "source": [
    "server = 'ULC-85LN2B3'  # Ej. 'LAPTOP123\\\\SQLEXPRESS'\n",
    "database = 'Estadistica_crimenes_México'\n",
    "username = 'SPT\\danielortega'         # Si usas autenticación por usuario\n",
    "password = 'tspt2016'      # Si aplica\n",
    "\n",
    "# Si usas autenticación de Windows (más común en local)\n",
    "conn = pyodbc.connect(\n",
    "    'DRIVER={ODBC Driver 17 for SQL Server};'\n",
    "    f'SERVER={server};'\n",
    "    f'DATABASE={database};'\n",
    "    'Trusted_Connection=yes;'\n",
    ")\n",
    "\n",
    "# Crear cursor\n",
    "cursor = conn.cursor()\n",
    "\n",
    "# Probar con una consulta\n",
    "cursor.execute(\"SELECT TOP 5 * FROM dbo.Crimenes\")\n",
    "filas = cursor.fetchall()\n",
    "\n",
    "# Ver resultados\n",
    "for fila in filas:\n",
    "    print(fila)\n",
    "\n",
    "# Cerrar conexión al final\n",
    "conn.close()\n",
    "          \n"
   ]
  },
  {
   "cell_type": "markdown",
   "id": "dc31f5c2",
   "metadata": {},
   "source": [
    "- Creo un **DataFrame** con la información que extraje desde SQL"
   ]
  },
  {
   "cell_type": "code",
   "execution_count": 4,
   "id": "96bc2559",
   "metadata": {},
   "outputs": [
    {
     "name": "stderr",
     "output_type": "stream",
     "text": [
      "<>:5: SyntaxWarning: invalid escape sequence '\\d'\n",
      "<>:5: SyntaxWarning: invalid escape sequence '\\d'\n",
      "C:\\Users\\danielortega\\AppData\\Local\\Temp\\ipykernel_17204\\221937870.py:5: SyntaxWarning: invalid escape sequence '\\d'\n",
      "  username = 'SPT\\danielortega'         # Si usas autenticación por usuario\n"
     ]
    },
    {
     "name": "stdout",
     "output_type": "stream",
     "text": [
      "    Bien_jurídico_afectado  Tipo_Delito            Subtipo   Entidad    Enero  \\\n",
      "0  La vida y la Integridad    Homicidio   Homicidio doloso  Nacional   2049.0   \n",
      "1  La vida y la Integridad    Homicidio  Homicidio culposo  Nacional   1376.0   \n",
      "2  La vida y la Integridad     Lesiones   Lesiones dolosas  Nacional  12251.0   \n",
      "3  La vida y la Integridad     Lesiones  Lesiones culposas  Nacional   4647.0   \n",
      "4  La vida y la Integridad  Feminicidio        Feminicidio  Nacional     62.0   \n",
      "\n",
      "   Febrero    Marzo    Abril     Mayo    Junio    Julio   Agosto  Septiembre  \\\n",
      "0   1944.0   2062.0   2259.0   2279.0   2265.0   2182.0   2074.0      2209.0   \n",
      "1   1365.0   1583.0   1488.0   1740.0   1490.0   1415.0   1395.0      1338.0   \n",
      "2  12842.0  14293.0  14838.0  17145.0  14664.0  13079.0  12734.0     13766.0   \n",
      "3   4844.0   4924.0   4923.0   5088.0   4560.0   4470.0   4302.0      4401.0   \n",
      "4     62.0     77.0     64.0     87.0     67.0     68.0     60.0        77.0   \n",
      "\n",
      "   Octubre  Noviembre  Diciembre  \n",
      "0   2192.0     2049.0     1885.0  \n",
      "1   1424.0     1467.0     1602.0  \n",
      "2  13468.0    13179.0    12374.0  \n",
      "3   4684.0     4618.0     4500.0  \n",
      "4     73.0       63.0       60.0  \n"
     ]
    },
    {
     "name": "stderr",
     "output_type": "stream",
     "text": [
      "C:\\Users\\danielortega\\AppData\\Local\\Temp\\ipykernel_17204\\221937870.py:20: UserWarning: pandas only supports SQLAlchemy connectable (engine/connection) or database string URI or sqlite3 DBAPI2 connection. Other DBAPI2 objects are not tested. Please consider using SQLAlchemy.\n",
      "  df = pd.read_sql(query, conn)\n"
     ]
    }
   ],
   "source": [
    "import pandas as pd\n",
    "\n",
    "server = 'ULC-85LN2B3'  # Ej. 'LAPTOP123\\\\SQLEXPRESS'\n",
    "database = 'Estadistica_crimenes_México'\n",
    "username = 'SPT\\danielortega'         # Si usas autenticación por usuario\n",
    "password = 'tspt2016'      # Si aplica\n",
    "\n",
    "# Si usas autenticación de Windows (más común en local)\n",
    "conn = pyodbc.connect(\n",
    "    'DRIVER={ODBC Driver 17 for SQL Server};'\n",
    "    f'SERVER={server};'\n",
    "    f'DATABASE={database};'\n",
    "    'Trusted_Connection=yes;'\n",
    ")\n",
    "\n",
    "# Consulta SQL\n",
    "query = \"SELECT * FROM dbo.Crimenes\"\n",
    "\n",
    "# Ejecutar y cargar en DataFrame\n",
    "df = pd.read_sql(query, conn)\n",
    "\n",
    "# Mostrar las primeras filas para verificar\n",
    "print(df.head())\n",
    "\n",
    "# Cerrar conexión\n",
    "conn.close()"
   ]
  },
  {
   "cell_type": "markdown",
   "id": "d1463af5",
   "metadata": {},
   "source": [
    "- Reviso el **DataFrame**"
   ]
  },
  {
   "cell_type": "code",
   "execution_count": 5,
   "id": "0f688114",
   "metadata": {},
   "outputs": [
    {
     "data": {
      "text/html": [
       "<div>\n",
       "<style scoped>\n",
       "    .dataframe tbody tr th:only-of-type {\n",
       "        vertical-align: middle;\n",
       "    }\n",
       "\n",
       "    .dataframe tbody tr th {\n",
       "        vertical-align: top;\n",
       "    }\n",
       "\n",
       "    .dataframe thead th {\n",
       "        text-align: right;\n",
       "    }\n",
       "</style>\n",
       "<table border=\"1\" class=\"dataframe\">\n",
       "  <thead>\n",
       "    <tr style=\"text-align: right;\">\n",
       "      <th></th>\n",
       "      <th>Bien_jurídico_afectado</th>\n",
       "      <th>Tipo_Delito</th>\n",
       "      <th>Subtipo</th>\n",
       "      <th>Entidad</th>\n",
       "      <th>Enero</th>\n",
       "      <th>Febrero</th>\n",
       "      <th>Marzo</th>\n",
       "      <th>Abril</th>\n",
       "      <th>Mayo</th>\n",
       "      <th>Junio</th>\n",
       "      <th>Julio</th>\n",
       "      <th>Agosto</th>\n",
       "      <th>Septiembre</th>\n",
       "      <th>Octubre</th>\n",
       "      <th>Noviembre</th>\n",
       "      <th>Diciembre</th>\n",
       "    </tr>\n",
       "  </thead>\n",
       "  <tbody>\n",
       "    <tr>\n",
       "      <th>42</th>\n",
       "      <td>La familia</td>\n",
       "      <td>Violencia familiar</td>\n",
       "      <td>Violencia familiar</td>\n",
       "      <td>Nacional</td>\n",
       "      <td>20818.0</td>\n",
       "      <td>21621.0</td>\n",
       "      <td>23943.0</td>\n",
       "      <td>25449.0</td>\n",
       "      <td>27509.0</td>\n",
       "      <td>24162.0</td>\n",
       "      <td>23875.0</td>\n",
       "      <td>23634.0</td>\n",
       "      <td>23612.0</td>\n",
       "      <td>23042.0</td>\n",
       "      <td>21587.0</td>\n",
       "      <td>19026.0</td>\n",
       "    </tr>\n",
       "    <tr>\n",
       "      <th>5</th>\n",
       "      <td>La vida y la Integridad</td>\n",
       "      <td>Aborto</td>\n",
       "      <td>Aborto</td>\n",
       "      <td>Nacional</td>\n",
       "      <td>83.0</td>\n",
       "      <td>64.0</td>\n",
       "      <td>48.0</td>\n",
       "      <td>64.0</td>\n",
       "      <td>75.0</td>\n",
       "      <td>62.0</td>\n",
       "      <td>63.0</td>\n",
       "      <td>65.0</td>\n",
       "      <td>60.0</td>\n",
       "      <td>55.0</td>\n",
       "      <td>74.0</td>\n",
       "      <td>71.0</td>\n",
       "    </tr>\n",
       "    <tr>\n",
       "      <th>1081</th>\n",
       "      <td>La libertad y la seguridad sexual</td>\n",
       "      <td>Violación equiparada</td>\n",
       "      <td>Violación equiparada</td>\n",
       "      <td>Nayarit</td>\n",
       "      <td>2.0</td>\n",
       "      <td>2.0</td>\n",
       "      <td>1.0</td>\n",
       "      <td>3.0</td>\n",
       "      <td>1.0</td>\n",
       "      <td>1.0</td>\n",
       "      <td>1.0</td>\n",
       "      <td>5.0</td>\n",
       "      <td>1.0</td>\n",
       "      <td>3.0</td>\n",
       "      <td>NaN</td>\n",
       "      <td>1.0</td>\n",
       "    </tr>\n",
       "    <tr>\n",
       "      <th>728</th>\n",
       "      <td>La libertad y la seguridad sexual</td>\n",
       "      <td>Incesto</td>\n",
       "      <td>Incesto</td>\n",
       "      <td>Guerrero</td>\n",
       "      <td>NaN</td>\n",
       "      <td>NaN</td>\n",
       "      <td>NaN</td>\n",
       "      <td>NaN</td>\n",
       "      <td>NaN</td>\n",
       "      <td>NaN</td>\n",
       "      <td>NaN</td>\n",
       "      <td>NaN</td>\n",
       "      <td>NaN</td>\n",
       "      <td>NaN</td>\n",
       "      <td>NaN</td>\n",
       "      <td>NaN</td>\n",
       "    </tr>\n",
       "    <tr>\n",
       "      <th>412</th>\n",
       "      <td>Otros</td>\n",
       "      <td>Otros delitos del Fuero Común</td>\n",
       "      <td>Otros delitos del Fuero Común</td>\n",
       "      <td>Colima</td>\n",
       "      <td>125.0</td>\n",
       "      <td>101.0</td>\n",
       "      <td>102.0</td>\n",
       "      <td>118.0</td>\n",
       "      <td>121.0</td>\n",
       "      <td>119.0</td>\n",
       "      <td>106.0</td>\n",
       "      <td>134.0</td>\n",
       "      <td>126.0</td>\n",
       "      <td>152.0</td>\n",
       "      <td>110.0</td>\n",
       "      <td>127.0</td>\n",
       "    </tr>\n",
       "    <tr>\n",
       "      <th>1212</th>\n",
       "      <td>El patrimonio</td>\n",
       "      <td>Robo total</td>\n",
       "      <td>Robo a negocio</td>\n",
       "      <td>Oaxaca</td>\n",
       "      <td>93.0</td>\n",
       "      <td>78.0</td>\n",
       "      <td>70.0</td>\n",
       "      <td>94.0</td>\n",
       "      <td>84.0</td>\n",
       "      <td>64.0</td>\n",
       "      <td>56.0</td>\n",
       "      <td>59.0</td>\n",
       "      <td>42.0</td>\n",
       "      <td>71.0</td>\n",
       "      <td>70.0</td>\n",
       "      <td>87.0</td>\n",
       "    </tr>\n",
       "    <tr>\n",
       "      <th>572</th>\n",
       "      <td>El patrimonio</td>\n",
       "      <td>Otros delitos contra el patrimonio</td>\n",
       "      <td>Otros delitos contra el patrimonio</td>\n",
       "      <td>CDMX</td>\n",
       "      <td>232.0</td>\n",
       "      <td>276.0</td>\n",
       "      <td>297.0</td>\n",
       "      <td>339.0</td>\n",
       "      <td>325.0</td>\n",
       "      <td>299.0</td>\n",
       "      <td>316.0</td>\n",
       "      <td>298.0</td>\n",
       "      <td>270.0</td>\n",
       "      <td>301.0</td>\n",
       "      <td>238.0</td>\n",
       "      <td>206.0</td>\n",
       "    </tr>\n",
       "    <tr>\n",
       "      <th>117</th>\n",
       "      <td>Otros</td>\n",
       "      <td>Otros delitos del Fuero Común</td>\n",
       "      <td>Otros delitos del Fuero Común</td>\n",
       "      <td>Aguascalientes</td>\n",
       "      <td>287.0</td>\n",
       "      <td>405.0</td>\n",
       "      <td>413.0</td>\n",
       "      <td>371.0</td>\n",
       "      <td>404.0</td>\n",
       "      <td>351.0</td>\n",
       "      <td>408.0</td>\n",
       "      <td>387.0</td>\n",
       "      <td>360.0</td>\n",
       "      <td>364.0</td>\n",
       "      <td>365.0</td>\n",
       "      <td>338.0</td>\n",
       "    </tr>\n",
       "    <tr>\n",
       "      <th>140</th>\n",
       "      <td>El patrimonio</td>\n",
       "      <td>Robo total</td>\n",
       "      <td>Robo a casa habitación</td>\n",
       "      <td>Baja California</td>\n",
       "      <td>260.0</td>\n",
       "      <td>279.0</td>\n",
       "      <td>220.0</td>\n",
       "      <td>273.0</td>\n",
       "      <td>226.0</td>\n",
       "      <td>184.0</td>\n",
       "      <td>197.0</td>\n",
       "      <td>201.0</td>\n",
       "      <td>173.0</td>\n",
       "      <td>178.0</td>\n",
       "      <td>131.0</td>\n",
       "      <td>133.0</td>\n",
       "    </tr>\n",
       "    <tr>\n",
       "      <th>1906</th>\n",
       "      <td>La libertad y la seguridad sexual</td>\n",
       "      <td>Violación simple</td>\n",
       "      <td>Violación simple</td>\n",
       "      <td>Zacatecas</td>\n",
       "      <td>10.0</td>\n",
       "      <td>10.0</td>\n",
       "      <td>13.0</td>\n",
       "      <td>15.0</td>\n",
       "      <td>20.0</td>\n",
       "      <td>13.0</td>\n",
       "      <td>15.0</td>\n",
       "      <td>13.0</td>\n",
       "      <td>16.0</td>\n",
       "      <td>19.0</td>\n",
       "      <td>18.0</td>\n",
       "      <td>11.0</td>\n",
       "    </tr>\n",
       "  </tbody>\n",
       "</table>\n",
       "</div>"
      ],
      "text/plain": [
       "                 Bien_jurídico_afectado                         Tipo_Delito  \\\n",
       "42                           La familia                  Violencia familiar   \n",
       "5               La vida y la Integridad                              Aborto   \n",
       "1081  La libertad y la seguridad sexual                Violación equiparada   \n",
       "728   La libertad y la seguridad sexual                             Incesto   \n",
       "412                               Otros       Otros delitos del Fuero Común   \n",
       "1212                      El patrimonio                          Robo total   \n",
       "572                       El patrimonio  Otros delitos contra el patrimonio   \n",
       "117                               Otros       Otros delitos del Fuero Común   \n",
       "140                       El patrimonio                          Robo total   \n",
       "1906  La libertad y la seguridad sexual                    Violación simple   \n",
       "\n",
       "                                 Subtipo           Entidad    Enero  Febrero  \\\n",
       "42                    Violencia familiar          Nacional  20818.0  21621.0   \n",
       "5                                 Aborto          Nacional     83.0     64.0   \n",
       "1081                Violación equiparada           Nayarit      2.0      2.0   \n",
       "728                              Incesto          Guerrero      NaN      NaN   \n",
       "412        Otros delitos del Fuero Común            Colima    125.0    101.0   \n",
       "1212                      Robo a negocio            Oaxaca     93.0     78.0   \n",
       "572   Otros delitos contra el patrimonio              CDMX    232.0    276.0   \n",
       "117        Otros delitos del Fuero Común    Aguascalientes    287.0    405.0   \n",
       "140               Robo a casa habitación  Baja California     260.0    279.0   \n",
       "1906                    Violación simple         Zacatecas     10.0     10.0   \n",
       "\n",
       "        Marzo    Abril     Mayo    Junio    Julio   Agosto  Septiembre  \\\n",
       "42    23943.0  25449.0  27509.0  24162.0  23875.0  23634.0     23612.0   \n",
       "5        48.0     64.0     75.0     62.0     63.0     65.0        60.0   \n",
       "1081      1.0      3.0      1.0      1.0      1.0      5.0         1.0   \n",
       "728       NaN      NaN      NaN      NaN      NaN      NaN         NaN   \n",
       "412     102.0    118.0    121.0    119.0    106.0    134.0       126.0   \n",
       "1212     70.0     94.0     84.0     64.0     56.0     59.0        42.0   \n",
       "572     297.0    339.0    325.0    299.0    316.0    298.0       270.0   \n",
       "117     413.0    371.0    404.0    351.0    408.0    387.0       360.0   \n",
       "140     220.0    273.0    226.0    184.0    197.0    201.0       173.0   \n",
       "1906     13.0     15.0     20.0     13.0     15.0     13.0        16.0   \n",
       "\n",
       "      Octubre  Noviembre  Diciembre  \n",
       "42    23042.0    21587.0    19026.0  \n",
       "5        55.0       74.0       71.0  \n",
       "1081      3.0        NaN        1.0  \n",
       "728       NaN        NaN        NaN  \n",
       "412     152.0      110.0      127.0  \n",
       "1212     71.0       70.0       87.0  \n",
       "572     301.0      238.0      206.0  \n",
       "117     364.0      365.0      338.0  \n",
       "140     178.0      131.0      133.0  \n",
       "1906     19.0       18.0       11.0  "
      ]
     },
     "execution_count": 5,
     "metadata": {},
     "output_type": "execute_result"
    }
   ],
   "source": [
    "df.sample(10)"
   ]
  },
  {
   "cell_type": "code",
   "execution_count": 6,
   "id": "3de1608f",
   "metadata": {},
   "outputs": [
    {
     "data": {
      "text/plain": [
       "Bien_jurídico_afectado     object\n",
       "Tipo_Delito                object\n",
       "Subtipo                    object\n",
       "Entidad                    object\n",
       "Enero                     float64\n",
       "Febrero                   float64\n",
       "Marzo                     float64\n",
       "Abril                     float64\n",
       "Mayo                      float64\n",
       "Junio                     float64\n",
       "Julio                     float64\n",
       "Agosto                    float64\n",
       "Septiembre                float64\n",
       "Octubre                   float64\n",
       "Noviembre                 float64\n",
       "Diciembre                 float64\n",
       "dtype: object"
      ]
     },
     "execution_count": 6,
     "metadata": {},
     "output_type": "execute_result"
    }
   ],
   "source": [
    "df.dtypes"
   ]
  },
  {
   "cell_type": "code",
   "execution_count": 7,
   "id": "c57cc39d",
   "metadata": {},
   "outputs": [
    {
     "data": {
      "text/plain": [
       "(1947, 16)"
      ]
     },
     "execution_count": 7,
     "metadata": {},
     "output_type": "execute_result"
    }
   ],
   "source": [
    "df.shape"
   ]
  },
  {
   "cell_type": "code",
   "execution_count": 8,
   "id": "7a615802",
   "metadata": {},
   "outputs": [
    {
     "name": "stdout",
     "output_type": "stream",
     "text": [
      "<class 'pandas.core.frame.DataFrame'>\n",
      "RangeIndex: 1947 entries, 0 to 1946\n",
      "Data columns (total 16 columns):\n",
      " #   Column                  Non-Null Count  Dtype  \n",
      "---  ------                  --------------  -----  \n",
      " 0   Bien_jurídico_afectado  1947 non-null   object \n",
      " 1   Tipo_Delito             1947 non-null   object \n",
      " 2   Subtipo                 1947 non-null   object \n",
      " 3   Entidad                 1947 non-null   object \n",
      " 4   Enero                   1365 non-null   float64\n",
      " 5   Febrero                 1373 non-null   float64\n",
      " 6   Marzo                   1383 non-null   float64\n",
      " 7   Abril                   1412 non-null   float64\n",
      " 8   Mayo                    1399 non-null   float64\n",
      " 9   Junio                   1382 non-null   float64\n",
      " 10  Julio                   1365 non-null   float64\n",
      " 11  Agosto                  1370 non-null   float64\n",
      " 12  Septiembre              1372 non-null   float64\n",
      " 13  Octubre                 1371 non-null   float64\n",
      " 14  Noviembre               1370 non-null   float64\n",
      " 15  Diciembre               1354 non-null   float64\n",
      "dtypes: float64(12), object(4)\n",
      "memory usage: 243.5+ KB\n"
     ]
    }
   ],
   "source": [
    "df.info()"
   ]
  },
  {
   "cell_type": "code",
   "execution_count": 9,
   "id": "5a62346f",
   "metadata": {},
   "outputs": [
    {
     "name": "stdout",
     "output_type": "stream",
     "text": [
      "Tenemos  6848 valores nulos\n"
     ]
    }
   ],
   "source": [
    "df.isnull().sum()\n",
    "df.isnull().sum().sum()\n",
    "print('Tenemos ', df.isnull().sum().sum(), 'valores nulos')"
   ]
  },
  {
   "cell_type": "markdown",
   "id": "fc6048bb",
   "metadata": {},
   "source": [
    "### **Resumen de la exploración**\n",
    "\n",
    "Después de revisar el **DataFrame** sé que tengo 16 columnas que van desde una clasificación general a una particular que son\n",
    "\n",
    "- 'Bien_jurídico_afectado'\n",
    "- 'Tipo_Delito'\n",
    "- 'Subtipo'\n",
    "\n",
    "Seguido de una columna de 'entidad' que corresponde a la entidad federativa en que se cometen los crímenes.\n",
    "y después 12 columnas que corresponden a los meses del año.\n",
    "\n",
    "Sé que tengo 1,947 filas. \n",
    "\n",
    "Sé que tengo datos nulos que debo reemplazar por ceros. \n",
    "\n",
    "También sé que el tipo de dato que se cargó en el **DataFrame** es correcto pues los números están como 'float64' y los textos como 'object'.\n",
    "\n",
    "Por lo que prácticamente la única limpieza que voy a realizar es en los datos nulos. \n"
   ]
  },
  {
   "cell_type": "markdown",
   "id": "648d3eb0",
   "metadata": {},
   "source": [
    "### **Limpieza de Datos**"
   ]
  },
  {
   "cell_type": "markdown",
   "id": "e9d9ce04",
   "metadata": {},
   "source": [
    "Voy a reemplazar 'NaN' o Not a Number por 0 (cero)"
   ]
  },
  {
   "cell_type": "code",
   "execution_count": 10,
   "id": "f796e8ac",
   "metadata": {},
   "outputs": [],
   "source": [
    "df.fillna(0, inplace=True)"
   ]
  },
  {
   "cell_type": "code",
   "execution_count": 11,
   "id": "1f97a041",
   "metadata": {},
   "outputs": [
    {
     "data": {
      "text/html": [
       "<div>\n",
       "<style scoped>\n",
       "    .dataframe tbody tr th:only-of-type {\n",
       "        vertical-align: middle;\n",
       "    }\n",
       "\n",
       "    .dataframe tbody tr th {\n",
       "        vertical-align: top;\n",
       "    }\n",
       "\n",
       "    .dataframe thead th {\n",
       "        text-align: right;\n",
       "    }\n",
       "</style>\n",
       "<table border=\"1\" class=\"dataframe\">\n",
       "  <thead>\n",
       "    <tr style=\"text-align: right;\">\n",
       "      <th></th>\n",
       "      <th>Bien_jurídico_afectado</th>\n",
       "      <th>Tipo_Delito</th>\n",
       "      <th>Subtipo</th>\n",
       "      <th>Entidad</th>\n",
       "      <th>Enero</th>\n",
       "      <th>Febrero</th>\n",
       "      <th>Marzo</th>\n",
       "      <th>Abril</th>\n",
       "      <th>Mayo</th>\n",
       "      <th>Junio</th>\n",
       "      <th>Julio</th>\n",
       "      <th>Agosto</th>\n",
       "      <th>Septiembre</th>\n",
       "      <th>Octubre</th>\n",
       "      <th>Noviembre</th>\n",
       "      <th>Diciembre</th>\n",
       "    </tr>\n",
       "  </thead>\n",
       "  <tbody>\n",
       "    <tr>\n",
       "      <th>38</th>\n",
       "      <td>El patrimonio</td>\n",
       "      <td>Extorsión</td>\n",
       "      <td>Extorsión</td>\n",
       "      <td>Nacional</td>\n",
       "      <td>851.0</td>\n",
       "      <td>875.0</td>\n",
       "      <td>801.0</td>\n",
       "      <td>936.0</td>\n",
       "      <td>874.0</td>\n",
       "      <td>812.0</td>\n",
       "      <td>818.0</td>\n",
       "      <td>855.0</td>\n",
       "      <td>853.0</td>\n",
       "      <td>895.0</td>\n",
       "      <td>880.0</td>\n",
       "      <td>790.0</td>\n",
       "    </tr>\n",
       "    <tr>\n",
       "      <th>233</th>\n",
       "      <td>Otros</td>\n",
       "      <td>Delitos cometidos por servidores públicos</td>\n",
       "      <td>Delitos cometidos por servidores públicos</td>\n",
       "      <td>Baja California Sur</td>\n",
       "      <td>25.0</td>\n",
       "      <td>34.0</td>\n",
       "      <td>19.0</td>\n",
       "      <td>28.0</td>\n",
       "      <td>25.0</td>\n",
       "      <td>33.0</td>\n",
       "      <td>27.0</td>\n",
       "      <td>26.0</td>\n",
       "      <td>35.0</td>\n",
       "      <td>25.0</td>\n",
       "      <td>21.0</td>\n",
       "      <td>20.0</td>\n",
       "    </tr>\n",
       "    <tr>\n",
       "      <th>1524</th>\n",
       "      <td>Otros</td>\n",
       "      <td>Narcomenudeo</td>\n",
       "      <td>Narcomenudeo</td>\n",
       "      <td>Sinaloa</td>\n",
       "      <td>19.0</td>\n",
       "      <td>20.0</td>\n",
       "      <td>13.0</td>\n",
       "      <td>23.0</td>\n",
       "      <td>21.0</td>\n",
       "      <td>20.0</td>\n",
       "      <td>14.0</td>\n",
       "      <td>20.0</td>\n",
       "      <td>13.0</td>\n",
       "      <td>11.0</td>\n",
       "      <td>13.0</td>\n",
       "      <td>22.0</td>\n",
       "    </tr>\n",
       "    <tr>\n",
       "      <th>458</th>\n",
       "      <td>La familia</td>\n",
       "      <td>Otros delitos contra la familia</td>\n",
       "      <td>Otros delitos contra la familia</td>\n",
       "      <td>Chiapas</td>\n",
       "      <td>0.0</td>\n",
       "      <td>0.0</td>\n",
       "      <td>0.0</td>\n",
       "      <td>0.0</td>\n",
       "      <td>0.0</td>\n",
       "      <td>0.0</td>\n",
       "      <td>0.0</td>\n",
       "      <td>0.0</td>\n",
       "      <td>0.0</td>\n",
       "      <td>0.0</td>\n",
       "      <td>0.0</td>\n",
       "      <td>0.0</td>\n",
       "    </tr>\n",
       "    <tr>\n",
       "      <th>1942</th>\n",
       "      <td>Otros</td>\n",
       "      <td>Falsificación</td>\n",
       "      <td>Falsificación</td>\n",
       "      <td>Zacatecas</td>\n",
       "      <td>3.0</td>\n",
       "      <td>9.0</td>\n",
       "      <td>16.0</td>\n",
       "      <td>14.0</td>\n",
       "      <td>8.0</td>\n",
       "      <td>8.0</td>\n",
       "      <td>8.0</td>\n",
       "      <td>10.0</td>\n",
       "      <td>11.0</td>\n",
       "      <td>19.0</td>\n",
       "      <td>9.0</td>\n",
       "      <td>5.0</td>\n",
       "    </tr>\n",
       "    <tr>\n",
       "      <th>670</th>\n",
       "      <td>La libertad y la seguridad sexual</td>\n",
       "      <td>Otros delitos que atentan contra la libertad y...</td>\n",
       "      <td>Otros delitos que atentan contra la libertad y...</td>\n",
       "      <td>Guanajuato</td>\n",
       "      <td>0.0</td>\n",
       "      <td>4.0</td>\n",
       "      <td>4.0</td>\n",
       "      <td>3.0</td>\n",
       "      <td>1.0</td>\n",
       "      <td>1.0</td>\n",
       "      <td>3.0</td>\n",
       "      <td>1.0</td>\n",
       "      <td>1.0</td>\n",
       "      <td>0.0</td>\n",
       "      <td>1.0</td>\n",
       "      <td>3.0</td>\n",
       "    </tr>\n",
       "    <tr>\n",
       "      <th>1123</th>\n",
       "      <td>La vida y la Integridad</td>\n",
       "      <td>Lesiones</td>\n",
       "      <td>Lesiones dolosas</td>\n",
       "      <td>Nuevo León</td>\n",
       "      <td>332.0</td>\n",
       "      <td>430.0</td>\n",
       "      <td>404.0</td>\n",
       "      <td>619.0</td>\n",
       "      <td>564.0</td>\n",
       "      <td>463.0</td>\n",
       "      <td>513.0</td>\n",
       "      <td>444.0</td>\n",
       "      <td>549.0</td>\n",
       "      <td>513.0</td>\n",
       "      <td>373.0</td>\n",
       "      <td>292.0</td>\n",
       "    </tr>\n",
       "    <tr>\n",
       "      <th>1450</th>\n",
       "      <td>El patrimonio</td>\n",
       "      <td>Robo total</td>\n",
       "      <td>Robo de maquinaria</td>\n",
       "      <td>San Luis Potosí</td>\n",
       "      <td>2.0</td>\n",
       "      <td>6.0</td>\n",
       "      <td>5.0</td>\n",
       "      <td>0.0</td>\n",
       "      <td>2.0</td>\n",
       "      <td>6.0</td>\n",
       "      <td>3.0</td>\n",
       "      <td>4.0</td>\n",
       "      <td>6.0</td>\n",
       "      <td>2.0</td>\n",
       "      <td>7.0</td>\n",
       "      <td>8.0</td>\n",
       "    </tr>\n",
       "    <tr>\n",
       "      <th>344</th>\n",
       "      <td>Otros</td>\n",
       "      <td>Narcomenudeo</td>\n",
       "      <td>Narcomenudeo</td>\n",
       "      <td>Coahuila</td>\n",
       "      <td>584.0</td>\n",
       "      <td>854.0</td>\n",
       "      <td>655.0</td>\n",
       "      <td>782.0</td>\n",
       "      <td>696.0</td>\n",
       "      <td>723.0</td>\n",
       "      <td>790.0</td>\n",
       "      <td>1027.0</td>\n",
       "      <td>627.0</td>\n",
       "      <td>841.0</td>\n",
       "      <td>657.0</td>\n",
       "      <td>495.0</td>\n",
       "    </tr>\n",
       "    <tr>\n",
       "      <th>212</th>\n",
       "      <td>El patrimonio</td>\n",
       "      <td>Robo total</td>\n",
       "      <td>Otros robos</td>\n",
       "      <td>Baja California Sur</td>\n",
       "      <td>259.0</td>\n",
       "      <td>221.0</td>\n",
       "      <td>222.0</td>\n",
       "      <td>250.0</td>\n",
       "      <td>265.0</td>\n",
       "      <td>260.0</td>\n",
       "      <td>310.0</td>\n",
       "      <td>317.0</td>\n",
       "      <td>257.0</td>\n",
       "      <td>311.0</td>\n",
       "      <td>389.0</td>\n",
       "      <td>274.0</td>\n",
       "    </tr>\n",
       "  </tbody>\n",
       "</table>\n",
       "</div>"
      ],
      "text/plain": [
       "                 Bien_jurídico_afectado  \\\n",
       "38                        El patrimonio   \n",
       "233                               Otros   \n",
       "1524                              Otros   \n",
       "458                          La familia   \n",
       "1942                              Otros   \n",
       "670   La libertad y la seguridad sexual   \n",
       "1123            La vida y la Integridad   \n",
       "1450                      El patrimonio   \n",
       "344                               Otros   \n",
       "212                       El patrimonio   \n",
       "\n",
       "                                            Tipo_Delito  \\\n",
       "38                                            Extorsión   \n",
       "233           Delitos cometidos por servidores públicos   \n",
       "1524                                       Narcomenudeo   \n",
       "458                     Otros delitos contra la familia   \n",
       "1942                                      Falsificación   \n",
       "670   Otros delitos que atentan contra la libertad y...   \n",
       "1123                                           Lesiones   \n",
       "1450                                         Robo total   \n",
       "344                                        Narcomenudeo   \n",
       "212                                          Robo total   \n",
       "\n",
       "                                                Subtipo              Entidad  \\\n",
       "38                                            Extorsión             Nacional   \n",
       "233           Delitos cometidos por servidores públicos  Baja California Sur   \n",
       "1524                                       Narcomenudeo              Sinaloa   \n",
       "458                     Otros delitos contra la familia              Chiapas   \n",
       "1942                                      Falsificación            Zacatecas   \n",
       "670   Otros delitos que atentan contra la libertad y...           Guanajuato   \n",
       "1123                                   Lesiones dolosas           Nuevo León   \n",
       "1450                                 Robo de maquinaria      San Luis Potosí   \n",
       "344                                        Narcomenudeo             Coahuila   \n",
       "212                                         Otros robos  Baja California Sur   \n",
       "\n",
       "      Enero  Febrero  Marzo  Abril   Mayo  Junio  Julio  Agosto  Septiembre  \\\n",
       "38    851.0    875.0  801.0  936.0  874.0  812.0  818.0   855.0       853.0   \n",
       "233    25.0     34.0   19.0   28.0   25.0   33.0   27.0    26.0        35.0   \n",
       "1524   19.0     20.0   13.0   23.0   21.0   20.0   14.0    20.0        13.0   \n",
       "458     0.0      0.0    0.0    0.0    0.0    0.0    0.0     0.0         0.0   \n",
       "1942    3.0      9.0   16.0   14.0    8.0    8.0    8.0    10.0        11.0   \n",
       "670     0.0      4.0    4.0    3.0    1.0    1.0    3.0     1.0         1.0   \n",
       "1123  332.0    430.0  404.0  619.0  564.0  463.0  513.0   444.0       549.0   \n",
       "1450    2.0      6.0    5.0    0.0    2.0    6.0    3.0     4.0         6.0   \n",
       "344   584.0    854.0  655.0  782.0  696.0  723.0  790.0  1027.0       627.0   \n",
       "212   259.0    221.0  222.0  250.0  265.0  260.0  310.0   317.0       257.0   \n",
       "\n",
       "      Octubre  Noviembre  Diciembre  \n",
       "38      895.0      880.0      790.0  \n",
       "233      25.0       21.0       20.0  \n",
       "1524     11.0       13.0       22.0  \n",
       "458       0.0        0.0        0.0  \n",
       "1942     19.0        9.0        5.0  \n",
       "670       0.0        1.0        3.0  \n",
       "1123    513.0      373.0      292.0  \n",
       "1450      2.0        7.0        8.0  \n",
       "344     841.0      657.0      495.0  \n",
       "212     311.0      389.0      274.0  "
      ]
     },
     "execution_count": 11,
     "metadata": {},
     "output_type": "execute_result"
    }
   ],
   "source": [
    "df.sample(10)"
   ]
  },
  {
   "cell_type": "code",
   "execution_count": 12,
   "id": "45e72ba2",
   "metadata": {},
   "outputs": [
    {
     "data": {
      "text/html": [
       "<div>\n",
       "<style scoped>\n",
       "    .dataframe tbody tr th:only-of-type {\n",
       "        vertical-align: middle;\n",
       "    }\n",
       "\n",
       "    .dataframe tbody tr th {\n",
       "        vertical-align: top;\n",
       "    }\n",
       "\n",
       "    .dataframe thead th {\n",
       "        text-align: right;\n",
       "    }\n",
       "</style>\n",
       "<table border=\"1\" class=\"dataframe\">\n",
       "  <thead>\n",
       "    <tr style=\"text-align: right;\">\n",
       "      <th></th>\n",
       "      <th>Bien_jurídico_afectado</th>\n",
       "      <th>Tipo_Delito</th>\n",
       "      <th>Subtipo</th>\n",
       "      <th>Entidad</th>\n",
       "      <th>Enero</th>\n",
       "      <th>Febrero</th>\n",
       "      <th>Marzo</th>\n",
       "      <th>Abril</th>\n",
       "      <th>Mayo</th>\n",
       "      <th>Junio</th>\n",
       "      <th>Julio</th>\n",
       "      <th>Agosto</th>\n",
       "      <th>Septiembre</th>\n",
       "      <th>Octubre</th>\n",
       "      <th>Noviembre</th>\n",
       "      <th>Diciembre</th>\n",
       "    </tr>\n",
       "  </thead>\n",
       "  <tbody>\n",
       "  </tbody>\n",
       "</table>\n",
       "</div>"
      ],
      "text/plain": [
       "Empty DataFrame\n",
       "Columns: [Bien_jurídico_afectado, Tipo_Delito, Subtipo, Entidad, Enero, Febrero, Marzo, Abril, Mayo, Junio, Julio, Agosto, Septiembre, Octubre, Noviembre, Diciembre]\n",
       "Index: []"
      ]
     },
     "execution_count": 12,
     "metadata": {},
     "output_type": "execute_result"
    }
   ],
   "source": [
    "df[df['Enero'].isnull()]"
   ]
  },
  {
   "cell_type": "markdown",
   "id": "ac415da8",
   "metadata": {},
   "source": [
    "Ya verifiqué mediante la función de sample y mediante la función de .isnull que no tengamos datos NaN."
   ]
  },
  {
   "cell_type": "markdown",
   "id": "c6c14f0a",
   "metadata": {},
   "source": [
    "Me di cuenta que necesitaba una columna con la suma de todos los meses"
   ]
  },
  {
   "cell_type": "code",
   "execution_count": 13,
   "id": "833951de",
   "metadata": {},
   "outputs": [
    {
     "data": {
      "text/html": [
       "<div>\n",
       "<style scoped>\n",
       "    .dataframe tbody tr th:only-of-type {\n",
       "        vertical-align: middle;\n",
       "    }\n",
       "\n",
       "    .dataframe tbody tr th {\n",
       "        vertical-align: top;\n",
       "    }\n",
       "\n",
       "    .dataframe thead th {\n",
       "        text-align: right;\n",
       "    }\n",
       "</style>\n",
       "<table border=\"1\" class=\"dataframe\">\n",
       "  <thead>\n",
       "    <tr style=\"text-align: right;\">\n",
       "      <th></th>\n",
       "      <th>Bien_jurídico_afectado</th>\n",
       "      <th>Tipo_Delito</th>\n",
       "      <th>Subtipo</th>\n",
       "      <th>Entidad</th>\n",
       "      <th>Enero</th>\n",
       "      <th>Febrero</th>\n",
       "      <th>Marzo</th>\n",
       "      <th>Abril</th>\n",
       "      <th>Mayo</th>\n",
       "      <th>Junio</th>\n",
       "      <th>Julio</th>\n",
       "      <th>Agosto</th>\n",
       "      <th>Septiembre</th>\n",
       "      <th>Octubre</th>\n",
       "      <th>Noviembre</th>\n",
       "      <th>Diciembre</th>\n",
       "      <th>Total</th>\n",
       "    </tr>\n",
       "  </thead>\n",
       "  <tbody>\n",
       "    <tr>\n",
       "      <th>1356</th>\n",
       "      <td>Otros</td>\n",
       "      <td>Otros delitos del Fuero Común</td>\n",
       "      <td>Otros delitos del Fuero Común</td>\n",
       "      <td>Queretaro</td>\n",
       "      <td>370.0</td>\n",
       "      <td>334.0</td>\n",
       "      <td>367.0</td>\n",
       "      <td>345.0</td>\n",
       "      <td>351.0</td>\n",
       "      <td>362.0</td>\n",
       "      <td>383.0</td>\n",
       "      <td>398.0</td>\n",
       "      <td>347.0</td>\n",
       "      <td>366.0</td>\n",
       "      <td>318.0</td>\n",
       "      <td>297.0</td>\n",
       "      <td>4238.0</td>\n",
       "    </tr>\n",
       "    <tr>\n",
       "      <th>1268</th>\n",
       "      <td>El patrimonio</td>\n",
       "      <td>Robo total</td>\n",
       "      <td>Robo en transporte público colectivo</td>\n",
       "      <td>Puebla</td>\n",
       "      <td>85.0</td>\n",
       "      <td>90.0</td>\n",
       "      <td>98.0</td>\n",
       "      <td>122.0</td>\n",
       "      <td>103.0</td>\n",
       "      <td>113.0</td>\n",
       "      <td>128.0</td>\n",
       "      <td>155.0</td>\n",
       "      <td>159.0</td>\n",
       "      <td>130.0</td>\n",
       "      <td>118.0</td>\n",
       "      <td>102.0</td>\n",
       "      <td>1403.0</td>\n",
       "    </tr>\n",
       "    <tr>\n",
       "      <th>1541</th>\n",
       "      <td>La libertad personal</td>\n",
       "      <td>Secuestro</td>\n",
       "      <td>Secuestro extorsivo</td>\n",
       "      <td>Sonora</td>\n",
       "      <td>0.0</td>\n",
       "      <td>1.0</td>\n",
       "      <td>0.0</td>\n",
       "      <td>1.0</td>\n",
       "      <td>1.0</td>\n",
       "      <td>0.0</td>\n",
       "      <td>0.0</td>\n",
       "      <td>3.0</td>\n",
       "      <td>1.0</td>\n",
       "      <td>0.0</td>\n",
       "      <td>1.0</td>\n",
       "      <td>2.0</td>\n",
       "      <td>10.0</td>\n",
       "    </tr>\n",
       "  </tbody>\n",
       "</table>\n",
       "</div>"
      ],
      "text/plain": [
       "     Bien_jurídico_afectado                    Tipo_Delito  \\\n",
       "1356                  Otros  Otros delitos del Fuero Común   \n",
       "1268          El patrimonio                     Robo total   \n",
       "1541   La libertad personal                      Secuestro   \n",
       "\n",
       "                                   Subtipo    Entidad  Enero  Febrero  Marzo  \\\n",
       "1356         Otros delitos del Fuero Común  Queretaro  370.0    334.0  367.0   \n",
       "1268  Robo en transporte público colectivo     Puebla   85.0     90.0   98.0   \n",
       "1541                   Secuestro extorsivo     Sonora    0.0      1.0    0.0   \n",
       "\n",
       "      Abril   Mayo  Junio  Julio  Agosto  Septiembre  Octubre  Noviembre  \\\n",
       "1356  345.0  351.0  362.0  383.0   398.0       347.0    366.0      318.0   \n",
       "1268  122.0  103.0  113.0  128.0   155.0       159.0    130.0      118.0   \n",
       "1541    1.0    1.0    0.0    0.0     3.0         1.0      0.0        1.0   \n",
       "\n",
       "      Diciembre   Total  \n",
       "1356      297.0  4238.0  \n",
       "1268      102.0  1403.0  \n",
       "1541        2.0    10.0  "
      ]
     },
     "execution_count": 13,
     "metadata": {},
     "output_type": "execute_result"
    }
   ],
   "source": [
    "df['Total'] = df[['Enero', 'Febrero', 'Marzo', 'Abril', 'Mayo', 'Junio', 'Julio', 'Agosto', 'Septiembre', 'Octubre', 'Noviembre', 'Diciembre']].sum(axis=1)\n",
    "df.sample(3)"
   ]
  },
  {
   "cell_type": "markdown",
   "id": "32c64e39",
   "metadata": {},
   "source": [
    "### **Análisis Exploratorio**"
   ]
  },
  {
   "cell_type": "markdown",
   "id": "2f1db6b8",
   "metadata": {},
   "source": [
    "Después de limpiar los datos de mi **DataFrame** puedo entonces empezar a explorar la información. Por ejemplo, totales, promedios, máximos, mínimos, etc. de cada mes y de cada delito."
   ]
  },
  {
   "cell_type": "code",
   "execution_count": 14,
   "id": "06922638",
   "metadata": {},
   "outputs": [],
   "source": [
    "df_long = df.melt(\n",
    "    id_vars=['Bien_jurídico_afectado', 'Tipo_Delito', 'Subtipo', 'Entidad'],\n",
    "    value_vars=['Enero', 'Febrero', 'Marzo', 'Abril', 'Mayo', 'Junio', \n",
    "                'Julio', 'Agosto', 'Septiembre', 'Octubre', 'Noviembre', 'Diciembre'],\n",
    "    var_name='Mes',\n",
    "    value_name='Cantidad'\n",
    ")"
   ]
  },
  {
   "cell_type": "code",
   "execution_count": 15,
   "id": "eed42de3",
   "metadata": {},
   "outputs": [],
   "source": [
    "meses_es_en = {\n",
    "    'Enero': 'January',\n",
    "    'Febrero': 'February',\n",
    "    'Marzo': 'March',\n",
    "    'Abril': 'April',\n",
    "    'Mayo': 'May',\n",
    "    'Junio': 'June',\n",
    "    'Julio': 'July',\n",
    "    'Agosto': 'August',\n",
    "    'Septiembre': 'September',\n",
    "    'Octubre': 'October',\n",
    "    'Noviembre': 'November',\n",
    "    'Diciembre': 'December'\n",
    "}\n",
    "\n",
    "df_long['Mes_en'] = df_long['Mes'].map(meses_es_en)\n",
    "\n",
    "df_long['Año'] = 2024  \n",
    "df_long['Año-Mes'] = pd.to_datetime(df_long['Año'].astype(str) + '-' + df_long['Mes_en'], format='%Y-%B')\n",
    "\n",
    "promedios = df_long.groupby(['Entidad', 'Año-Mes'])['Cantidad'].mean().reset_index()"
   ]
  },
  {
   "cell_type": "markdown",
   "id": "9e2829df",
   "metadata": {},
   "source": [
    "### **Visualización**"
   ]
  },
  {
   "cell_type": "markdown",
   "id": "1a6790f5",
   "metadata": {},
   "source": [
    "Ya que la información tiene demasiadas variables, será más fácil analizarlo desde la visualización, comparando Categorías y subcategorías."
   ]
  },
  {
   "cell_type": "markdown",
   "id": "b33003fc",
   "metadata": {},
   "source": [
    "a) Número promedio de delitos agrupados por estado y mes de ocurrencia."
   ]
  },
  {
   "cell_type": "code",
   "execution_count": 16,
   "id": "cd615eb9",
   "metadata": {},
   "outputs": [
    {
     "data": {
      "application/vnd.plotly.v1+json": {
       "config": {
        "plotlyServerURL": "https://plot.ly"
       },
       "data": [
        {
         "alignmentgroup": "True",
         "hovertemplate": "Entidad=Aguascalientes<br>Año-Mes=%{x}<br>Cantidad=%{y}<extra></extra>",
         "legendgroup": "Aguascalientes",
         "marker": {
          "color": "#636efa",
          "pattern": {
           "shape": ""
          }
         },
         "name": "Aguascalientes",
         "offsetgroup": "Aguascalientes",
         "orientation": "v",
         "showlegend": true,
         "textposition": "auto",
         "type": "bar",
         "x": [
          "2024-01-01T00:00:00",
          "2024-02-01T00:00:00",
          "2024-03-01T00:00:00",
          "2024-04-01T00:00:00",
          "2024-05-01T00:00:00",
          "2024-06-01T00:00:00",
          "2024-07-01T00:00:00",
          "2024-08-01T00:00:00",
          "2024-09-01T00:00:00",
          "2024-10-01T00:00:00",
          "2024-11-01T00:00:00",
          "2024-12-01T00:00:00"
         ],
         "xaxis": "x",
         "y": [
          59.03389830508475,
          60.96610169491525,
          64.42372881355932,
          62.83050847457627,
          66.61016949152543,
          58.79661016949152,
          62.76271186440678,
          58.42372881355932,
          60.16949152542373,
          60.813559322033896,
          59.40677966101695,
          54.389830508474574
         ],
         "yaxis": "y"
        },
        {
         "alignmentgroup": "True",
         "hovertemplate": "Entidad=Baja California <br>Año-Mes=%{x}<br>Cantidad=%{y}<extra></extra>",
         "legendgroup": "Baja California ",
         "marker": {
          "color": "#EF553B",
          "pattern": {
           "shape": ""
          }
         },
         "name": "Baja California ",
         "offsetgroup": "Baja California ",
         "orientation": "v",
         "showlegend": true,
         "textposition": "auto",
         "type": "bar",
         "x": [
          "2024-01-01T00:00:00",
          "2024-02-01T00:00:00",
          "2024-03-01T00:00:00",
          "2024-04-01T00:00:00",
          "2024-05-01T00:00:00",
          "2024-06-01T00:00:00",
          "2024-07-01T00:00:00",
          "2024-08-01T00:00:00",
          "2024-09-01T00:00:00",
          "2024-10-01T00:00:00",
          "2024-11-01T00:00:00",
          "2024-12-01T00:00:00"
         ],
         "xaxis": "x",
         "y": [
          168.28813559322035,
          164.6271186440678,
          168,
          178.42372881355934,
          173.89830508474577,
          148.52542372881356,
          149.4915254237288,
          144.01694915254237,
          137.71186440677965,
          142.5593220338983,
          126.03389830508475,
          118.71186440677967
         ],
         "yaxis": "y"
        },
        {
         "alignmentgroup": "True",
         "hovertemplate": "Entidad=Baja California Sur<br>Año-Mes=%{x}<br>Cantidad=%{y}<extra></extra>",
         "legendgroup": "Baja California Sur",
         "marker": {
          "color": "#00cc96",
          "pattern": {
           "shape": ""
          }
         },
         "name": "Baja California Sur",
         "offsetgroup": "Baja California Sur",
         "orientation": "v",
         "showlegend": true,
         "textposition": "auto",
         "type": "bar",
         "x": [
          "2024-01-01T00:00:00",
          "2024-02-01T00:00:00",
          "2024-03-01T00:00:00",
          "2024-04-01T00:00:00",
          "2024-05-01T00:00:00",
          "2024-06-01T00:00:00",
          "2024-07-01T00:00:00",
          "2024-08-01T00:00:00",
          "2024-09-01T00:00:00",
          "2024-10-01T00:00:00",
          "2024-11-01T00:00:00",
          "2024-12-01T00:00:00"
         ],
         "xaxis": "x",
         "y": [
          32.08474576271186,
          32.067796610169495,
          31.915254237288135,
          35.30508474576271,
          36.898305084745765,
          34.86440677966102,
          40.389830508474574,
          38.03389830508475,
          36.47457627118644,
          39.067796610169495,
          34.389830508474574,
          32.23728813559322
         ],
         "yaxis": "y"
        },
        {
         "alignmentgroup": "True",
         "hovertemplate": "Entidad=CDMX<br>Año-Mes=%{x}<br>Cantidad=%{y}<extra></extra>",
         "legendgroup": "CDMX",
         "marker": {
          "color": "#ab63fa",
          "pattern": {
           "shape": ""
          }
         },
         "name": "CDMX",
         "offsetgroup": "CDMX",
         "orientation": "v",
         "showlegend": true,
         "textposition": "auto",
         "type": "bar",
         "x": [
          "2024-01-01T00:00:00",
          "2024-02-01T00:00:00",
          "2024-03-01T00:00:00",
          "2024-04-01T00:00:00",
          "2024-05-01T00:00:00",
          "2024-06-01T00:00:00",
          "2024-07-01T00:00:00",
          "2024-08-01T00:00:00",
          "2024-09-01T00:00:00",
          "2024-10-01T00:00:00",
          "2024-11-01T00:00:00",
          "2024-12-01T00:00:00"
         ],
         "xaxis": "x",
         "y": [
          300.9491525423729,
          309.3220338983051,
          329.40677966101697,
          329.76271186440675,
          345.77966101694915,
          318.50847457627117,
          322.45762711864404,
          316.4237288135593,
          305.2881355932203,
          313.9491525423729,
          302.5762711864407,
          274.23728813559325
         ],
         "yaxis": "y"
        },
        {
         "alignmentgroup": "True",
         "hovertemplate": "Entidad=Campeche<br>Año-Mes=%{x}<br>Cantidad=%{y}<extra></extra>",
         "legendgroup": "Campeche",
         "marker": {
          "color": "#FFA15A",
          "pattern": {
           "shape": ""
          }
         },
         "name": "Campeche",
         "offsetgroup": "Campeche",
         "orientation": "v",
         "showlegend": true,
         "textposition": "auto",
         "type": "bar",
         "x": [
          "2024-01-01T00:00:00",
          "2024-02-01T00:00:00",
          "2024-03-01T00:00:00",
          "2024-04-01T00:00:00",
          "2024-05-01T00:00:00",
          "2024-06-01T00:00:00",
          "2024-07-01T00:00:00",
          "2024-08-01T00:00:00",
          "2024-09-01T00:00:00",
          "2024-10-01T00:00:00",
          "2024-11-01T00:00:00",
          "2024-12-01T00:00:00"
         ],
         "xaxis": "x",
         "y": [
          25.76271186440678,
          25.508474576271187,
          28.016949152542374,
          27.033898305084747,
          29.372881355932204,
          23.23728813559322,
          12.677966101694915,
          8,
          7.627118644067797,
          7.6440677966101696,
          8.135593220338983,
          7.728813559322034
         ],
         "yaxis": "y"
        },
        {
         "alignmentgroup": "True",
         "hovertemplate": "Entidad=Chiapas<br>Año-Mes=%{x}<br>Cantidad=%{y}<extra></extra>",
         "legendgroup": "Chiapas",
         "marker": {
          "color": "#19d3f3",
          "pattern": {
           "shape": ""
          }
         },
         "name": "Chiapas",
         "offsetgroup": "Chiapas",
         "orientation": "v",
         "showlegend": true,
         "textposition": "auto",
         "type": "bar",
         "x": [
          "2024-01-01T00:00:00",
          "2024-02-01T00:00:00",
          "2024-03-01T00:00:00",
          "2024-04-01T00:00:00",
          "2024-05-01T00:00:00",
          "2024-06-01T00:00:00",
          "2024-07-01T00:00:00",
          "2024-08-01T00:00:00",
          "2024-09-01T00:00:00",
          "2024-10-01T00:00:00",
          "2024-11-01T00:00:00",
          "2024-12-01T00:00:00"
         ],
         "xaxis": "x",
         "y": [
          17.10169491525424,
          18.23728813559322,
          18.28813559322034,
          24.8135593220339,
          18.694915254237287,
          18.47457627118644,
          17.847457627118644,
          18.203389830508474,
          16.084745762711865,
          19.83050847457627,
          20.864406779661017,
          23.847457627118644
         ],
         "yaxis": "y"
        },
        {
         "alignmentgroup": "True",
         "hovertemplate": "Entidad=Chihuahua<br>Año-Mes=%{x}<br>Cantidad=%{y}<extra></extra>",
         "legendgroup": "Chihuahua",
         "marker": {
          "color": "#FF6692",
          "pattern": {
           "shape": ""
          }
         },
         "name": "Chihuahua",
         "offsetgroup": "Chihuahua",
         "orientation": "v",
         "showlegend": true,
         "textposition": "auto",
         "type": "bar",
         "x": [
          "2024-01-01T00:00:00",
          "2024-02-01T00:00:00",
          "2024-03-01T00:00:00",
          "2024-04-01T00:00:00",
          "2024-05-01T00:00:00",
          "2024-06-01T00:00:00",
          "2024-07-01T00:00:00",
          "2024-08-01T00:00:00",
          "2024-09-01T00:00:00",
          "2024-10-01T00:00:00",
          "2024-11-01T00:00:00",
          "2024-12-01T00:00:00"
         ],
         "xaxis": "x",
         "y": [
          108.55932203389831,
          101.22033898305085,
          105.50847457627118,
          113.52542372881356,
          122.7457627118644,
          116.22033898305085,
          127.69491525423729,
          117.59322033898304,
          112.72881355932203,
          116.49152542372882,
          100.27118644067797,
          92.67796610169492
         ],
         "yaxis": "y"
        },
        {
         "alignmentgroup": "True",
         "hovertemplate": "Entidad=Coahuila<br>Año-Mes=%{x}<br>Cantidad=%{y}<extra></extra>",
         "legendgroup": "Coahuila",
         "marker": {
          "color": "#B6E880",
          "pattern": {
           "shape": ""
          }
         },
         "name": "Coahuila",
         "offsetgroup": "Coahuila",
         "orientation": "v",
         "showlegend": true,
         "textposition": "auto",
         "type": "bar",
         "x": [
          "2024-01-01T00:00:00",
          "2024-02-01T00:00:00",
          "2024-03-01T00:00:00",
          "2024-04-01T00:00:00",
          "2024-05-01T00:00:00",
          "2024-06-01T00:00:00",
          "2024-07-01T00:00:00",
          "2024-08-01T00:00:00",
          "2024-09-01T00:00:00",
          "2024-10-01T00:00:00",
          "2024-11-01T00:00:00",
          "2024-12-01T00:00:00"
         ],
         "xaxis": "x",
         "y": [
          65.49152542372882,
          99.40677966101696,
          78.42372881355932,
          86.28813559322033,
          106.10169491525424,
          85.9322033898305,
          84.35593220338983,
          103.84745762711864,
          79.9322033898305,
          105.35593220338983,
          80.55932203389831,
          69
         ],
         "yaxis": "y"
        },
        {
         "alignmentgroup": "True",
         "hovertemplate": "Entidad=Colima<br>Año-Mes=%{x}<br>Cantidad=%{y}<extra></extra>",
         "legendgroup": "Colima",
         "marker": {
          "color": "#FF97FF",
          "pattern": {
           "shape": ""
          }
         },
         "name": "Colima",
         "offsetgroup": "Colima",
         "orientation": "v",
         "showlegend": true,
         "textposition": "auto",
         "type": "bar",
         "x": [
          "2024-01-01T00:00:00",
          "2024-02-01T00:00:00",
          "2024-03-01T00:00:00",
          "2024-04-01T00:00:00",
          "2024-05-01T00:00:00",
          "2024-06-01T00:00:00",
          "2024-07-01T00:00:00",
          "2024-08-01T00:00:00",
          "2024-09-01T00:00:00",
          "2024-10-01T00:00:00",
          "2024-11-01T00:00:00",
          "2024-12-01T00:00:00"
         ],
         "xaxis": "x",
         "y": [
          35.101694915254235,
          34.30508474576271,
          34.101694915254235,
          37.03389830508475,
          38.03389830508475,
          33.83050847457627,
          36.86440677966102,
          35.69491525423729,
          33.33898305084746,
          40.389830508474574,
          35.79661016949152,
          34.74576271186441
         ],
         "yaxis": "y"
        },
        {
         "alignmentgroup": "True",
         "hovertemplate": "Entidad=Durango<br>Año-Mes=%{x}<br>Cantidad=%{y}<extra></extra>",
         "legendgroup": "Durango",
         "marker": {
          "color": "#FECB52",
          "pattern": {
           "shape": ""
          }
         },
         "name": "Durango",
         "offsetgroup": "Durango",
         "orientation": "v",
         "showlegend": true,
         "textposition": "auto",
         "type": "bar",
         "x": [
          "2024-01-01T00:00:00",
          "2024-02-01T00:00:00",
          "2024-03-01T00:00:00",
          "2024-04-01T00:00:00",
          "2024-05-01T00:00:00",
          "2024-06-01T00:00:00",
          "2024-07-01T00:00:00",
          "2024-08-01T00:00:00",
          "2024-09-01T00:00:00",
          "2024-10-01T00:00:00",
          "2024-11-01T00:00:00",
          "2024-12-01T00:00:00"
         ],
         "xaxis": "x",
         "y": [
          26.440677966101696,
          25.338983050847457,
          28.779661016949152,
          29,
          32.16949152542373,
          29.966101694915253,
          26.203389830508474,
          30.54237288135593,
          26.54237288135593,
          30.728813559322035,
          29.28813559322034,
          21.576271186440678
         ],
         "yaxis": "y"
        },
        {
         "alignmentgroup": "True",
         "hovertemplate": "Entidad=Guanajuato<br>Año-Mes=%{x}<br>Cantidad=%{y}<extra></extra>",
         "legendgroup": "Guanajuato",
         "marker": {
          "color": "#636efa",
          "pattern": {
           "shape": ""
          }
         },
         "name": "Guanajuato",
         "offsetgroup": "Guanajuato",
         "orientation": "v",
         "showlegend": true,
         "textposition": "auto",
         "type": "bar",
         "x": [
          "2024-01-01T00:00:00",
          "2024-02-01T00:00:00",
          "2024-03-01T00:00:00",
          "2024-04-01T00:00:00",
          "2024-05-01T00:00:00",
          "2024-06-01T00:00:00",
          "2024-07-01T00:00:00",
          "2024-08-01T00:00:00",
          "2024-09-01T00:00:00",
          "2024-10-01T00:00:00",
          "2024-11-01T00:00:00",
          "2024-12-01T00:00:00"
         ],
         "xaxis": "x",
         "y": [
          213.08474576271186,
          206.35593220338984,
          209.84745762711864,
          223.94915254237287,
          241.1864406779661,
          210.45762711864407,
          222.22033898305085,
          219.38983050847457,
          215.08474576271186,
          225.1864406779661,
          213.88135593220338,
          211.35593220338984
         ],
         "yaxis": "y"
        },
        {
         "alignmentgroup": "True",
         "hovertemplate": "Entidad=Guerrero<br>Año-Mes=%{x}<br>Cantidad=%{y}<extra></extra>",
         "legendgroup": "Guerrero",
         "marker": {
          "color": "#EF553B",
          "pattern": {
           "shape": ""
          }
         },
         "name": "Guerrero",
         "offsetgroup": "Guerrero",
         "orientation": "v",
         "showlegend": true,
         "textposition": "auto",
         "type": "bar",
         "x": [
          "2024-01-01T00:00:00",
          "2024-02-01T00:00:00",
          "2024-03-01T00:00:00",
          "2024-04-01T00:00:00",
          "2024-05-01T00:00:00",
          "2024-06-01T00:00:00",
          "2024-07-01T00:00:00",
          "2024-08-01T00:00:00",
          "2024-09-01T00:00:00",
          "2024-10-01T00:00:00",
          "2024-11-01T00:00:00",
          "2024-12-01T00:00:00"
         ],
         "xaxis": "x",
         "y": [
          37,
          36.33898305084746,
          33.271186440677965,
          40.271186440677965,
          39.79661016949152,
          37.08474576271186,
          35.728813559322035,
          37.59322033898305,
          31.491525423728813,
          37.11864406779661,
          35.6271186440678,
          33.32203389830509
         ],
         "yaxis": "y"
        },
        {
         "alignmentgroup": "True",
         "hovertemplate": "Entidad=Hidalgo<br>Año-Mes=%{x}<br>Cantidad=%{y}<extra></extra>",
         "legendgroup": "Hidalgo",
         "marker": {
          "color": "#00cc96",
          "pattern": {
           "shape": ""
          }
         },
         "name": "Hidalgo",
         "offsetgroup": "Hidalgo",
         "orientation": "v",
         "showlegend": true,
         "textposition": "auto",
         "type": "bar",
         "x": [
          "2024-01-01T00:00:00",
          "2024-02-01T00:00:00",
          "2024-03-01T00:00:00",
          "2024-04-01T00:00:00",
          "2024-05-01T00:00:00",
          "2024-06-01T00:00:00",
          "2024-07-01T00:00:00",
          "2024-08-01T00:00:00",
          "2024-09-01T00:00:00",
          "2024-10-01T00:00:00",
          "2024-11-01T00:00:00",
          "2024-12-01T00:00:00"
         ],
         "xaxis": "x",
         "y": [
          76.98305084745763,
          75.98305084745763,
          76.42372881355932,
          81.40677966101696,
          87.1864406779661,
          75.32203389830508,
          64.37288135593221,
          80.28813559322033,
          81.91525423728814,
          76.50847457627118,
          75.10169491525424,
          72.72881355932203
         ],
         "yaxis": "y"
        },
        {
         "alignmentgroup": "True",
         "hovertemplate": "Entidad=Jalisco<br>Año-Mes=%{x}<br>Cantidad=%{y}<extra></extra>",
         "legendgroup": "Jalisco",
         "marker": {
          "color": "#ab63fa",
          "pattern": {
           "shape": ""
          }
         },
         "name": "Jalisco",
         "offsetgroup": "Jalisco",
         "orientation": "v",
         "showlegend": true,
         "textposition": "auto",
         "type": "bar",
         "x": [
          "2024-01-01T00:00:00",
          "2024-02-01T00:00:00",
          "2024-03-01T00:00:00",
          "2024-04-01T00:00:00",
          "2024-05-01T00:00:00",
          "2024-06-01T00:00:00",
          "2024-07-01T00:00:00",
          "2024-08-01T00:00:00",
          "2024-09-01T00:00:00",
          "2024-10-01T00:00:00",
          "2024-11-01T00:00:00",
          "2024-12-01T00:00:00"
         ],
         "xaxis": "x",
         "y": [
          194.1864406779661,
          173.71186440677965,
          180.67796610169492,
          181.94915254237287,
          187.5593220338983,
          175.864406779661,
          183.91525423728814,
          170.57627118644066,
          164.88135593220338,
          174.94915254237287,
          156.20338983050848,
          158.66101694915255
         ],
         "yaxis": "y"
        },
        {
         "alignmentgroup": "True",
         "hovertemplate": "Entidad=Michoacán<br>Año-Mes=%{x}<br>Cantidad=%{y}<extra></extra>",
         "legendgroup": "Michoacán",
         "marker": {
          "color": "#FFA15A",
          "pattern": {
           "shape": ""
          }
         },
         "name": "Michoacán",
         "offsetgroup": "Michoacán",
         "orientation": "v",
         "showlegend": true,
         "textposition": "auto",
         "type": "bar",
         "x": [
          "2024-01-01T00:00:00",
          "2024-02-01T00:00:00",
          "2024-03-01T00:00:00",
          "2024-04-01T00:00:00",
          "2024-05-01T00:00:00",
          "2024-06-01T00:00:00",
          "2024-07-01T00:00:00",
          "2024-08-01T00:00:00",
          "2024-09-01T00:00:00",
          "2024-10-01T00:00:00",
          "2024-11-01T00:00:00",
          "2024-12-01T00:00:00"
         ],
         "xaxis": "x",
         "y": [
          67.96610169491525,
          64.9322033898305,
          67.01694915254237,
          71.05084745762711,
          80.89830508474576,
          70.96610169491525,
          63.6271186440678,
          62.067796610169495,
          64.66101694915254,
          72.8135593220339,
          68.83050847457628,
          62.610169491525426
         ],
         "yaxis": "y"
        },
        {
         "alignmentgroup": "True",
         "hovertemplate": "Entidad=Morelos<br>Año-Mes=%{x}<br>Cantidad=%{y}<extra></extra>",
         "legendgroup": "Morelos",
         "marker": {
          "color": "#19d3f3",
          "pattern": {
           "shape": ""
          }
         },
         "name": "Morelos",
         "offsetgroup": "Morelos",
         "orientation": "v",
         "showlegend": true,
         "textposition": "auto",
         "type": "bar",
         "x": [
          "2024-01-01T00:00:00",
          "2024-02-01T00:00:00",
          "2024-03-01T00:00:00",
          "2024-04-01T00:00:00",
          "2024-05-01T00:00:00",
          "2024-06-01T00:00:00",
          "2024-07-01T00:00:00",
          "2024-08-01T00:00:00",
          "2024-09-01T00:00:00",
          "2024-10-01T00:00:00",
          "2024-11-01T00:00:00",
          "2024-12-01T00:00:00"
         ],
         "xaxis": "x",
         "y": [
          63.86440677966102,
          62.610169491525426,
          61.101694915254235,
          72.38983050847457,
          69.33898305084746,
          65.59322033898304,
          65.57627118644068,
          65.61016949152543,
          63.728813559322035,
          71.72881355932203,
          60.728813559322035,
          59.49152542372882
         ],
         "yaxis": "y"
        },
        {
         "alignmentgroup": "True",
         "hovertemplate": "Entidad=México<br>Año-Mes=%{x}<br>Cantidad=%{y}<extra></extra>",
         "legendgroup": "México",
         "marker": {
          "color": "#FF6692",
          "pattern": {
           "shape": ""
          }
         },
         "name": "México",
         "offsetgroup": "México",
         "orientation": "v",
         "showlegend": true,
         "textposition": "auto",
         "type": "bar",
         "x": [
          "2024-01-01T00:00:00",
          "2024-02-01T00:00:00",
          "2024-03-01T00:00:00",
          "2024-04-01T00:00:00",
          "2024-05-01T00:00:00",
          "2024-06-01T00:00:00",
          "2024-07-01T00:00:00",
          "2024-08-01T00:00:00",
          "2024-09-01T00:00:00",
          "2024-10-01T00:00:00",
          "2024-11-01T00:00:00",
          "2024-12-01T00:00:00"
         ],
         "xaxis": "x",
         "y": [
          549.7627118644068,
          537.1864406779661,
          564.1864406779661,
          481.5762711864407,
          527.1355932203389,
          535.542372881356,
          520.271186440678,
          543.1864406779661,
          512.2542372881356,
          544.2203389830509,
          491.6779661016949,
          428.96610169491527
         ],
         "yaxis": "y"
        },
        {
         "alignmentgroup": "True",
         "hovertemplate": "Entidad=Nacional<br>Año-Mes=%{x}<br>Cantidad=%{y}<extra></extra>",
         "legendgroup": "Nacional",
         "marker": {
          "color": "#B6E880",
          "pattern": {
           "shape": ""
          }
         },
         "name": "Nacional",
         "offsetgroup": "Nacional",
         "orientation": "v",
         "showlegend": true,
         "textposition": "auto",
         "type": "bar",
         "x": [
          "2024-01-01T00:00:00",
          "2024-02-01T00:00:00",
          "2024-03-01T00:00:00",
          "2024-04-01T00:00:00",
          "2024-05-01T00:00:00",
          "2024-06-01T00:00:00",
          "2024-07-01T00:00:00",
          "2024-08-01T00:00:00",
          "2024-09-01T00:00:00",
          "2024-10-01T00:00:00",
          "2024-11-01T00:00:00",
          "2024-12-01T00:00:00"
         ],
         "xaxis": "x",
         "y": [
          2947.101694915254,
          2929.7966101694915,
          3001.3728813559323,
          3081.491525423729,
          3230.2033898305085,
          2966.2881355932204,
          2989.2203389830506,
          2979.8813559322034,
          2895.9661016949153,
          3049.406779661017,
          2817.1186440677966,
          2567.6949152542375
         ],
         "yaxis": "y"
        },
        {
         "alignmentgroup": "True",
         "hovertemplate": "Entidad=Nayarit<br>Año-Mes=%{x}<br>Cantidad=%{y}<extra></extra>",
         "legendgroup": "Nayarit",
         "marker": {
          "color": "#FF97FF",
          "pattern": {
           "shape": ""
          }
         },
         "name": "Nayarit",
         "offsetgroup": "Nayarit",
         "orientation": "v",
         "showlegend": true,
         "textposition": "auto",
         "type": "bar",
         "x": [
          "2024-01-01T00:00:00",
          "2024-02-01T00:00:00",
          "2024-03-01T00:00:00",
          "2024-04-01T00:00:00",
          "2024-05-01T00:00:00",
          "2024-06-01T00:00:00",
          "2024-07-01T00:00:00",
          "2024-08-01T00:00:00",
          "2024-09-01T00:00:00",
          "2024-10-01T00:00:00",
          "2024-11-01T00:00:00",
          "2024-12-01T00:00:00"
         ],
         "xaxis": "x",
         "y": [
          19.779661016949152,
          17.661016949152543,
          16.10169491525424,
          16.45762711864407,
          18.47457627118644,
          17.508474576271187,
          19.033898305084747,
          17.135593220338983,
          18.796610169491526,
          18.576271186440678,
          14.728813559322035,
          13.440677966101696
         ],
         "yaxis": "y"
        },
        {
         "alignmentgroup": "True",
         "hovertemplate": "Entidad=Nuevo León<br>Año-Mes=%{x}<br>Cantidad=%{y}<extra></extra>",
         "legendgroup": "Nuevo León",
         "marker": {
          "color": "#FECB52",
          "pattern": {
           "shape": ""
          }
         },
         "name": "Nuevo León",
         "offsetgroup": "Nuevo León",
         "orientation": "v",
         "showlegend": true,
         "textposition": "auto",
         "type": "bar",
         "x": [
          "2024-01-01T00:00:00",
          "2024-02-01T00:00:00",
          "2024-03-01T00:00:00",
          "2024-04-01T00:00:00",
          "2024-05-01T00:00:00",
          "2024-06-01T00:00:00",
          "2024-07-01T00:00:00",
          "2024-08-01T00:00:00",
          "2024-09-01T00:00:00",
          "2024-10-01T00:00:00",
          "2024-11-01T00:00:00",
          "2024-12-01T00:00:00"
         ],
         "xaxis": "x",
         "y": [
          116.54237288135593,
          131.83050847457628,
          126.45762711864407,
          148.42372881355934,
          140.25423728813558,
          123,
          132.33898305084745,
          128.74576271186442,
          137.6949152542373,
          139.8135593220339,
          113.40677966101696,
          90.08474576271186
         ],
         "yaxis": "y"
        },
        {
         "alignmentgroup": "True",
         "hovertemplate": "Entidad=Oaxaca<br>Año-Mes=%{x}<br>Cantidad=%{y}<extra></extra>",
         "legendgroup": "Oaxaca",
         "marker": {
          "color": "#636efa",
          "pattern": {
           "shape": ""
          }
         },
         "name": "Oaxaca",
         "offsetgroup": "Oaxaca",
         "orientation": "v",
         "showlegend": true,
         "textposition": "auto",
         "type": "bar",
         "x": [
          "2024-01-01T00:00:00",
          "2024-02-01T00:00:00",
          "2024-03-01T00:00:00",
          "2024-04-01T00:00:00",
          "2024-05-01T00:00:00",
          "2024-06-01T00:00:00",
          "2024-07-01T00:00:00",
          "2024-08-01T00:00:00",
          "2024-09-01T00:00:00",
          "2024-10-01T00:00:00",
          "2024-11-01T00:00:00",
          "2024-12-01T00:00:00"
         ],
         "xaxis": "x",
         "y": [
          54.59322033898305,
          50.25423728813559,
          54.91525423728814,
          60.355932203389834,
          60.33898305084746,
          51.355932203389834,
          52.94915254237288,
          53.33898305084746,
          53.389830508474574,
          49.83050847457627,
          48.220338983050844,
          46.3728813559322
         ],
         "yaxis": "y"
        },
        {
         "alignmentgroup": "True",
         "hovertemplate": "Entidad=Puebla<br>Año-Mes=%{x}<br>Cantidad=%{y}<extra></extra>",
         "legendgroup": "Puebla",
         "marker": {
          "color": "#EF553B",
          "pattern": {
           "shape": ""
          }
         },
         "name": "Puebla",
         "offsetgroup": "Puebla",
         "orientation": "v",
         "showlegend": true,
         "textposition": "auto",
         "type": "bar",
         "x": [
          "2024-01-01T00:00:00",
          "2024-02-01T00:00:00",
          "2024-03-01T00:00:00",
          "2024-04-01T00:00:00",
          "2024-05-01T00:00:00",
          "2024-06-01T00:00:00",
          "2024-07-01T00:00:00",
          "2024-08-01T00:00:00",
          "2024-09-01T00:00:00",
          "2024-10-01T00:00:00",
          "2024-11-01T00:00:00",
          "2024-12-01T00:00:00"
         ],
         "xaxis": "x",
         "y": [
          111.62711864406779,
          99.7457627118644,
          107.42372881355932,
          110.83050847457628,
          122.7457627118644,
          111.30508474576271,
          121.67796610169492,
          120.32203389830508,
          115.33898305084746,
          120.01694915254237,
          113.23728813559322,
          101.7457627118644
         ],
         "yaxis": "y"
        },
        {
         "alignmentgroup": "True",
         "hovertemplate": "Entidad=Queretaro<br>Año-Mes=%{x}<br>Cantidad=%{y}<extra></extra>",
         "legendgroup": "Queretaro",
         "marker": {
          "color": "#00cc96",
          "pattern": {
           "shape": ""
          }
         },
         "name": "Queretaro",
         "offsetgroup": "Queretaro",
         "orientation": "v",
         "showlegend": true,
         "textposition": "auto",
         "type": "bar",
         "x": [
          "2024-01-01T00:00:00",
          "2024-02-01T00:00:00",
          "2024-03-01T00:00:00",
          "2024-04-01T00:00:00",
          "2024-05-01T00:00:00",
          "2024-06-01T00:00:00",
          "2024-07-01T00:00:00",
          "2024-08-01T00:00:00",
          "2024-09-01T00:00:00",
          "2024-10-01T00:00:00",
          "2024-11-01T00:00:00",
          "2024-12-01T00:00:00"
         ],
         "xaxis": "x",
         "y": [
          84.7457627118644,
          79.96610169491525,
          84.44067796610169,
          91.96610169491525,
          92.10169491525424,
          81.16949152542372,
          85.57627118644068,
          85,
          79.59322033898304,
          84.77966101694915,
          80.2542372881356,
          76.69491525423729
         ],
         "yaxis": "y"
        },
        {
         "alignmentgroup": "True",
         "hovertemplate": "Entidad=Quintana Roo<br>Año-Mes=%{x}<br>Cantidad=%{y}<extra></extra>",
         "legendgroup": "Quintana Roo",
         "marker": {
          "color": "#ab63fa",
          "pattern": {
           "shape": ""
          }
         },
         "name": "Quintana Roo",
         "offsetgroup": "Quintana Roo",
         "orientation": "v",
         "showlegend": true,
         "textposition": "auto",
         "type": "bar",
         "x": [
          "2024-01-01T00:00:00",
          "2024-02-01T00:00:00",
          "2024-03-01T00:00:00",
          "2024-04-01T00:00:00",
          "2024-05-01T00:00:00",
          "2024-06-01T00:00:00",
          "2024-07-01T00:00:00",
          "2024-08-01T00:00:00",
          "2024-09-01T00:00:00",
          "2024-10-01T00:00:00",
          "2024-11-01T00:00:00",
          "2024-12-01T00:00:00"
         ],
         "xaxis": "x",
         "y": [
          76.77966101694915,
          69.50847457627118,
          79.01694915254237,
          79.52542372881356,
          82.32203389830508,
          69.49152542372882,
          78.15254237288136,
          79.71186440677967,
          77.05084745762711,
          74.64406779661017,
          73.52542372881356,
          69.22033898305085
         ],
         "yaxis": "y"
        },
        {
         "alignmentgroup": "True",
         "hovertemplate": "Entidad=San Luis Potosí<br>Año-Mes=%{x}<br>Cantidad=%{y}<extra></extra>",
         "legendgroup": "San Luis Potosí",
         "marker": {
          "color": "#FFA15A",
          "pattern": {
           "shape": ""
          }
         },
         "name": "San Luis Potosí",
         "offsetgroup": "San Luis Potosí",
         "orientation": "v",
         "showlegend": true,
         "textposition": "auto",
         "type": "bar",
         "x": [
          "2024-01-01T00:00:00",
          "2024-02-01T00:00:00",
          "2024-03-01T00:00:00",
          "2024-04-01T00:00:00",
          "2024-05-01T00:00:00",
          "2024-06-01T00:00:00",
          "2024-07-01T00:00:00",
          "2024-08-01T00:00:00",
          "2024-09-01T00:00:00",
          "2024-10-01T00:00:00",
          "2024-11-01T00:00:00",
          "2024-12-01T00:00:00"
         ],
         "xaxis": "x",
         "y": [
          82.35593220338983,
          81.42372881355932,
          77.13559322033899,
          87.28813559322033,
          90.22033898305085,
          80.7457627118644,
          83.27118644067797,
          82.27118644067797,
          84.20338983050847,
          86.45762711864407,
          83.49152542372882,
          76.72881355932203
         ],
         "yaxis": "y"
        },
        {
         "alignmentgroup": "True",
         "hovertemplate": "Entidad=Sinaloa<br>Año-Mes=%{x}<br>Cantidad=%{y}<extra></extra>",
         "legendgroup": "Sinaloa",
         "marker": {
          "color": "#19d3f3",
          "pattern": {
           "shape": ""
          }
         },
         "name": "Sinaloa",
         "offsetgroup": "Sinaloa",
         "orientation": "v",
         "showlegend": true,
         "textposition": "auto",
         "type": "bar",
         "x": [
          "2024-01-01T00:00:00",
          "2024-02-01T00:00:00",
          "2024-03-01T00:00:00",
          "2024-04-01T00:00:00",
          "2024-05-01T00:00:00",
          "2024-06-01T00:00:00",
          "2024-07-01T00:00:00",
          "2024-08-01T00:00:00",
          "2024-09-01T00:00:00",
          "2024-10-01T00:00:00",
          "2024-11-01T00:00:00",
          "2024-12-01T00:00:00"
         ],
         "xaxis": "x",
         "y": [
          45.355932203389834,
          45.76271186440678,
          44.03389830508475,
          51.440677966101696,
          49.220338983050844,
          46.152542372881356,
          44.54237288135593,
          46.847457627118644,
          50.69491525423729,
          57.932203389830505,
          56.779661016949156,
          45.79661016949152
         ],
         "yaxis": "y"
        },
        {
         "alignmentgroup": "True",
         "hovertemplate": "Entidad=Sonora<br>Año-Mes=%{x}<br>Cantidad=%{y}<extra></extra>",
         "legendgroup": "Sonora",
         "marker": {
          "color": "#FF6692",
          "pattern": {
           "shape": ""
          }
         },
         "name": "Sonora",
         "offsetgroup": "Sonora",
         "orientation": "v",
         "showlegend": true,
         "textposition": "auto",
         "type": "bar",
         "x": [
          "2024-01-01T00:00:00",
          "2024-02-01T00:00:00",
          "2024-03-01T00:00:00",
          "2024-04-01T00:00:00",
          "2024-05-01T00:00:00",
          "2024-06-01T00:00:00",
          "2024-07-01T00:00:00",
          "2024-08-01T00:00:00",
          "2024-09-01T00:00:00",
          "2024-10-01T00:00:00",
          "2024-11-01T00:00:00",
          "2024-12-01T00:00:00"
         ],
         "xaxis": "x",
         "y": [
          47.23728813559322,
          49.101694915254235,
          42.47457627118644,
          47.389830508474574,
          45.66101694915254,
          50.40677966101695,
          46.71186440677966,
          45.66101694915254,
          61.271186440677965,
          62.20338983050848,
          68.50847457627118,
          49.28813559322034
         ],
         "yaxis": "y"
        },
        {
         "alignmentgroup": "True",
         "hovertemplate": "Entidad=Tabasco<br>Año-Mes=%{x}<br>Cantidad=%{y}<extra></extra>",
         "legendgroup": "Tabasco",
         "marker": {
          "color": "#B6E880",
          "pattern": {
           "shape": ""
          }
         },
         "name": "Tabasco",
         "offsetgroup": "Tabasco",
         "orientation": "v",
         "showlegend": true,
         "textposition": "auto",
         "type": "bar",
         "x": [
          "2024-01-01T00:00:00",
          "2024-02-01T00:00:00",
          "2024-03-01T00:00:00",
          "2024-04-01T00:00:00",
          "2024-05-01T00:00:00",
          "2024-06-01T00:00:00",
          "2024-07-01T00:00:00",
          "2024-08-01T00:00:00",
          "2024-09-01T00:00:00",
          "2024-10-01T00:00:00",
          "2024-11-01T00:00:00",
          "2024-12-01T00:00:00"
         ],
         "xaxis": "x",
         "y": [
          55.96610169491525,
          57.440677966101696,
          65.08474576271186,
          67.52542372881356,
          73.11864406779661,
          66.61016949152543,
          67.08474576271186,
          61.45762711864407,
          61.50847457627118,
          62.067796610169495,
          60.23728813559322,
          57
         ],
         "yaxis": "y"
        },
        {
         "alignmentgroup": "True",
         "hovertemplate": "Entidad=Tamaulipas<br>Año-Mes=%{x}<br>Cantidad=%{y}<extra></extra>",
         "legendgroup": "Tamaulipas",
         "marker": {
          "color": "#FF97FF",
          "pattern": {
           "shape": ""
          }
         },
         "name": "Tamaulipas",
         "offsetgroup": "Tamaulipas",
         "orientation": "v",
         "showlegend": true,
         "textposition": "auto",
         "type": "bar",
         "x": [
          "2024-01-01T00:00:00",
          "2024-02-01T00:00:00",
          "2024-03-01T00:00:00",
          "2024-04-01T00:00:00",
          "2024-05-01T00:00:00",
          "2024-06-01T00:00:00",
          "2024-07-01T00:00:00",
          "2024-08-01T00:00:00",
          "2024-09-01T00:00:00",
          "2024-10-01T00:00:00",
          "2024-11-01T00:00:00",
          "2024-12-01T00:00:00"
         ],
         "xaxis": "x",
         "y": [
          51.40677966101695,
          56.271186440677965,
          58,
          59.79661016949152,
          66.35593220338983,
          56.20338983050848,
          56.96610169491525,
          57.813559322033896,
          54.932203389830505,
          58.25423728813559,
          56.3728813559322,
          48.69491525423729
         ],
         "yaxis": "y"
        },
        {
         "alignmentgroup": "True",
         "hovertemplate": "Entidad=Tlaxcala<br>Año-Mes=%{x}<br>Cantidad=%{y}<extra></extra>",
         "legendgroup": "Tlaxcala",
         "marker": {
          "color": "#FECB52",
          "pattern": {
           "shape": ""
          }
         },
         "name": "Tlaxcala",
         "offsetgroup": "Tlaxcala",
         "orientation": "v",
         "showlegend": true,
         "textposition": "auto",
         "type": "bar",
         "x": [
          "2024-01-01T00:00:00",
          "2024-02-01T00:00:00",
          "2024-03-01T00:00:00",
          "2024-04-01T00:00:00",
          "2024-05-01T00:00:00",
          "2024-06-01T00:00:00",
          "2024-07-01T00:00:00",
          "2024-08-01T00:00:00",
          "2024-09-01T00:00:00",
          "2024-10-01T00:00:00",
          "2024-11-01T00:00:00",
          "2024-12-01T00:00:00"
         ],
         "xaxis": "x",
         "y": [
          5.135593220338983,
          5.0508474576271185,
          5,
          4.389830508474576,
          4.406779661016949,
          4.694915254237288,
          4.6440677966101696,
          4.728813559322034,
          5.915254237288136,
          4.627118644067797,
          4.915254237288136,
          4.627118644067797
         ],
         "yaxis": "y"
        },
        {
         "alignmentgroup": "True",
         "hovertemplate": "Entidad=Veracruz<br>Año-Mes=%{x}<br>Cantidad=%{y}<extra></extra>",
         "legendgroup": "Veracruz",
         "marker": {
          "color": "#636efa",
          "pattern": {
           "shape": ""
          }
         },
         "name": "Veracruz",
         "offsetgroup": "Veracruz",
         "orientation": "v",
         "showlegend": true,
         "textposition": "auto",
         "type": "bar",
         "x": [
          "2024-01-01T00:00:00",
          "2024-02-01T00:00:00",
          "2024-03-01T00:00:00",
          "2024-04-01T00:00:00",
          "2024-05-01T00:00:00",
          "2024-06-01T00:00:00",
          "2024-07-01T00:00:00",
          "2024-08-01T00:00:00",
          "2024-09-01T00:00:00",
          "2024-10-01T00:00:00",
          "2024-11-01T00:00:00",
          "2024-12-01T00:00:00"
         ],
         "xaxis": "x",
         "y": [
          110.30508474576271,
          116.37288135593221,
          121.03389830508475,
          134.1864406779661,
          133.3050847457627,
          125.76271186440678,
          118.84745762711864,
          106.37288135593221,
          105.91525423728814,
          107.59322033898304,
          103.13559322033899,
          93.49152542372882
         ],
         "yaxis": "y"
        },
        {
         "alignmentgroup": "True",
         "hovertemplate": "Entidad=Yucatán<br>Año-Mes=%{x}<br>Cantidad=%{y}<extra></extra>",
         "legendgroup": "Yucatán",
         "marker": {
          "color": "#EF553B",
          "pattern": {
           "shape": ""
          }
         },
         "name": "Yucatán",
         "offsetgroup": "Yucatán",
         "orientation": "v",
         "showlegend": true,
         "textposition": "auto",
         "type": "bar",
         "x": [
          "2024-01-01T00:00:00",
          "2024-02-01T00:00:00",
          "2024-03-01T00:00:00",
          "2024-04-01T00:00:00",
          "2024-05-01T00:00:00",
          "2024-06-01T00:00:00",
          "2024-07-01T00:00:00",
          "2024-08-01T00:00:00",
          "2024-09-01T00:00:00",
          "2024-10-01T00:00:00",
          "2024-11-01T00:00:00",
          "2024-12-01T00:00:00"
         ],
         "xaxis": "x",
         "y": [
          6.762711864406779,
          5.491525423728813,
          5.559322033898305,
          6.423728813559322,
          6.813559322033898,
          5.11864406779661,
          5.694915254237288,
          5.694915254237288,
          5.677966101694915,
          5.898305084745763,
          5.47457627118644,
          5.677966101694915
         ],
         "yaxis": "y"
        },
        {
         "alignmentgroup": "True",
         "hovertemplate": "Entidad=Zacatecas<br>Año-Mes=%{x}<br>Cantidad=%{y}<extra></extra>",
         "legendgroup": "Zacatecas",
         "marker": {
          "color": "#00cc96",
          "pattern": {
           "shape": ""
          }
         },
         "name": "Zacatecas",
         "offsetgroup": "Zacatecas",
         "orientation": "v",
         "showlegend": true,
         "textposition": "auto",
         "type": "bar",
         "x": [
          "2024-01-01T00:00:00",
          "2024-02-01T00:00:00",
          "2024-03-01T00:00:00",
          "2024-04-01T00:00:00",
          "2024-05-01T00:00:00",
          "2024-06-01T00:00:00",
          "2024-07-01T00:00:00",
          "2024-08-01T00:00:00",
          "2024-09-01T00:00:00",
          "2024-10-01T00:00:00",
          "2024-11-01T00:00:00",
          "2024-12-01T00:00:00"
         ],
         "xaxis": "x",
         "y": [
          36.847457627118644,
          35.79661016949152,
          35.30508474576271,
          38.88135593220339,
          41.45762711864407,
          37.57627118644068,
          35.271186440677965,
          35.28813559322034,
          34.067796610169495,
          37.355932203389834,
          35.45762711864407,
          32.54237288135593
         ],
         "yaxis": "y"
        }
       ],
       "layout": {
        "barmode": "relative",
        "legend": {
         "title": {
          "text": "Entidad"
         },
         "tracegroupgap": 0
        },
        "margin": {
         "t": 60
        },
        "template": {
         "data": {
          "bar": [
           {
            "error_x": {
             "color": "#2a3f5f"
            },
            "error_y": {
             "color": "#2a3f5f"
            },
            "marker": {
             "line": {
              "color": "#E5ECF6",
              "width": 0.5
             },
             "pattern": {
              "fillmode": "overlay",
              "size": 10,
              "solidity": 0.2
             }
            },
            "type": "bar"
           }
          ],
          "barpolar": [
           {
            "marker": {
             "line": {
              "color": "#E5ECF6",
              "width": 0.5
             },
             "pattern": {
              "fillmode": "overlay",
              "size": 10,
              "solidity": 0.2
             }
            },
            "type": "barpolar"
           }
          ],
          "carpet": [
           {
            "aaxis": {
             "endlinecolor": "#2a3f5f",
             "gridcolor": "white",
             "linecolor": "white",
             "minorgridcolor": "white",
             "startlinecolor": "#2a3f5f"
            },
            "baxis": {
             "endlinecolor": "#2a3f5f",
             "gridcolor": "white",
             "linecolor": "white",
             "minorgridcolor": "white",
             "startlinecolor": "#2a3f5f"
            },
            "type": "carpet"
           }
          ],
          "choropleth": [
           {
            "colorbar": {
             "outlinewidth": 0,
             "ticks": ""
            },
            "type": "choropleth"
           }
          ],
          "contour": [
           {
            "colorbar": {
             "outlinewidth": 0,
             "ticks": ""
            },
            "colorscale": [
             [
              0,
              "#0d0887"
             ],
             [
              0.1111111111111111,
              "#46039f"
             ],
             [
              0.2222222222222222,
              "#7201a8"
             ],
             [
              0.3333333333333333,
              "#9c179e"
             ],
             [
              0.4444444444444444,
              "#bd3786"
             ],
             [
              0.5555555555555556,
              "#d8576b"
             ],
             [
              0.6666666666666666,
              "#ed7953"
             ],
             [
              0.7777777777777778,
              "#fb9f3a"
             ],
             [
              0.8888888888888888,
              "#fdca26"
             ],
             [
              1,
              "#f0f921"
             ]
            ],
            "type": "contour"
           }
          ],
          "contourcarpet": [
           {
            "colorbar": {
             "outlinewidth": 0,
             "ticks": ""
            },
            "type": "contourcarpet"
           }
          ],
          "heatmap": [
           {
            "colorbar": {
             "outlinewidth": 0,
             "ticks": ""
            },
            "colorscale": [
             [
              0,
              "#0d0887"
             ],
             [
              0.1111111111111111,
              "#46039f"
             ],
             [
              0.2222222222222222,
              "#7201a8"
             ],
             [
              0.3333333333333333,
              "#9c179e"
             ],
             [
              0.4444444444444444,
              "#bd3786"
             ],
             [
              0.5555555555555556,
              "#d8576b"
             ],
             [
              0.6666666666666666,
              "#ed7953"
             ],
             [
              0.7777777777777778,
              "#fb9f3a"
             ],
             [
              0.8888888888888888,
              "#fdca26"
             ],
             [
              1,
              "#f0f921"
             ]
            ],
            "type": "heatmap"
           }
          ],
          "heatmapgl": [
           {
            "colorbar": {
             "outlinewidth": 0,
             "ticks": ""
            },
            "colorscale": [
             [
              0,
              "#0d0887"
             ],
             [
              0.1111111111111111,
              "#46039f"
             ],
             [
              0.2222222222222222,
              "#7201a8"
             ],
             [
              0.3333333333333333,
              "#9c179e"
             ],
             [
              0.4444444444444444,
              "#bd3786"
             ],
             [
              0.5555555555555556,
              "#d8576b"
             ],
             [
              0.6666666666666666,
              "#ed7953"
             ],
             [
              0.7777777777777778,
              "#fb9f3a"
             ],
             [
              0.8888888888888888,
              "#fdca26"
             ],
             [
              1,
              "#f0f921"
             ]
            ],
            "type": "heatmapgl"
           }
          ],
          "histogram": [
           {
            "marker": {
             "pattern": {
              "fillmode": "overlay",
              "size": 10,
              "solidity": 0.2
             }
            },
            "type": "histogram"
           }
          ],
          "histogram2d": [
           {
            "colorbar": {
             "outlinewidth": 0,
             "ticks": ""
            },
            "colorscale": [
             [
              0,
              "#0d0887"
             ],
             [
              0.1111111111111111,
              "#46039f"
             ],
             [
              0.2222222222222222,
              "#7201a8"
             ],
             [
              0.3333333333333333,
              "#9c179e"
             ],
             [
              0.4444444444444444,
              "#bd3786"
             ],
             [
              0.5555555555555556,
              "#d8576b"
             ],
             [
              0.6666666666666666,
              "#ed7953"
             ],
             [
              0.7777777777777778,
              "#fb9f3a"
             ],
             [
              0.8888888888888888,
              "#fdca26"
             ],
             [
              1,
              "#f0f921"
             ]
            ],
            "type": "histogram2d"
           }
          ],
          "histogram2dcontour": [
           {
            "colorbar": {
             "outlinewidth": 0,
             "ticks": ""
            },
            "colorscale": [
             [
              0,
              "#0d0887"
             ],
             [
              0.1111111111111111,
              "#46039f"
             ],
             [
              0.2222222222222222,
              "#7201a8"
             ],
             [
              0.3333333333333333,
              "#9c179e"
             ],
             [
              0.4444444444444444,
              "#bd3786"
             ],
             [
              0.5555555555555556,
              "#d8576b"
             ],
             [
              0.6666666666666666,
              "#ed7953"
             ],
             [
              0.7777777777777778,
              "#fb9f3a"
             ],
             [
              0.8888888888888888,
              "#fdca26"
             ],
             [
              1,
              "#f0f921"
             ]
            ],
            "type": "histogram2dcontour"
           }
          ],
          "mesh3d": [
           {
            "colorbar": {
             "outlinewidth": 0,
             "ticks": ""
            },
            "type": "mesh3d"
           }
          ],
          "parcoords": [
           {
            "line": {
             "colorbar": {
              "outlinewidth": 0,
              "ticks": ""
             }
            },
            "type": "parcoords"
           }
          ],
          "pie": [
           {
            "automargin": true,
            "type": "pie"
           }
          ],
          "scatter": [
           {
            "fillpattern": {
             "fillmode": "overlay",
             "size": 10,
             "solidity": 0.2
            },
            "type": "scatter"
           }
          ],
          "scatter3d": [
           {
            "line": {
             "colorbar": {
              "outlinewidth": 0,
              "ticks": ""
             }
            },
            "marker": {
             "colorbar": {
              "outlinewidth": 0,
              "ticks": ""
             }
            },
            "type": "scatter3d"
           }
          ],
          "scattercarpet": [
           {
            "marker": {
             "colorbar": {
              "outlinewidth": 0,
              "ticks": ""
             }
            },
            "type": "scattercarpet"
           }
          ],
          "scattergeo": [
           {
            "marker": {
             "colorbar": {
              "outlinewidth": 0,
              "ticks": ""
             }
            },
            "type": "scattergeo"
           }
          ],
          "scattergl": [
           {
            "marker": {
             "colorbar": {
              "outlinewidth": 0,
              "ticks": ""
             }
            },
            "type": "scattergl"
           }
          ],
          "scattermapbox": [
           {
            "marker": {
             "colorbar": {
              "outlinewidth": 0,
              "ticks": ""
             }
            },
            "type": "scattermapbox"
           }
          ],
          "scatterpolar": [
           {
            "marker": {
             "colorbar": {
              "outlinewidth": 0,
              "ticks": ""
             }
            },
            "type": "scatterpolar"
           }
          ],
          "scatterpolargl": [
           {
            "marker": {
             "colorbar": {
              "outlinewidth": 0,
              "ticks": ""
             }
            },
            "type": "scatterpolargl"
           }
          ],
          "scatterternary": [
           {
            "marker": {
             "colorbar": {
              "outlinewidth": 0,
              "ticks": ""
             }
            },
            "type": "scatterternary"
           }
          ],
          "surface": [
           {
            "colorbar": {
             "outlinewidth": 0,
             "ticks": ""
            },
            "colorscale": [
             [
              0,
              "#0d0887"
             ],
             [
              0.1111111111111111,
              "#46039f"
             ],
             [
              0.2222222222222222,
              "#7201a8"
             ],
             [
              0.3333333333333333,
              "#9c179e"
             ],
             [
              0.4444444444444444,
              "#bd3786"
             ],
             [
              0.5555555555555556,
              "#d8576b"
             ],
             [
              0.6666666666666666,
              "#ed7953"
             ],
             [
              0.7777777777777778,
              "#fb9f3a"
             ],
             [
              0.8888888888888888,
              "#fdca26"
             ],
             [
              1,
              "#f0f921"
             ]
            ],
            "type": "surface"
           }
          ],
          "table": [
           {
            "cells": {
             "fill": {
              "color": "#EBF0F8"
             },
             "line": {
              "color": "white"
             }
            },
            "header": {
             "fill": {
              "color": "#C8D4E3"
             },
             "line": {
              "color": "white"
             }
            },
            "type": "table"
           }
          ]
         },
         "layout": {
          "annotationdefaults": {
           "arrowcolor": "#2a3f5f",
           "arrowhead": 0,
           "arrowwidth": 1
          },
          "autotypenumbers": "strict",
          "coloraxis": {
           "colorbar": {
            "outlinewidth": 0,
            "ticks": ""
           }
          },
          "colorscale": {
           "diverging": [
            [
             0,
             "#8e0152"
            ],
            [
             0.1,
             "#c51b7d"
            ],
            [
             0.2,
             "#de77ae"
            ],
            [
             0.3,
             "#f1b6da"
            ],
            [
             0.4,
             "#fde0ef"
            ],
            [
             0.5,
             "#f7f7f7"
            ],
            [
             0.6,
             "#e6f5d0"
            ],
            [
             0.7,
             "#b8e186"
            ],
            [
             0.8,
             "#7fbc41"
            ],
            [
             0.9,
             "#4d9221"
            ],
            [
             1,
             "#276419"
            ]
           ],
           "sequential": [
            [
             0,
             "#0d0887"
            ],
            [
             0.1111111111111111,
             "#46039f"
            ],
            [
             0.2222222222222222,
             "#7201a8"
            ],
            [
             0.3333333333333333,
             "#9c179e"
            ],
            [
             0.4444444444444444,
             "#bd3786"
            ],
            [
             0.5555555555555556,
             "#d8576b"
            ],
            [
             0.6666666666666666,
             "#ed7953"
            ],
            [
             0.7777777777777778,
             "#fb9f3a"
            ],
            [
             0.8888888888888888,
             "#fdca26"
            ],
            [
             1,
             "#f0f921"
            ]
           ],
           "sequentialminus": [
            [
             0,
             "#0d0887"
            ],
            [
             0.1111111111111111,
             "#46039f"
            ],
            [
             0.2222222222222222,
             "#7201a8"
            ],
            [
             0.3333333333333333,
             "#9c179e"
            ],
            [
             0.4444444444444444,
             "#bd3786"
            ],
            [
             0.5555555555555556,
             "#d8576b"
            ],
            [
             0.6666666666666666,
             "#ed7953"
            ],
            [
             0.7777777777777778,
             "#fb9f3a"
            ],
            [
             0.8888888888888888,
             "#fdca26"
            ],
            [
             1,
             "#f0f921"
            ]
           ]
          },
          "colorway": [
           "#636efa",
           "#EF553B",
           "#00cc96",
           "#ab63fa",
           "#FFA15A",
           "#19d3f3",
           "#FF6692",
           "#B6E880",
           "#FF97FF",
           "#FECB52"
          ],
          "font": {
           "color": "#2a3f5f"
          },
          "geo": {
           "bgcolor": "white",
           "lakecolor": "white",
           "landcolor": "#E5ECF6",
           "showlakes": true,
           "showland": true,
           "subunitcolor": "white"
          },
          "hoverlabel": {
           "align": "left"
          },
          "hovermode": "closest",
          "mapbox": {
           "style": "light"
          },
          "paper_bgcolor": "white",
          "plot_bgcolor": "#E5ECF6",
          "polar": {
           "angularaxis": {
            "gridcolor": "white",
            "linecolor": "white",
            "ticks": ""
           },
           "bgcolor": "#E5ECF6",
           "radialaxis": {
            "gridcolor": "white",
            "linecolor": "white",
            "ticks": ""
           }
          },
          "scene": {
           "xaxis": {
            "backgroundcolor": "#E5ECF6",
            "gridcolor": "white",
            "gridwidth": 2,
            "linecolor": "white",
            "showbackground": true,
            "ticks": "",
            "zerolinecolor": "white"
           },
           "yaxis": {
            "backgroundcolor": "#E5ECF6",
            "gridcolor": "white",
            "gridwidth": 2,
            "linecolor": "white",
            "showbackground": true,
            "ticks": "",
            "zerolinecolor": "white"
           },
           "zaxis": {
            "backgroundcolor": "#E5ECF6",
            "gridcolor": "white",
            "gridwidth": 2,
            "linecolor": "white",
            "showbackground": true,
            "ticks": "",
            "zerolinecolor": "white"
           }
          },
          "shapedefaults": {
           "line": {
            "color": "#2a3f5f"
           }
          },
          "ternary": {
           "aaxis": {
            "gridcolor": "white",
            "linecolor": "white",
            "ticks": ""
           },
           "baxis": {
            "gridcolor": "white",
            "linecolor": "white",
            "ticks": ""
           },
           "bgcolor": "#E5ECF6",
           "caxis": {
            "gridcolor": "white",
            "linecolor": "white",
            "ticks": ""
           }
          },
          "title": {
           "x": 0.05
          },
          "xaxis": {
           "automargin": true,
           "gridcolor": "white",
           "linecolor": "white",
           "ticks": "",
           "title": {
            "standoff": 15
           },
           "zerolinecolor": "white",
           "zerolinewidth": 2
          },
          "yaxis": {
           "automargin": true,
           "gridcolor": "white",
           "linecolor": "white",
           "ticks": "",
           "title": {
            "standoff": 15
           },
           "zerolinecolor": "white",
           "zerolinewidth": 2
          }
         }
        },
        "xaxis": {
         "anchor": "y",
         "domain": [
          0,
          1
         ],
         "title": {
          "text": "Año-Mes"
         }
        },
        "yaxis": {
         "anchor": "x",
         "domain": [
          0,
          1
         ],
         "title": {
          "text": "Cantidad"
         }
        }
       }
      }
     },
     "metadata": {},
     "output_type": "display_data"
    }
   ],
   "source": [
    "import plotly.express as px\n",
    "fig = px.bar(\n",
    "    promedios, \n",
    "    x='Año-Mes',\n",
    "    y='Cantidad',\n",
    "    color='Entidad',\n",
    "    )\n",
    "fig.show() "
   ]
  },
  {
   "cell_type": "markdown",
   "id": "560f7d43",
   "metadata": {},
   "source": [
    "b) El delito más común por municipio\n",
    "\n",
    "> Respuesta: El delito más común es el Robo Total en Aguascalientes, Baja California y Baja California Sur"
   ]
  },
  {
   "cell_type": "code",
   "execution_count": 17,
   "id": "52f2c62a",
   "metadata": {},
   "outputs": [
    {
     "data": {
      "text/html": [
       "<div>\n",
       "<style scoped>\n",
       "    .dataframe tbody tr th:only-of-type {\n",
       "        vertical-align: middle;\n",
       "    }\n",
       "\n",
       "    .dataframe tbody tr th {\n",
       "        vertical-align: top;\n",
       "    }\n",
       "\n",
       "    .dataframe thead th {\n",
       "        text-align: right;\n",
       "    }\n",
       "</style>\n",
       "<table border=\"1\" class=\"dataframe\">\n",
       "  <thead>\n",
       "    <tr style=\"text-align: right;\">\n",
       "      <th></th>\n",
       "      <th>Entidad</th>\n",
       "      <th>Tipo_Delito</th>\n",
       "      <th>Cantidad</th>\n",
       "    </tr>\n",
       "  </thead>\n",
       "  <tbody>\n",
       "    <tr>\n",
       "      <th>0</th>\n",
       "      <td>Aguascalientes</td>\n",
       "      <td>Robo total</td>\n",
       "      <td>10364.0</td>\n",
       "    </tr>\n",
       "    <tr>\n",
       "      <th>1</th>\n",
       "      <td>Baja California</td>\n",
       "      <td>Robo total</td>\n",
       "      <td>29441.0</td>\n",
       "    </tr>\n",
       "    <tr>\n",
       "      <th>2</th>\n",
       "      <td>Baja California Sur</td>\n",
       "      <td>Robo total</td>\n",
       "      <td>5606.0</td>\n",
       "    </tr>\n",
       "  </tbody>\n",
       "</table>\n",
       "</div>"
      ],
      "text/plain": [
       "               Entidad Tipo_Delito  Cantidad\n",
       "0       Aguascalientes  Robo total   10364.0\n",
       "1     Baja California   Robo total   29441.0\n",
       "2  Baja California Sur  Robo total    5606.0"
      ]
     },
     "execution_count": 17,
     "metadata": {},
     "output_type": "execute_result"
    }
   ],
   "source": [
    "delito_mas_comun = df_long.groupby(['Entidad', 'Tipo_Delito'])['Cantidad'].sum().reset_index()\n",
    "delito_mas_comun = delito_mas_comun.sort_values(['Entidad', 'Cantidad'], ascending=[True, False])\n",
    "delito_top = delito_mas_comun.groupby('Entidad').first().reset_index()\n",
    "delito_top.head(3)"
   ]
  },
  {
   "cell_type": "code",
   "execution_count": 18,
   "id": "a7dfc5c3",
   "metadata": {},
   "outputs": [
    {
     "data": {
      "text/plain": [
       "<Axes: title={'center': 'Delito más común por entidad'}, xlabel='Entidad'>"
      ]
     },
     "execution_count": 18,
     "metadata": {},
     "output_type": "execute_result"
    },
    {
     "data": {
      "image/png": "[encoded data removed]",
      "text/plain": [
       "<Figure size 1200x600 with 1 Axes>"
      ]
     },
     "metadata": {},
     "output_type": "display_data"
    }
   ],
   "source": [
    "delito_top.plot(x='Entidad', y='Cantidad', kind='bar', figsize=(12, 6), title='Delito más común por entidad')"
   ]
  },
  {
   "cell_type": "code",
   "execution_count": 19,
   "id": "94b84c5f",
   "metadata": {},
   "outputs": [
    {
     "data": {
      "application/vnd.plotly.v1+json": {
       "config": {
        "plotlyServerURL": "https://plot.ly"
       },
       "data": [
        {
         "alignmentgroup": "True",
         "hovertemplate": "Tipo_Delito=Robo total<br>Entidad=%{x}<br>Cantidad=%{y}<extra></extra>",
         "legendgroup": "Robo total",
         "marker": {
          "color": "#636efa",
          "pattern": {
           "shape": ""
          }
         },
         "name": "Robo total",
         "offsetgroup": "Robo total",
         "orientation": "v",
         "showlegend": true,
         "textposition": "auto",
         "type": "bar",
         "x": [
          "Aguascalientes",
          "Baja California ",
          "Baja California Sur",
          "CDMX",
          "Campeche",
          "Chiapas",
          "Chihuahua",
          "Colima",
          "Guanajuato",
          "Guerrero",
          "Jalisco",
          "Michoacán",
          "Morelos",
          "México",
          "Nacional",
          "Oaxaca",
          "Puebla",
          "Queretaro",
          "Quintana Roo",
          "San Luis Potosí",
          "Sinaloa",
          "Tabasco",
          "Tamaulipas",
          "Tlaxcala",
          "Veracruz",
          "Zacatecas"
         ],
         "xaxis": "x",
         "y": [
          10364,
          29441,
          5606,
          67903,
          2868,
          2380,
          14249,
          4446,
          31658,
          5871,
          38459,
          11500,
          14554,
          122206,
          539190,
          6873,
          32344,
          21655,
          12586,
          13749,
          9141,
          9794,
          9389,
          2682,
          16213,
          5501
         ],
         "yaxis": "y"
        },
        {
         "alignmentgroup": "True",
         "hovertemplate": "Tipo_Delito=Violencia familiar<br>Entidad=%{x}<br>Cantidad=%{y}<extra></extra>",
         "legendgroup": "Violencia familiar",
         "marker": {
          "color": "#EF553B",
          "pattern": {
           "shape": ""
          }
         },
         "name": "Violencia familiar",
         "offsetgroup": "Violencia familiar",
         "orientation": "v",
         "showlegend": true,
         "textposition": "auto",
         "type": "bar",
         "x": [
          "Coahuila",
          "Durango",
          "Nayarit",
          "Nuevo León",
          "Sonora"
         ],
         "xaxis": "x",
         "y": [
          13022,
          5004,
          2513,
          19184,
          8366
         ],
         "yaxis": "y"
        },
        {
         "alignmentgroup": "True",
         "hovertemplate": "Tipo_Delito=Otros delitos del Fuero Común<br>Entidad=%{x}<br>Cantidad=%{y}<extra></extra>",
         "legendgroup": "Otros delitos del Fuero Común",
         "marker": {
          "color": "#00cc96",
          "pattern": {
           "shape": ""
          }
         },
         "name": "Otros delitos del Fuero Común",
         "offsetgroup": "Otros delitos del Fuero Común",
         "orientation": "v",
         "showlegend": true,
         "textposition": "auto",
         "type": "bar",
         "x": [
          "Hidalgo"
         ],
         "xaxis": "x",
         "y": [
          14771
         ],
         "yaxis": "y"
        },
        {
         "alignmentgroup": "True",
         "hovertemplate": "Tipo_Delito=Daño a la propiedad<br>Entidad=%{x}<br>Cantidad=%{y}<extra></extra>",
         "legendgroup": "Daño a la propiedad",
         "marker": {
          "color": "#ab63fa",
          "pattern": {
           "shape": ""
          }
         },
         "name": "Daño a la propiedad",
         "offsetgroup": "Daño a la propiedad",
         "orientation": "v",
         "showlegend": true,
         "textposition": "auto",
         "type": "bar",
         "x": [
          "Yucatán"
         ],
         "xaxis": "x",
         "y": [
          680
         ],
         "yaxis": "y"
        }
       ],
       "layout": {
        "barmode": "relative",
        "legend": {
         "title": {
          "text": "Tipo_Delito"
         },
         "tracegroupgap": 0
        },
        "margin": {
         "t": 60
        },
        "template": {
         "data": {
          "bar": [
           {
            "error_x": {
             "color": "#2a3f5f"
            },
            "error_y": {
             "color": "#2a3f5f"
            },
            "marker": {
             "line": {
              "color": "#E5ECF6",
              "width": 0.5
             },
             "pattern": {
              "fillmode": "overlay",
              "size": 10,
              "solidity": 0.2
             }
            },
            "type": "bar"
           }
          ],
          "barpolar": [
           {
            "marker": {
             "line": {
              "color": "#E5ECF6",
              "width": 0.5
             },
             "pattern": {
              "fillmode": "overlay",
              "size": 10,
              "solidity": 0.2
             }
            },
            "type": "barpolar"
           }
          ],
          "carpet": [
           {
            "aaxis": {
             "endlinecolor": "#2a3f5f",
             "gridcolor": "white",
             "linecolor": "white",
             "minorgridcolor": "white",
             "startlinecolor": "#2a3f5f"
            },
            "baxis": {
             "endlinecolor": "#2a3f5f",
             "gridcolor": "white",
             "linecolor": "white",
             "minorgridcolor": "white",
             "startlinecolor": "#2a3f5f"
            },
            "type": "carpet"
           }
          ],
          "choropleth": [
           {
            "colorbar": {
             "outlinewidth": 0,
             "ticks": ""
            },
            "type": "choropleth"
           }
          ],
          "contour": [
           {
            "colorbar": {
             "outlinewidth": 0,
             "ticks": ""
            },
            "colorscale": [
             [
              0,
              "#0d0887"
             ],
             [
              0.1111111111111111,
              "#46039f"
             ],
             [
              0.2222222222222222,
              "#7201a8"
             ],
             [
              0.3333333333333333,
              "#9c179e"
             ],
             [
              0.4444444444444444,
              "#bd3786"
             ],
             [
              0.5555555555555556,
              "#d8576b"
             ],
             [
              0.6666666666666666,
              "#ed7953"
             ],
             [
              0.7777777777777778,
              "#fb9f3a"
             ],
             [
              0.8888888888888888,
              "#fdca26"
             ],
             [
              1,
              "#f0f921"
             ]
            ],
            "type": "contour"
           }
          ],
          "contourcarpet": [
           {
            "colorbar": {
             "outlinewidth": 0,
             "ticks": ""
            },
            "type": "contourcarpet"
           }
          ],
          "heatmap": [
           {
            "colorbar": {
             "outlinewidth": 0,
             "ticks": ""
            },
            "colorscale": [
             [
              0,
              "#0d0887"
             ],
             [
              0.1111111111111111,
              "#46039f"
             ],
             [
              0.2222222222222222,
              "#7201a8"
             ],
             [
              0.3333333333333333,
              "#9c179e"
             ],
             [
              0.4444444444444444,
              "#bd3786"
             ],
             [
              0.5555555555555556,
              "#d8576b"
             ],
             [
              0.6666666666666666,
              "#ed7953"
             ],
             [
              0.7777777777777778,
              "#fb9f3a"
             ],
             [
              0.8888888888888888,
              "#fdca26"
             ],
             [
              1,
              "#f0f921"
             ]
            ],
            "type": "heatmap"
           }
          ],
          "heatmapgl": [
           {
            "colorbar": {
             "outlinewidth": 0,
             "ticks": ""
            },
            "colorscale": [
             [
              0,
              "#0d0887"
             ],
             [
              0.1111111111111111,
              "#46039f"
             ],
             [
              0.2222222222222222,
              "#7201a8"
             ],
             [
              0.3333333333333333,
              "#9c179e"
             ],
             [
              0.4444444444444444,
              "#bd3786"
             ],
             [
              0.5555555555555556,
              "#d8576b"
             ],
             [
              0.6666666666666666,
              "#ed7953"
             ],
             [
              0.7777777777777778,
              "#fb9f3a"
             ],
             [
              0.8888888888888888,
              "#fdca26"
             ],
             [
              1,
              "#f0f921"
             ]
            ],
            "type": "heatmapgl"
           }
          ],
          "histogram": [
           {
            "marker": {
             "pattern": {
              "fillmode": "overlay",
              "size": 10,
              "solidity": 0.2
             }
            },
            "type": "histogram"
           }
          ],
          "histogram2d": [
           {
            "colorbar": {
             "outlinewidth": 0,
             "ticks": ""
            },
            "colorscale": [
             [
              0,
              "#0d0887"
             ],
             [
              0.1111111111111111,
              "#46039f"
             ],
             [
              0.2222222222222222,
              "#7201a8"
             ],
             [
              0.3333333333333333,
              "#9c179e"
             ],
             [
              0.4444444444444444,
              "#bd3786"
             ],
             [
              0.5555555555555556,
              "#d8576b"
             ],
             [
              0.6666666666666666,
              "#ed7953"
             ],
             [
              0.7777777777777778,
              "#fb9f3a"
             ],
             [
              0.8888888888888888,
              "#fdca26"
             ],
             [
              1,
              "#f0f921"
             ]
            ],
            "type": "histogram2d"
           }
          ],
          "histogram2dcontour": [
           {
            "colorbar": {
             "outlinewidth": 0,
             "ticks": ""
            },
            "colorscale": [
             [
              0,
              "#0d0887"
             ],
             [
              0.1111111111111111,
              "#46039f"
             ],
             [
              0.2222222222222222,
              "#7201a8"
             ],
             [
              0.3333333333333333,
              "#9c179e"
             ],
             [
              0.4444444444444444,
              "#bd3786"
             ],
             [
              0.5555555555555556,
              "#d8576b"
             ],
             [
              0.6666666666666666,
              "#ed7953"
             ],
             [
              0.7777777777777778,
              "#fb9f3a"
             ],
             [
              0.8888888888888888,
              "#fdca26"
             ],
             [
              1,
              "#f0f921"
             ]
            ],
            "type": "histogram2dcontour"
           }
          ],
          "mesh3d": [
           {
            "colorbar": {
             "outlinewidth": 0,
             "ticks": ""
            },
            "type": "mesh3d"
           }
          ],
          "parcoords": [
           {
            "line": {
             "colorbar": {
              "outlinewidth": 0,
              "ticks": ""
             }
            },
            "type": "parcoords"
           }
          ],
          "pie": [
           {
            "automargin": true,
            "type": "pie"
           }
          ],
          "scatter": [
           {
            "fillpattern": {
             "fillmode": "overlay",
             "size": 10,
             "solidity": 0.2
            },
            "type": "scatter"
           }
          ],
          "scatter3d": [
           {
            "line": {
             "colorbar": {
              "outlinewidth": 0,
              "ticks": ""
             }
            },
            "marker": {
             "colorbar": {
              "outlinewidth": 0,
              "ticks": ""
             }
            },
            "type": "scatter3d"
           }
          ],
          "scattercarpet": [
           {
            "marker": {
             "colorbar": {
              "outlinewidth": 0,
              "ticks": ""
             }
            },
            "type": "scattercarpet"
           }
          ],
          "scattergeo": [
           {
            "marker": {
             "colorbar": {
              "outlinewidth": 0,
              "ticks": ""
             }
            },
            "type": "scattergeo"
           }
          ],
          "scattergl": [
           {
            "marker": {
             "colorbar": {
              "outlinewidth": 0,
              "ticks": ""
             }
            },
            "type": "scattergl"
           }
          ],
          "scattermapbox": [
           {
            "marker": {
             "colorbar": {
              "outlinewidth": 0,
              "ticks": ""
             }
            },
            "type": "scattermapbox"
           }
          ],
          "scatterpolar": [
           {
            "marker": {
             "colorbar": {
              "outlinewidth": 0,
              "ticks": ""
             }
            },
            "type": "scatterpolar"
           }
          ],
          "scatterpolargl": [
           {
            "marker": {
             "colorbar": {
              "outlinewidth": 0,
              "ticks": ""
             }
            },
            "type": "scatterpolargl"
           }
          ],
          "scatterternary": [
           {
            "marker": {
             "colorbar": {
              "outlinewidth": 0,
              "ticks": ""
             }
            },
            "type": "scatterternary"
           }
          ],
          "surface": [
           {
            "colorbar": {
             "outlinewidth": 0,
             "ticks": ""
            },
            "colorscale": [
             [
              0,
              "#0d0887"
             ],
             [
              0.1111111111111111,
              "#46039f"
             ],
             [
              0.2222222222222222,
              "#7201a8"
             ],
             [
              0.3333333333333333,
              "#9c179e"
             ],
             [
              0.4444444444444444,
              "#bd3786"
             ],
             [
              0.5555555555555556,
              "#d8576b"
             ],
             [
              0.6666666666666666,
              "#ed7953"
             ],
             [
              0.7777777777777778,
              "#fb9f3a"
             ],
             [
              0.8888888888888888,
              "#fdca26"
             ],
             [
              1,
              "#f0f921"
             ]
            ],
            "type": "surface"
           }
          ],
          "table": [
           {
            "cells": {
             "fill": {
              "color": "#EBF0F8"
             },
             "line": {
              "color": "white"
             }
            },
            "header": {
             "fill": {
              "color": "#C8D4E3"
             },
             "line": {
              "color": "white"
             }
            },
            "type": "table"
           }
          ]
         },
         "layout": {
          "annotationdefaults": {
           "arrowcolor": "#2a3f5f",
           "arrowhead": 0,
           "arrowwidth": 1
          },
          "autotypenumbers": "strict",
          "coloraxis": {
           "colorbar": {
            "outlinewidth": 0,
            "ticks": ""
           }
          },
          "colorscale": {
           "diverging": [
            [
             0,
             "#8e0152"
            ],
            [
             0.1,
             "#c51b7d"
            ],
            [
             0.2,
             "#de77ae"
            ],
            [
             0.3,
             "#f1b6da"
            ],
            [
             0.4,
             "#fde0ef"
            ],
            [
             0.5,
             "#f7f7f7"
            ],
            [
             0.6,
             "#e6f5d0"
            ],
            [
             0.7,
             "#b8e186"
            ],
            [
             0.8,
             "#7fbc41"
            ],
            [
             0.9,
             "#4d9221"
            ],
            [
             1,
             "#276419"
            ]
           ],
           "sequential": [
            [
             0,
             "#0d0887"
            ],
            [
             0.1111111111111111,
             "#46039f"
            ],
            [
             0.2222222222222222,
             "#7201a8"
            ],
            [
             0.3333333333333333,
             "#9c179e"
            ],
            [
             0.4444444444444444,
             "#bd3786"
            ],
            [
             0.5555555555555556,
             "#d8576b"
            ],
            [
             0.6666666666666666,
             "#ed7953"
            ],
            [
             0.7777777777777778,
             "#fb9f3a"
            ],
            [
             0.8888888888888888,
             "#fdca26"
            ],
            [
             1,
             "#f0f921"
            ]
           ],
           "sequentialminus": [
            [
             0,
             "#0d0887"
            ],
            [
             0.1111111111111111,
             "#46039f"
            ],
            [
             0.2222222222222222,
             "#7201a8"
            ],
            [
             0.3333333333333333,
             "#9c179e"
            ],
            [
             0.4444444444444444,
             "#bd3786"
            ],
            [
             0.5555555555555556,
             "#d8576b"
            ],
            [
             0.6666666666666666,
             "#ed7953"
            ],
            [
             0.7777777777777778,
             "#fb9f3a"
            ],
            [
             0.8888888888888888,
             "#fdca26"
            ],
            [
             1,
             "#f0f921"
            ]
           ]
          },
          "colorway": [
           "#636efa",
           "#EF553B",
           "#00cc96",
           "#ab63fa",
           "#FFA15A",
           "#19d3f3",
           "#FF6692",
           "#B6E880",
           "#FF97FF",
           "#FECB52"
          ],
          "font": {
           "color": "#2a3f5f"
          },
          "geo": {
           "bgcolor": "white",
           "lakecolor": "white",
           "landcolor": "#E5ECF6",
           "showlakes": true,
           "showland": true,
           "subunitcolor": "white"
          },
          "hoverlabel": {
           "align": "left"
          },
          "hovermode": "closest",
          "mapbox": {
           "style": "light"
          },
          "paper_bgcolor": "white",
          "plot_bgcolor": "#E5ECF6",
          "polar": {
           "angularaxis": {
            "gridcolor": "white",
            "linecolor": "white",
            "ticks": ""
           },
           "bgcolor": "#E5ECF6",
           "radialaxis": {
            "gridcolor": "white",
            "linecolor": "white",
            "ticks": ""
           }
          },
          "scene": {
           "xaxis": {
            "backgroundcolor": "#E5ECF6",
            "gridcolor": "white",
            "gridwidth": 2,
            "linecolor": "white",
            "showbackground": true,
            "ticks": "",
            "zerolinecolor": "white"
           },
           "yaxis": {
            "backgroundcolor": "#E5ECF6",
            "gridcolor": "white",
            "gridwidth": 2,
            "linecolor": "white",
            "showbackground": true,
            "ticks": "",
            "zerolinecolor": "white"
           },
           "zaxis": {
            "backgroundcolor": "#E5ECF6",
            "gridcolor": "white",
            "gridwidth": 2,
            "linecolor": "white",
            "showbackground": true,
            "ticks": "",
            "zerolinecolor": "white"
           }
          },
          "shapedefaults": {
           "line": {
            "color": "#2a3f5f"
           }
          },
          "ternary": {
           "aaxis": {
            "gridcolor": "white",
            "linecolor": "white",
            "ticks": ""
           },
           "baxis": {
            "gridcolor": "white",
            "linecolor": "white",
            "ticks": ""
           },
           "bgcolor": "#E5ECF6",
           "caxis": {
            "gridcolor": "white",
            "linecolor": "white",
            "ticks": ""
           }
          },
          "title": {
           "x": 0.05
          },
          "xaxis": {
           "automargin": true,
           "gridcolor": "white",
           "linecolor": "white",
           "ticks": "",
           "title": {
            "standoff": 15
           },
           "zerolinecolor": "white",
           "zerolinewidth": 2
          },
          "yaxis": {
           "automargin": true,
           "gridcolor": "white",
           "linecolor": "white",
           "ticks": "",
           "title": {
            "standoff": 15
           },
           "zerolinecolor": "white",
           "zerolinewidth": 2
          }
         }
        },
        "xaxis": {
         "anchor": "y",
         "domain": [
          0,
          1
         ],
         "title": {
          "text": "Entidad"
         }
        },
        "yaxis": {
         "anchor": "x",
         "domain": [
          0,
          1
         ],
         "title": {
          "text": "Cantidad"
         }
        }
       }
      }
     },
     "metadata": {},
     "output_type": "display_data"
    }
   ],
   "source": [
    "import plotly.express as px\n",
    "fig = px.bar(\n",
    "    delito_top, \n",
    "    x='Entidad',\n",
    "    y='Cantidad',\n",
    "    color='Tipo_Delito',\n",
    "    )\n",
    "fig.show()  "
   ]
  },
  {
   "cell_type": "markdown",
   "id": "3a794238",
   "metadata": {},
   "source": [
    "c) La temporada con más crímenes en México\n",
    "\n",
    "Respuesta: Mayo es el més con mayor crímenes con 27,509 seguido de Abril y Octubre."
   ]
  },
  {
   "cell_type": "code",
   "execution_count": 20,
   "id": "1f52d259",
   "metadata": {},
   "outputs": [
    {
     "data": {
      "application/vnd.plotly.v1+json": {
       "config": {
        "plotlyServerURL": "https://plot.ly"
       },
       "data": [
        {
         "alignmentgroup": "True",
         "hovertemplate": "Mes=%{x}<br>y=%{y}<extra></extra>",
         "legendgroup": "",
         "marker": {
          "color": "#636efa",
          "pattern": {
           "shape": ""
          }
         },
         "name": "",
         "offsetgroup": "",
         "orientation": "v",
         "showlegend": false,
         "textposition": "auto",
         "type": "bar",
         "x": [
          "Mayo",
          "Abril",
          "Octubre",
          "Marzo",
          "Julio",
          "Agosto",
          "Junio",
          "Enero",
          "Febrero",
          "Septiembre",
          "Noviembre",
          "Diciembre"
         ],
         "xaxis": "x",
         "y": [
          381164,
          363616,
          359830,
          354162,
          352728,
          351626,
          350022,
          347758,
          345716,
          341724,
          332420,
          302988
         ],
         "yaxis": "y"
        }
       ],
       "layout": {
        "barmode": "relative",
        "legend": {
         "tracegroupgap": 0
        },
        "template": {
         "data": {
          "bar": [
           {
            "error_x": {
             "color": "#2a3f5f"
            },
            "error_y": {
             "color": "#2a3f5f"
            },
            "marker": {
             "line": {
              "color": "#E5ECF6",
              "width": 0.5
             },
             "pattern": {
              "fillmode": "overlay",
              "size": 10,
              "solidity": 0.2
             }
            },
            "type": "bar"
           }
          ],
          "barpolar": [
           {
            "marker": {
             "line": {
              "color": "#E5ECF6",
              "width": 0.5
             },
             "pattern": {
              "fillmode": "overlay",
              "size": 10,
              "solidity": 0.2
             }
            },
            "type": "barpolar"
           }
          ],
          "carpet": [
           {
            "aaxis": {
             "endlinecolor": "#2a3f5f",
             "gridcolor": "white",
             "linecolor": "white",
             "minorgridcolor": "white",
             "startlinecolor": "#2a3f5f"
            },
            "baxis": {
             "endlinecolor": "#2a3f5f",
             "gridcolor": "white",
             "linecolor": "white",
             "minorgridcolor": "white",
             "startlinecolor": "#2a3f5f"
            },
            "type": "carpet"
           }
          ],
          "choropleth": [
           {
            "colorbar": {
             "outlinewidth": 0,
             "ticks": ""
            },
            "type": "choropleth"
           }
          ],
          "contour": [
           {
            "colorbar": {
             "outlinewidth": 0,
             "ticks": ""
            },
            "colorscale": [
             [
              0,
              "#0d0887"
             ],
             [
              0.1111111111111111,
              "#46039f"
             ],
             [
              0.2222222222222222,
              "#7201a8"
             ],
             [
              0.3333333333333333,
              "#9c179e"
             ],
             [
              0.4444444444444444,
              "#bd3786"
             ],
             [
              0.5555555555555556,
              "#d8576b"
             ],
             [
              0.6666666666666666,
              "#ed7953"
             ],
             [
              0.7777777777777778,
              "#fb9f3a"
             ],
             [
              0.8888888888888888,
              "#fdca26"
             ],
             [
              1,
              "#f0f921"
             ]
            ],
            "type": "contour"
           }
          ],
          "contourcarpet": [
           {
            "colorbar": {
             "outlinewidth": 0,
             "ticks": ""
            },
            "type": "contourcarpet"
           }
          ],
          "heatmap": [
           {
            "colorbar": {
             "outlinewidth": 0,
             "ticks": ""
            },
            "colorscale": [
             [
              0,
              "#0d0887"
             ],
             [
              0.1111111111111111,
              "#46039f"
             ],
             [
              0.2222222222222222,
              "#7201a8"
             ],
             [
              0.3333333333333333,
              "#9c179e"
             ],
             [
              0.4444444444444444,
              "#bd3786"
             ],
             [
              0.5555555555555556,
              "#d8576b"
             ],
             [
              0.6666666666666666,
              "#ed7953"
             ],
             [
              0.7777777777777778,
              "#fb9f3a"
             ],
             [
              0.8888888888888888,
              "#fdca26"
             ],
             [
              1,
              "#f0f921"
             ]
            ],
            "type": "heatmap"
           }
          ],
          "heatmapgl": [
           {
            "colorbar": {
             "outlinewidth": 0,
             "ticks": ""
            },
            "colorscale": [
             [
              0,
              "#0d0887"
             ],
             [
              0.1111111111111111,
              "#46039f"
             ],
             [
              0.2222222222222222,
              "#7201a8"
             ],
             [
              0.3333333333333333,
              "#9c179e"
             ],
             [
              0.4444444444444444,
              "#bd3786"
             ],
             [
              0.5555555555555556,
              "#d8576b"
             ],
             [
              0.6666666666666666,
              "#ed7953"
             ],
             [
              0.7777777777777778,
              "#fb9f3a"
             ],
             [
              0.8888888888888888,
              "#fdca26"
             ],
             [
              1,
              "#f0f921"
             ]
            ],
            "type": "heatmapgl"
           }
          ],
          "histogram": [
           {
            "marker": {
             "pattern": {
              "fillmode": "overlay",
              "size": 10,
              "solidity": 0.2
             }
            },
            "type": "histogram"
           }
          ],
          "histogram2d": [
           {
            "colorbar": {
             "outlinewidth": 0,
             "ticks": ""
            },
            "colorscale": [
             [
              0,
              "#0d0887"
             ],
             [
              0.1111111111111111,
              "#46039f"
             ],
             [
              0.2222222222222222,
              "#7201a8"
             ],
             [
              0.3333333333333333,
              "#9c179e"
             ],
             [
              0.4444444444444444,
              "#bd3786"
             ],
             [
              0.5555555555555556,
              "#d8576b"
             ],
             [
              0.6666666666666666,
              "#ed7953"
             ],
             [
              0.7777777777777778,
              "#fb9f3a"
             ],
             [
              0.8888888888888888,
              "#fdca26"
             ],
             [
              1,
              "#f0f921"
             ]
            ],
            "type": "histogram2d"
           }
          ],
          "histogram2dcontour": [
           {
            "colorbar": {
             "outlinewidth": 0,
             "ticks": ""
            },
            "colorscale": [
             [
              0,
              "#0d0887"
             ],
             [
              0.1111111111111111,
              "#46039f"
             ],
             [
              0.2222222222222222,
              "#7201a8"
             ],
             [
              0.3333333333333333,
              "#9c179e"
             ],
             [
              0.4444444444444444,
              "#bd3786"
             ],
             [
              0.5555555555555556,
              "#d8576b"
             ],
             [
              0.6666666666666666,
              "#ed7953"
             ],
             [
              0.7777777777777778,
              "#fb9f3a"
             ],
             [
              0.8888888888888888,
              "#fdca26"
             ],
             [
              1,
              "#f0f921"
             ]
            ],
            "type": "histogram2dcontour"
           }
          ],
          "mesh3d": [
           {
            "colorbar": {
             "outlinewidth": 0,
             "ticks": ""
            },
            "type": "mesh3d"
           }
          ],
          "parcoords": [
           {
            "line": {
             "colorbar": {
              "outlinewidth": 0,
              "ticks": ""
             }
            },
            "type": "parcoords"
           }
          ],
          "pie": [
           {
            "automargin": true,
            "type": "pie"
           }
          ],
          "scatter": [
           {
            "fillpattern": {
             "fillmode": "overlay",
             "size": 10,
             "solidity": 0.2
            },
            "type": "scatter"
           }
          ],
          "scatter3d": [
           {
            "line": {
             "colorbar": {
              "outlinewidth": 0,
              "ticks": ""
             }
            },
            "marker": {
             "colorbar": {
              "outlinewidth": 0,
              "ticks": ""
             }
            },
            "type": "scatter3d"
           }
          ],
          "scattercarpet": [
           {
            "marker": {
             "colorbar": {
              "outlinewidth": 0,
              "ticks": ""
             }
            },
            "type": "scattercarpet"
           }
          ],
          "scattergeo": [
           {
            "marker": {
             "colorbar": {
              "outlinewidth": 0,
              "ticks": ""
             }
            },
            "type": "scattergeo"
           }
          ],
          "scattergl": [
           {
            "marker": {
             "colorbar": {
              "outlinewidth": 0,
              "ticks": ""
             }
            },
            "type": "scattergl"
           }
          ],
          "scattermapbox": [
           {
            "marker": {
             "colorbar": {
              "outlinewidth": 0,
              "ticks": ""
             }
            },
            "type": "scattermapbox"
           }
          ],
          "scatterpolar": [
           {
            "marker": {
             "colorbar": {
              "outlinewidth": 0,
              "ticks": ""
             }
            },
            "type": "scatterpolar"
           }
          ],
          "scatterpolargl": [
           {
            "marker": {
             "colorbar": {
              "outlinewidth": 0,
              "ticks": ""
             }
            },
            "type": "scatterpolargl"
           }
          ],
          "scatterternary": [
           {
            "marker": {
             "colorbar": {
              "outlinewidth": 0,
              "ticks": ""
             }
            },
            "type": "scatterternary"
           }
          ],
          "surface": [
           {
            "colorbar": {
             "outlinewidth": 0,
             "ticks": ""
            },
            "colorscale": [
             [
              0,
              "#0d0887"
             ],
             [
              0.1111111111111111,
              "#46039f"
             ],
             [
              0.2222222222222222,
              "#7201a8"
             ],
             [
              0.3333333333333333,
              "#9c179e"
             ],
             [
              0.4444444444444444,
              "#bd3786"
             ],
             [
              0.5555555555555556,
              "#d8576b"
             ],
             [
              0.6666666666666666,
              "#ed7953"
             ],
             [
              0.7777777777777778,
              "#fb9f3a"
             ],
             [
              0.8888888888888888,
              "#fdca26"
             ],
             [
              1,
              "#f0f921"
             ]
            ],
            "type": "surface"
           }
          ],
          "table": [
           {
            "cells": {
             "fill": {
              "color": "#EBF0F8"
             },
             "line": {
              "color": "white"
             }
            },
            "header": {
             "fill": {
              "color": "#C8D4E3"
             },
             "line": {
              "color": "white"
             }
            },
            "type": "table"
           }
          ]
         },
         "layout": {
          "annotationdefaults": {
           "arrowcolor": "#2a3f5f",
           "arrowhead": 0,
           "arrowwidth": 1
          },
          "autotypenumbers": "strict",
          "coloraxis": {
           "colorbar": {
            "outlinewidth": 0,
            "ticks": ""
           }
          },
          "colorscale": {
           "diverging": [
            [
             0,
             "#8e0152"
            ],
            [
             0.1,
             "#c51b7d"
            ],
            [
             0.2,
             "#de77ae"
            ],
            [
             0.3,
             "#f1b6da"
            ],
            [
             0.4,
             "#fde0ef"
            ],
            [
             0.5,
             "#f7f7f7"
            ],
            [
             0.6,
             "#e6f5d0"
            ],
            [
             0.7,
             "#b8e186"
            ],
            [
             0.8,
             "#7fbc41"
            ],
            [
             0.9,
             "#4d9221"
            ],
            [
             1,
             "#276419"
            ]
           ],
           "sequential": [
            [
             0,
             "#0d0887"
            ],
            [
             0.1111111111111111,
             "#46039f"
            ],
            [
             0.2222222222222222,
             "#7201a8"
            ],
            [
             0.3333333333333333,
             "#9c179e"
            ],
            [
             0.4444444444444444,
             "#bd3786"
            ],
            [
             0.5555555555555556,
             "#d8576b"
            ],
            [
             0.6666666666666666,
             "#ed7953"
            ],
            [
             0.7777777777777778,
             "#fb9f3a"
            ],
            [
             0.8888888888888888,
             "#fdca26"
            ],
            [
             1,
             "#f0f921"
            ]
           ],
           "sequentialminus": [
            [
             0,
             "#0d0887"
            ],
            [
             0.1111111111111111,
             "#46039f"
            ],
            [
             0.2222222222222222,
             "#7201a8"
            ],
            [
             0.3333333333333333,
             "#9c179e"
            ],
            [
             0.4444444444444444,
             "#bd3786"
            ],
            [
             0.5555555555555556,
             "#d8576b"
            ],
            [
             0.6666666666666666,
             "#ed7953"
            ],
            [
             0.7777777777777778,
             "#fb9f3a"
            ],
            [
             0.8888888888888888,
             "#fdca26"
            ],
            [
             1,
             "#f0f921"
            ]
           ]
          },
          "colorway": [
           "#636efa",
           "#EF553B",
           "#00cc96",
           "#ab63fa",
           "#FFA15A",
           "#19d3f3",
           "#FF6692",
           "#B6E880",
           "#FF97FF",
           "#FECB52"
          ],
          "font": {
           "color": "#2a3f5f"
          },
          "geo": {
           "bgcolor": "white",
           "lakecolor": "white",
           "landcolor": "#E5ECF6",
           "showlakes": true,
           "showland": true,
           "subunitcolor": "white"
          },
          "hoverlabel": {
           "align": "left"
          },
          "hovermode": "closest",
          "mapbox": {
           "style": "light"
          },
          "paper_bgcolor": "white",
          "plot_bgcolor": "#E5ECF6",
          "polar": {
           "angularaxis": {
            "gridcolor": "white",
            "linecolor": "white",
            "ticks": ""
           },
           "bgcolor": "#E5ECF6",
           "radialaxis": {
            "gridcolor": "white",
            "linecolor": "white",
            "ticks": ""
           }
          },
          "scene": {
           "xaxis": {
            "backgroundcolor": "#E5ECF6",
            "gridcolor": "white",
            "gridwidth": 2,
            "linecolor": "white",
            "showbackground": true,
            "ticks": "",
            "zerolinecolor": "white"
           },
           "yaxis": {
            "backgroundcolor": "#E5ECF6",
            "gridcolor": "white",
            "gridwidth": 2,
            "linecolor": "white",
            "showbackground": true,
            "ticks": "",
            "zerolinecolor": "white"
           },
           "zaxis": {
            "backgroundcolor": "#E5ECF6",
            "gridcolor": "white",
            "gridwidth": 2,
            "linecolor": "white",
            "showbackground": true,
            "ticks": "",
            "zerolinecolor": "white"
           }
          },
          "shapedefaults": {
           "line": {
            "color": "#2a3f5f"
           }
          },
          "ternary": {
           "aaxis": {
            "gridcolor": "white",
            "linecolor": "white",
            "ticks": ""
           },
           "baxis": {
            "gridcolor": "white",
            "linecolor": "white",
            "ticks": ""
           },
           "bgcolor": "#E5ECF6",
           "caxis": {
            "gridcolor": "white",
            "linecolor": "white",
            "ticks": ""
           }
          },
          "title": {
           "x": 0.05
          },
          "xaxis": {
           "automargin": true,
           "gridcolor": "white",
           "linecolor": "white",
           "ticks": "",
           "title": {
            "standoff": 15
           },
           "zerolinecolor": "white",
           "zerolinewidth": 2
          },
          "yaxis": {
           "automargin": true,
           "gridcolor": "white",
           "linecolor": "white",
           "ticks": "",
           "title": {
            "standoff": 15
           },
           "zerolinecolor": "white",
           "zerolinewidth": 2
          }
         }
        },
        "title": {
         "text": "Total de delitos por mes"
        },
        "xaxis": {
         "anchor": "y",
         "domain": [
          0,
          1
         ],
         "title": {
          "text": "Mes"
         }
        },
        "yaxis": {
         "anchor": "x",
         "domain": [
          0,
          1
         ],
         "title": {
          "text": "y"
         }
        }
       }
      }
     },
     "metadata": {},
     "output_type": "display_data"
    }
   ],
   "source": [
    "temporada = df_long.groupby('Mes')['Cantidad'].sum().sort_values(ascending=False)\n",
    "\n",
    "fig = px.bar(\n",
    "    temporada,\n",
    "    x=temporada.index,\n",
    "    y=temporada.values,\n",
    "    title='Total de delitos por mes',\n",
    ")\n",
    "fig.show()"
   ]
  },
  {
   "cell_type": "markdown",
   "id": "8922f5c9",
   "metadata": {},
   "source": [
    "d) El número promedio de delitos agrupados por tipo de delito y año y mes en la ciudad de México ordenados de mayor a menor"
   ]
  },
  {
   "cell_type": "code",
   "execution_count": 21,
   "id": "a0fec397",
   "metadata": {},
   "outputs": [
    {
     "data": {
      "application/vnd.plotly.v1+json": {
       "config": {
        "plotlyServerURL": "https://plot.ly"
       },
       "data": [
        {
         "alignmentgroup": "True",
         "hovertemplate": "Año-Mes=2024-05-01 00:00:00<br>Tipo_Delito=%{x}<br>Cantidad=%{y}<extra></extra>",
         "legendgroup": "2024-05-01 00:00:00",
         "marker": {
          "color": "#636efa",
          "pattern": {
           "shape": ""
          }
         },
         "name": "2024-05-01 00:00:00",
         "offsetgroup": "2024-05-01 00:00:00",
         "orientation": "v",
         "showlegend": true,
         "textposition": "auto",
         "type": "bar",
         "x": [
          "Violencia familiar",
          "Fraude",
          "Amenazas",
          "Otros delitos del Fuero Común",
          "Daño a la propiedad",
          "Lesiones",
          "Delitos cometidos por servidores públicos",
          "Narcomenudeo",
          "Robo total",
          "Abuso sexual",
          "Despojo",
          "Abuso de confianza",
          "Otros delitos contra el patrimonio",
          "Electorales",
          "Falsificación",
          "Otros delitos contra la sociedad",
          "Otros delitos que atentan contra la libertad y la seguridad sexual",
          "Acoso sexual",
          "Violación equiparada",
          "Otros delitos que atentan contra la libertad personal",
          "Allanamiento de morada",
          "Extorsión",
          "Contra el medio ambiente",
          "Otros delitos que atentan contra la vida y la integridad corporal",
          "Homicidio",
          "Incumplimiento de obligaciones de asistencia familiar",
          "Violación simple",
          "Falsedad",
          "Corrupción de menores",
          "Aborto",
          "Otros delitos contra la familia",
          "Feminicidio",
          "Trata de personas",
          "Secuestro",
          "Violencia de género en todas sus modalidades distinta a la violencia familiar",
          "Incesto",
          "Hostigamiento sexual",
          "Tráfico de menores",
          "Rapto",
          "Evasión de presos"
         ],
         "xaxis": "x",
         "y": [
          3671,
          2023,
          1934,
          944,
          926,
          509.5,
          409,
          405,
          401.07142857142856,
          400,
          356,
          334,
          325,
          243,
          222,
          206,
          191,
          163,
          155,
          117,
          89,
          83,
          81,
          81,
          78,
          72,
          69,
          56,
          30,
          13,
          4,
          3,
          1,
          1,
          0,
          0,
          0,
          0,
          0,
          0
         ],
         "yaxis": "y"
        },
        {
         "alignmentgroup": "True",
         "hovertemplate": "Año-Mes=2024-03-01 00:00:00<br>Tipo_Delito=%{x}<br>Cantidad=%{y}<extra></extra>",
         "legendgroup": "2024-03-01 00:00:00",
         "marker": {
          "color": "#EF553B",
          "pattern": {
           "shape": ""
          }
         },
         "name": "2024-03-01 00:00:00",
         "offsetgroup": "2024-03-01 00:00:00",
         "orientation": "v",
         "showlegend": true,
         "textposition": "auto",
         "type": "bar",
         "x": [
          "Violencia familiar",
          "Fraude",
          "Amenazas",
          "Daño a la propiedad",
          "Otros delitos del Fuero Común",
          "Lesiones",
          "Delitos cometidos por servidores públicos",
          "Narcomenudeo",
          "Robo total",
          "Abuso sexual",
          "Despojo",
          "Abuso de confianza",
          "Otros delitos contra el patrimonio",
          "Falsificación",
          "Violación equiparada",
          "Otros delitos que atentan contra la libertad y la seguridad sexual",
          "Otros delitos contra la sociedad",
          "Acoso sexual",
          "Otros delitos que atentan contra la libertad personal",
          "Electorales",
          "Otros delitos que atentan contra la vida y la integridad corporal",
          "Incumplimiento de obligaciones de asistencia familiar",
          "Contra el medio ambiente",
          "Homicidio",
          "Falsedad",
          "Violación simple",
          "Allanamiento de morada",
          "Extorsión",
          "Corrupción de menores",
          "Aborto",
          "Trata de personas",
          "Feminicidio",
          "Otros delitos contra la familia",
          "Evasión de presos",
          "Rapto",
          "Secuestro",
          "Hostigamiento sexual",
          "Violencia de género en todas sus modalidades distinta a la violencia familiar",
          "Incesto",
          "Tráfico de menores"
         ],
         "xaxis": "x",
         "y": [
          3428,
          1982,
          1744,
          939,
          922,
          488.5,
          408,
          403,
          397.42857142857144,
          379,
          346,
          316,
          297,
          220,
          156,
          154,
          151,
          145,
          120,
          101,
          85,
          85,
          76,
          73,
          69,
          69,
          60,
          30,
          25,
          15,
          13,
          5,
          2,
          1,
          1,
          0.2,
          0,
          0,
          0,
          0
         ],
         "yaxis": "y"
        },
        {
         "alignmentgroup": "True",
         "hovertemplate": "Año-Mes=2024-04-01 00:00:00<br>Tipo_Delito=%{x}<br>Cantidad=%{y}<extra></extra>",
         "legendgroup": "2024-04-01 00:00:00",
         "marker": {
          "color": "#00cc96",
          "pattern": {
           "shape": ""
          }
         },
         "name": "2024-04-01 00:00:00",
         "offsetgroup": "2024-04-01 00:00:00",
         "orientation": "v",
         "showlegend": true,
         "textposition": "auto",
         "type": "bar",
         "x": [
          "Violencia familiar",
          "Fraude",
          "Amenazas",
          "Otros delitos del Fuero Común",
          "Daño a la propiedad",
          "Narcomenudeo",
          "Lesiones",
          "Delitos cometidos por servidores públicos",
          "Robo total",
          "Abuso sexual",
          "Abuso de confianza",
          "Otros delitos contra el patrimonio",
          "Despojo",
          "Falsificación",
          "Violación equiparada",
          "Acoso sexual",
          "Otros delitos contra la sociedad",
          "Otros delitos que atentan contra la libertad y la seguridad sexual",
          "Electorales",
          "Otros delitos que atentan contra la libertad personal",
          "Contra el medio ambiente",
          "Incumplimiento de obligaciones de asistencia familiar",
          "Falsedad",
          "Homicidio",
          "Allanamiento de morada",
          "Violación simple",
          "Otros delitos que atentan contra la vida y la integridad corporal",
          "Extorsión",
          "Corrupción de menores",
          "Aborto",
          "Trata de personas",
          "Evasión de presos",
          "Feminicidio",
          "Otros delitos contra la familia",
          "Rapto",
          "Secuestro",
          "Violencia de género en todas sus modalidades distinta a la violencia familiar",
          "Incesto",
          "Hostigamiento sexual",
          "Tráfico de menores"
         ],
         "xaxis": "x",
         "y": [
          3322,
          1965,
          1892,
          1054,
          844,
          496,
          460,
          394,
          386.92857142857144,
          374,
          352,
          339,
          307,
          223,
          169,
          154,
          153,
          152,
          121,
          119,
          92,
          88,
          71,
          68.5,
          67,
          65,
          62,
          38,
          31,
          18,
          9,
          3,
          3,
          2,
          1,
          0.4,
          0,
          0,
          0,
          0
         ],
         "yaxis": "y"
        },
        {
         "alignmentgroup": "True",
         "hovertemplate": "Año-Mes=2024-06-01 00:00:00<br>Tipo_Delito=%{x}<br>Cantidad=%{y}<extra></extra>",
         "legendgroup": "2024-06-01 00:00:00",
         "marker": {
          "color": "#ab63fa",
          "pattern": {
           "shape": ""
          }
         },
         "name": "2024-06-01 00:00:00",
         "offsetgroup": "2024-06-01 00:00:00",
         "orientation": "v",
         "showlegend": true,
         "textposition": "auto",
         "type": "bar",
         "x": [
          "Violencia familiar",
          "Amenazas",
          "Fraude",
          "Otros delitos del Fuero Común",
          "Daño a la propiedad",
          "Electorales",
          "Lesiones",
          "Robo total",
          "Abuso sexual",
          "Narcomenudeo",
          "Delitos cometidos por servidores públicos",
          "Despojo",
          "Otros delitos contra el patrimonio",
          "Abuso de confianza",
          "Falsificación",
          "Otros delitos que atentan contra la libertad y la seguridad sexual",
          "Violación equiparada",
          "Acoso sexual",
          "Otros delitos que atentan contra la libertad personal",
          "Otros delitos contra la sociedad",
          "Incumplimiento de obligaciones de asistencia familiar",
          "Allanamiento de morada",
          "Violación simple",
          "Homicidio",
          "Otros delitos que atentan contra la vida y la integridad corporal",
          "Contra el medio ambiente",
          "Falsedad",
          "Extorsión",
          "Corrupción de menores",
          "Feminicidio",
          "Aborto",
          "Trata de personas",
          "Evasión de presos",
          "Rapto",
          "Violencia de género en todas sus modalidades distinta a la violencia familiar",
          "Incesto",
          "Secuestro",
          "Otros delitos contra la familia",
          "Tráfico de menores",
          "Hostigamiento sexual"
         ],
         "xaxis": "x",
         "y": [
          3226,
          1787,
          1659,
          914,
          889,
          470,
          461,
          389.07142857142856,
          379,
          361,
          325,
          317,
          299,
          274,
          199,
          156,
          148,
          142,
          131,
          122,
          90,
          74,
          73,
          68,
          62,
          55,
          53,
          36,
          24,
          9,
          6,
          5,
          1,
          1,
          0,
          0,
          0,
          0,
          0,
          0
         ],
         "yaxis": "y"
        },
        {
         "alignmentgroup": "True",
         "hovertemplate": "Año-Mes=2024-07-01 00:00:00<br>Tipo_Delito=%{x}<br>Cantidad=%{y}<extra></extra>",
         "legendgroup": "2024-07-01 00:00:00",
         "marker": {
          "color": "#FFA15A",
          "pattern": {
           "shape": ""
          }
         },
         "name": "2024-07-01 00:00:00",
         "offsetgroup": "2024-07-01 00:00:00",
         "orientation": "v",
         "showlegend": true,
         "textposition": "auto",
         "type": "bar",
         "x": [
          "Violencia familiar",
          "Fraude",
          "Amenazas",
          "Otros delitos del Fuero Común",
          "Daño a la propiedad",
          "Narcomenudeo",
          "Abuso sexual",
          "Robo total",
          "Delitos cometidos por servidores públicos",
          "Lesiones",
          "Abuso de confianza",
          "Otros delitos contra el patrimonio",
          "Despojo",
          "Falsificación",
          "Violación equiparada",
          "Otros delitos que atentan contra la libertad y la seguridad sexual",
          "Acoso sexual",
          "Otros delitos contra la sociedad",
          "Otros delitos que atentan contra la libertad personal",
          "Otros delitos que atentan contra la vida y la integridad corporal",
          "Contra el medio ambiente",
          "Incumplimiento de obligaciones de asistencia familiar",
          "Allanamiento de morada",
          "Falsedad",
          "Homicidio",
          "Violación simple",
          "Corrupción de menores",
          "Extorsión",
          "Electorales",
          "Aborto",
          "Trata de personas",
          "Feminicidio",
          "Otros delitos contra la familia",
          "Evasión de presos",
          "Secuestro",
          "Violencia de género en todas sus modalidades distinta a la violencia familiar",
          "Incesto",
          "Tráfico de menores",
          "Rapto",
          "Hostigamiento sexual"
         ],
         "xaxis": "x",
         "y": [
          3033,
          1923,
          1713,
          956,
          925,
          449,
          437,
          417.5,
          402,
          394.5,
          332,
          316,
          296,
          238,
          157,
          145,
          122,
          121,
          108,
          94,
          87,
          84,
          70,
          66,
          61,
          59,
          58,
          31,
          15,
          12,
          11,
          5,
          2,
          1,
          0.2,
          0,
          0,
          0,
          0,
          0
         ],
         "yaxis": "y"
        },
        {
         "alignmentgroup": "True",
         "hovertemplate": "Año-Mes=2024-08-01 00:00:00<br>Tipo_Delito=%{x}<br>Cantidad=%{y}<extra></extra>",
         "legendgroup": "2024-08-01 00:00:00",
         "marker": {
          "color": "#19d3f3",
          "pattern": {
           "shape": ""
          }
         },
         "name": "2024-08-01 00:00:00",
         "offsetgroup": "2024-08-01 00:00:00",
         "orientation": "v",
         "showlegend": true,
         "textposition": "auto",
         "type": "bar",
         "x": [
          "Violencia familiar",
          "Fraude",
          "Amenazas",
          "Daño a la propiedad",
          "Otros delitos del Fuero Común",
          "Lesiones",
          "Robo total",
          "Narcomenudeo",
          "Abuso sexual",
          "Delitos cometidos por servidores públicos",
          "Otros delitos contra el patrimonio",
          "Abuso de confianza",
          "Falsificación",
          "Despojo",
          "Violación equiparada",
          "Otros delitos que atentan contra la libertad y la seguridad sexual",
          "Otros delitos que atentan contra la libertad personal",
          "Otros delitos contra la sociedad",
          "Acoso sexual",
          "Otros delitos que atentan contra la vida y la integridad corporal",
          "Incumplimiento de obligaciones de asistencia familiar",
          "Contra el medio ambiente",
          "Allanamiento de morada",
          "Violación simple",
          "Homicidio",
          "Falsedad",
          "Corrupción de menores",
          "Extorsión",
          "Aborto",
          "Trata de personas",
          "Feminicidio",
          "Electorales",
          "Evasión de presos",
          "Otros delitos contra la familia",
          "Secuestro",
          "Violencia de género en todas sus modalidades distinta a la violencia familiar",
          "Incesto",
          "Tráfico de menores",
          "Rapto",
          "Hostigamiento sexual"
         ],
         "xaxis": "x",
         "y": [
          2969,
          1925,
          1573,
          935,
          907,
          428.5,
          421.92857142857144,
          378,
          368,
          364,
          298,
          291,
          290,
          287,
          137,
          131,
          116,
          115,
          103,
          97,
          92,
          90,
          82,
          72,
          61,
          53,
          37,
          29,
          15,
          12,
          7,
          7,
          1,
          1,
          0.2,
          0,
          0,
          0,
          0,
          0
         ],
         "yaxis": "y"
        },
        {
         "alignmentgroup": "True",
         "hovertemplate": "Año-Mes=2024-09-01 00:00:00<br>Tipo_Delito=%{x}<br>Cantidad=%{y}<extra></extra>",
         "legendgroup": "2024-09-01 00:00:00",
         "marker": {
          "color": "#FF6692",
          "pattern": {
           "shape": ""
          }
         },
         "name": "2024-09-01 00:00:00",
         "offsetgroup": "2024-09-01 00:00:00",
         "orientation": "v",
         "showlegend": true,
         "textposition": "auto",
         "type": "bar",
         "x": [
          "Violencia familiar",
          "Amenazas",
          "Fraude",
          "Daño a la propiedad",
          "Otros delitos del Fuero Común",
          "Lesiones",
          "Robo total",
          "Abuso sexual",
          "Despojo",
          "Delitos cometidos por servidores públicos",
          "Narcomenudeo",
          "Abuso de confianza",
          "Otros delitos contra el patrimonio",
          "Falsificación",
          "Violación equiparada",
          "Otros delitos que atentan contra la libertad y la seguridad sexual",
          "Otros delitos que atentan contra la libertad personal",
          "Acoso sexual",
          "Otros delitos contra la sociedad",
          "Otros delitos que atentan contra la vida y la integridad corporal",
          "Contra el medio ambiente",
          "Incumplimiento de obligaciones de asistencia familiar",
          "Violación simple",
          "Homicidio",
          "Allanamiento de morada",
          "Falsedad",
          "Extorsión",
          "Corrupción de menores",
          "Aborto",
          "Electorales",
          "Feminicidio",
          "Trata de personas",
          "Evasión de presos",
          "Otros delitos contra la familia",
          "Tráfico de menores",
          "Secuestro",
          "Violencia de género en todas sus modalidades distinta a la violencia familiar",
          "Incesto",
          "Rapto",
          "Hostigamiento sexual"
         ],
         "xaxis": "x",
         "y": [
          2951,
          1745,
          1585,
          935,
          802,
          470.5,
          405.2857142857143,
          330,
          305,
          300,
          298,
          293,
          270,
          237,
          161,
          133,
          120,
          115,
          106,
          96,
          90,
          83,
          79,
          70.5,
          57,
          45,
          43,
          38,
          16,
          6,
          5,
          5,
          3,
          2,
          1,
          0.2,
          0,
          0,
          0,
          0
         ],
         "yaxis": "y"
        },
        {
         "alignmentgroup": "True",
         "hovertemplate": "Año-Mes=2024-02-01 00:00:00<br>Tipo_Delito=%{x}<br>Cantidad=%{y}<extra></extra>",
         "legendgroup": "2024-02-01 00:00:00",
         "marker": {
          "color": "#B6E880",
          "pattern": {
           "shape": ""
          }
         },
         "name": "2024-02-01 00:00:00",
         "offsetgroup": "2024-02-01 00:00:00",
         "orientation": "v",
         "showlegend": true,
         "textposition": "auto",
         "type": "bar",
         "x": [
          "Violencia familiar",
          "Fraude",
          "Amenazas",
          "Daño a la propiedad",
          "Otros delitos del Fuero Común",
          "Lesiones",
          "Narcomenudeo",
          "Robo total",
          "Delitos cometidos por servidores públicos",
          "Abuso sexual",
          "Despojo",
          "Abuso de confianza",
          "Otros delitos contra el patrimonio",
          "Falsificación",
          "Otros delitos contra la sociedad",
          "Otros delitos que atentan contra la libertad y la seguridad sexual",
          "Violación equiparada",
          "Acoso sexual",
          "Otros delitos que atentan contra la libertad personal",
          "Incumplimiento de obligaciones de asistencia familiar",
          "Contra el medio ambiente",
          "Otros delitos que atentan contra la vida y la integridad corporal",
          "Falsedad",
          "Homicidio",
          "Violación simple",
          "Electorales",
          "Allanamiento de morada",
          "Extorsión",
          "Corrupción de menores",
          "Aborto",
          "Trata de personas",
          "Feminicidio",
          "Evasión de presos",
          "Rapto",
          "Otros delitos contra la familia",
          "Secuestro",
          "Violencia de género en todas sus modalidades distinta a la violencia familiar",
          "Incesto",
          "Tráfico de menores",
          "Hostigamiento sexual"
         ],
         "xaxis": "x",
         "y": [
          2833,
          1842,
          1590,
          915,
          860,
          433,
          414,
          404.2857142857143,
          386,
          350,
          337,
          279,
          276,
          193,
          162,
          142,
          141,
          115,
          102,
          97,
          93,
          85,
          79,
          72,
          60,
          58,
          55,
          52,
          25,
          13,
          13,
          7,
          1,
          1,
          1,
          0.6,
          0,
          0,
          0,
          0
         ],
         "yaxis": "y"
        },
        {
         "alignmentgroup": "True",
         "hovertemplate": "Año-Mes=2024-11-01 00:00:00<br>Tipo_Delito=%{x}<br>Cantidad=%{y}<extra></extra>",
         "legendgroup": "2024-11-01 00:00:00",
         "marker": {
          "color": "#FF97FF",
          "pattern": {
           "shape": ""
          }
         },
         "name": "2024-11-01 00:00:00",
         "offsetgroup": "2024-11-01 00:00:00",
         "orientation": "v",
         "showlegend": true,
         "textposition": "auto",
         "type": "bar",
         "x": [
          "Violencia familiar",
          "Fraude",
          "Amenazas",
          "Daño a la propiedad",
          "Otros delitos del Fuero Común",
          "Narcomenudeo",
          "Lesiones",
          "Robo total",
          "Abuso sexual",
          "Abuso de confianza",
          "Delitos cometidos por servidores públicos",
          "Despojo",
          "Otros delitos contra el patrimonio",
          "Falsificación",
          "Violación equiparada",
          "Otros delitos contra la sociedad",
          "Otros delitos que atentan contra la libertad y la seguridad sexual",
          "Acoso sexual",
          "Otros delitos que atentan contra la libertad personal",
          "Otros delitos que atentan contra la vida y la integridad corporal",
          "Incumplimiento de obligaciones de asistencia familiar",
          "Allanamiento de morada",
          "Homicidio",
          "Violación simple",
          "Contra el medio ambiente",
          "Falsedad",
          "Corrupción de menores",
          "Extorsión",
          "Aborto",
          "Feminicidio",
          "Electorales",
          "Trata de personas",
          "Tráfico de menores",
          "Secuestro",
          "Violencia de género en todas sus modalidades distinta a la violencia familiar",
          "Incesto",
          "Hostigamiento sexual",
          "Rapto",
          "Evasión de presos",
          "Otros delitos contra la familia"
         ],
         "xaxis": "x",
         "y": [
          2797,
          1758,
          1601,
          895,
          731,
          508,
          445.5,
          405.42857142857144,
          347,
          319,
          312,
          285,
          238,
          177,
          137,
          135,
          134,
          125,
          107,
          94,
          90,
          72,
          71,
          66,
          56,
          54,
          34,
          34,
          17,
          5,
          4,
          4,
          2,
          1,
          0,
          0,
          0,
          0,
          0,
          0
         ],
         "yaxis": "y"
        },
        {
         "alignmentgroup": "True",
         "hovertemplate": "Año-Mes=2024-10-01 00:00:00<br>Tipo_Delito=%{x}<br>Cantidad=%{y}<extra></extra>",
         "legendgroup": "2024-10-01 00:00:00",
         "marker": {
          "color": "#FECB52",
          "pattern": {
           "shape": ""
          }
         },
         "name": "2024-10-01 00:00:00",
         "offsetgroup": "2024-10-01 00:00:00",
         "orientation": "v",
         "showlegend": true,
         "textposition": "auto",
         "type": "bar",
         "x": [
          "Violencia familiar",
          "Fraude",
          "Amenazas",
          "Daño a la propiedad",
          "Otros delitos del Fuero Común",
          "Lesiones",
          "Narcomenudeo",
          "Robo total",
          "Abuso sexual",
          "Delitos cometidos por servidores públicos",
          "Abuso de confianza",
          "Otros delitos contra el patrimonio",
          "Despojo",
          "Falsificación",
          "Otros delitos contra la sociedad",
          "Otros delitos que atentan contra la libertad y la seguridad sexual",
          "Violación equiparada",
          "Acoso sexual",
          "Otros delitos que atentan contra la vida y la integridad corporal",
          "Otros delitos que atentan contra la libertad personal",
          "Incumplimiento de obligaciones de asistencia familiar",
          "Falsedad",
          "Violación simple",
          "Homicidio",
          "Contra el medio ambiente",
          "Allanamiento de morada",
          "Corrupción de menores",
          "Extorsión",
          "Aborto",
          "Trata de personas",
          "Feminicidio",
          "Electorales",
          "Otros delitos contra la familia",
          "Secuestro",
          "Hostigamiento sexual",
          "Violencia de género en todas sus modalidades distinta a la violencia familiar",
          "Incesto",
          "Tráfico de menores",
          "Rapto",
          "Evasión de presos"
         ],
         "xaxis": "x",
         "y": [
          2773,
          1802,
          1729,
          951,
          807,
          454.5,
          437,
          422.5,
          369,
          318,
          309,
          301,
          288,
          247,
          151,
          139,
          138,
          128,
          106,
          98,
          92,
          69,
          68,
          66.5,
          66,
          58,
          45,
          36,
          19,
          8,
          7,
          4,
          2,
          0.2,
          0,
          0,
          0,
          0,
          0,
          0
         ],
         "yaxis": "y"
        },
        {
         "alignmentgroup": "True",
         "hovertemplate": "Año-Mes=2024-01-01 00:00:00<br>Tipo_Delito=%{x}<br>Cantidad=%{y}<extra></extra>",
         "legendgroup": "2024-01-01 00:00:00",
         "marker": {
          "color": "#636efa",
          "pattern": {
           "shape": ""
          }
         },
         "name": "2024-01-01 00:00:00",
         "offsetgroup": "2024-01-01 00:00:00",
         "orientation": "v",
         "showlegend": true,
         "textposition": "auto",
         "type": "bar",
         "x": [
          "Violencia familiar",
          "Fraude",
          "Amenazas",
          "Otros delitos del Fuero Común",
          "Daño a la propiedad",
          "Lesiones",
          "Robo total",
          "Delitos cometidos por servidores públicos",
          "Narcomenudeo",
          "Abuso de confianza",
          "Abuso sexual",
          "Despojo",
          "Otros delitos contra el patrimonio",
          "Falsificación",
          "Otros delitos contra la sociedad",
          "Otros delitos que atentan contra la libertad y la seguridad sexual",
          "Acoso sexual",
          "Violación equiparada",
          "Otros delitos que atentan contra la libertad personal",
          "Incumplimiento de obligaciones de asistencia familiar",
          "Otros delitos que atentan contra la vida y la integridad corporal",
          "Homicidio",
          "Allanamiento de morada",
          "Contra el medio ambiente",
          "Falsedad",
          "Violación simple",
          "Electorales",
          "Extorsión",
          "Aborto",
          "Corrupción de menores",
          "Feminicidio",
          "Trata de personas",
          "Otros delitos contra la familia",
          "Rapto",
          "Violencia de género en todas sus modalidades distinta a la violencia familiar",
          "Evasión de presos",
          "Tráfico de menores",
          "Hostigamiento sexual",
          "Secuestro",
          "Incesto"
         ],
         "xaxis": "x",
         "y": [
          2740,
          1856,
          1448,
          1000,
          819,
          410,
          409.14285714285717,
          378,
          362,
          328,
          311,
          263,
          232,
          182,
          140,
          138,
          130,
          127,
          120,
          86,
          74,
          66.5,
          66,
          52,
          50,
          48,
          41,
          27,
          22,
          18,
          8,
          7,
          1,
          1,
          0,
          0,
          0,
          0,
          0,
          0
         ],
         "yaxis": "y"
        },
        {
         "alignmentgroup": "True",
         "hovertemplate": "Año-Mes=2024-12-01 00:00:00<br>Tipo_Delito=%{x}<br>Cantidad=%{y}<extra></extra>",
         "legendgroup": "2024-12-01 00:00:00",
         "marker": {
          "color": "#EF553B",
          "pattern": {
           "shape": ""
          }
         },
         "name": "2024-12-01 00:00:00",
         "offsetgroup": "2024-12-01 00:00:00",
         "orientation": "v",
         "showlegend": true,
         "textposition": "auto",
         "type": "bar",
         "x": [
          "Violencia familiar",
          "Fraude",
          "Amenazas",
          "Daño a la propiedad",
          "Otros delitos del Fuero Común",
          "Lesiones",
          "Robo total",
          "Narcomenudeo",
          "Abuso de confianza",
          "Delitos cometidos por servidores públicos",
          "Despojo",
          "Abuso sexual",
          "Otros delitos contra el patrimonio",
          "Falsificación",
          "Violación equiparada",
          "Otros delitos contra la sociedad",
          "Otros delitos que atentan contra la libertad y la seguridad sexual",
          "Otros delitos que atentan contra la libertad personal",
          "Acoso sexual",
          "Otros delitos que atentan contra la vida y la integridad corporal",
          "Homicidio",
          "Incumplimiento de obligaciones de asistencia familiar",
          "Falsedad",
          "Violación simple",
          "Allanamiento de morada",
          "Contra el medio ambiente",
          "Extorsión",
          "Aborto",
          "Corrupción de menores",
          "Feminicidio",
          "Trata de personas",
          "Evasión de presos",
          "Electorales",
          "Otros delitos contra la familia",
          "Secuestro",
          "Hostigamiento sexual",
          "Violencia de género en todas sus modalidades distinta a la violencia familiar",
          "Incesto",
          "Tráfico de menores",
          "Rapto"
         ],
         "xaxis": "x",
         "y": [
          2515,
          1621,
          1376,
          839,
          611,
          393.5,
          389.64285714285717,
          389,
          306,
          280,
          256,
          239,
          206,
          183,
          109,
          105,
          102,
          92,
          86,
          82,
          76,
          76,
          59,
          58,
          54,
          54,
          34,
          20,
          19,
          4,
          3,
          2,
          2,
          1,
          0.6,
          0,
          0,
          0,
          0,
          0
         ],
         "yaxis": "y"
        }
       ],
       "layout": {
        "barmode": "relative",
        "legend": {
         "title": {
          "text": "Año-Mes"
         },
         "tracegroupgap": 0
        },
        "template": {
         "data": {
          "bar": [
           {
            "error_x": {
             "color": "#2a3f5f"
            },
            "error_y": {
             "color": "#2a3f5f"
            },
            "marker": {
             "line": {
              "color": "#E5ECF6",
              "width": 0.5
             },
             "pattern": {
              "fillmode": "overlay",
              "size": 10,
              "solidity": 0.2
             }
            },
            "type": "bar"
           }
          ],
          "barpolar": [
           {
            "marker": {
             "line": {
              "color": "#E5ECF6",
              "width": 0.5
             },
             "pattern": {
              "fillmode": "overlay",
              "size": 10,
              "solidity": 0.2
             }
            },
            "type": "barpolar"
           }
          ],
          "carpet": [
           {
            "aaxis": {
             "endlinecolor": "#2a3f5f",
             "gridcolor": "white",
             "linecolor": "white",
             "minorgridcolor": "white",
             "startlinecolor": "#2a3f5f"
            },
            "baxis": {
             "endlinecolor": "#2a3f5f",
             "gridcolor": "white",
             "linecolor": "white",
             "minorgridcolor": "white",
             "startlinecolor": "#2a3f5f"
            },
            "type": "carpet"
           }
          ],
          "choropleth": [
           {
            "colorbar": {
             "outlinewidth": 0,
             "ticks": ""
            },
            "type": "choropleth"
           }
          ],
          "contour": [
           {
            "colorbar": {
             "outlinewidth": 0,
             "ticks": ""
            },
            "colorscale": [
             [
              0,
              "#0d0887"
             ],
             [
              0.1111111111111111,
              "#46039f"
             ],
             [
              0.2222222222222222,
              "#7201a8"
             ],
             [
              0.3333333333333333,
              "#9c179e"
             ],
             [
              0.4444444444444444,
              "#bd3786"
             ],
             [
              0.5555555555555556,
              "#d8576b"
             ],
             [
              0.6666666666666666,
              "#ed7953"
             ],
             [
              0.7777777777777778,
              "#fb9f3a"
             ],
             [
              0.8888888888888888,
              "#fdca26"
             ],
             [
              1,
              "#f0f921"
             ]
            ],
            "type": "contour"
           }
          ],
          "contourcarpet": [
           {
            "colorbar": {
             "outlinewidth": 0,
             "ticks": ""
            },
            "type": "contourcarpet"
           }
          ],
          "heatmap": [
           {
            "colorbar": {
             "outlinewidth": 0,
             "ticks": ""
            },
            "colorscale": [
             [
              0,
              "#0d0887"
             ],
             [
              0.1111111111111111,
              "#46039f"
             ],
             [
              0.2222222222222222,
              "#7201a8"
             ],
             [
              0.3333333333333333,
              "#9c179e"
             ],
             [
              0.4444444444444444,
              "#bd3786"
             ],
             [
              0.5555555555555556,
              "#d8576b"
             ],
             [
              0.6666666666666666,
              "#ed7953"
             ],
             [
              0.7777777777777778,
              "#fb9f3a"
             ],
             [
              0.8888888888888888,
              "#fdca26"
             ],
             [
              1,
              "#f0f921"
             ]
            ],
            "type": "heatmap"
           }
          ],
          "heatmapgl": [
           {
            "colorbar": {
             "outlinewidth": 0,
             "ticks": ""
            },
            "colorscale": [
             [
              0,
              "#0d0887"
             ],
             [
              0.1111111111111111,
              "#46039f"
             ],
             [
              0.2222222222222222,
              "#7201a8"
             ],
             [
              0.3333333333333333,
              "#9c179e"
             ],
             [
              0.4444444444444444,
              "#bd3786"
             ],
             [
              0.5555555555555556,
              "#d8576b"
             ],
             [
              0.6666666666666666,
              "#ed7953"
             ],
             [
              0.7777777777777778,
              "#fb9f3a"
             ],
             [
              0.8888888888888888,
              "#fdca26"
             ],
             [
              1,
              "#f0f921"
             ]
            ],
            "type": "heatmapgl"
           }
          ],
          "histogram": [
           {
            "marker": {
             "pattern": {
              "fillmode": "overlay",
              "size": 10,
              "solidity": 0.2
             }
            },
            "type": "histogram"
           }
          ],
          "histogram2d": [
           {
            "colorbar": {
             "outlinewidth": 0,
             "ticks": ""
            },
            "colorscale": [
             [
              0,
              "#0d0887"
             ],
             [
              0.1111111111111111,
              "#46039f"
             ],
             [
              0.2222222222222222,
              "#7201a8"
             ],
             [
              0.3333333333333333,
              "#9c179e"
             ],
             [
              0.4444444444444444,
              "#bd3786"
             ],
             [
              0.5555555555555556,
              "#d8576b"
             ],
             [
              0.6666666666666666,
              "#ed7953"
             ],
             [
              0.7777777777777778,
              "#fb9f3a"
             ],
             [
              0.8888888888888888,
              "#fdca26"
             ],
             [
              1,
              "#f0f921"
             ]
            ],
            "type": "histogram2d"
           }
          ],
          "histogram2dcontour": [
           {
            "colorbar": {
             "outlinewidth": 0,
             "ticks": ""
            },
            "colorscale": [
             [
              0,
              "#0d0887"
             ],
             [
              0.1111111111111111,
              "#46039f"
             ],
             [
              0.2222222222222222,
              "#7201a8"
             ],
             [
              0.3333333333333333,
              "#9c179e"
             ],
             [
              0.4444444444444444,
              "#bd3786"
             ],
             [
              0.5555555555555556,
              "#d8576b"
             ],
             [
              0.6666666666666666,
              "#ed7953"
             ],
             [
              0.7777777777777778,
              "#fb9f3a"
             ],
             [
              0.8888888888888888,
              "#fdca26"
             ],
             [
              1,
              "#f0f921"
             ]
            ],
            "type": "histogram2dcontour"
           }
          ],
          "mesh3d": [
           {
            "colorbar": {
             "outlinewidth": 0,
             "ticks": ""
            },
            "type": "mesh3d"
           }
          ],
          "parcoords": [
           {
            "line": {
             "colorbar": {
              "outlinewidth": 0,
              "ticks": ""
             }
            },
            "type": "parcoords"
           }
          ],
          "pie": [
           {
            "automargin": true,
            "type": "pie"
           }
          ],
          "scatter": [
           {
            "fillpattern": {
             "fillmode": "overlay",
             "size": 10,
             "solidity": 0.2
            },
            "type": "scatter"
           }
          ],
          "scatter3d": [
           {
            "line": {
             "colorbar": {
              "outlinewidth": 0,
              "ticks": ""
             }
            },
            "marker": {
             "colorbar": {
              "outlinewidth": 0,
              "ticks": ""
             }
            },
            "type": "scatter3d"
           }
          ],
          "scattercarpet": [
           {
            "marker": {
             "colorbar": {
              "outlinewidth": 0,
              "ticks": ""
             }
            },
            "type": "scattercarpet"
           }
          ],
          "scattergeo": [
           {
            "marker": {
             "colorbar": {
              "outlinewidth": 0,
              "ticks": ""
             }
            },
            "type": "scattergeo"
           }
          ],
          "scattergl": [
           {
            "marker": {
             "colorbar": {
              "outlinewidth": 0,
              "ticks": ""
             }
            },
            "type": "scattergl"
           }
          ],
          "scattermapbox": [
           {
            "marker": {
             "colorbar": {
              "outlinewidth": 0,
              "ticks": ""
             }
            },
            "type": "scattermapbox"
           }
          ],
          "scatterpolar": [
           {
            "marker": {
             "colorbar": {
              "outlinewidth": 0,
              "ticks": ""
             }
            },
            "type": "scatterpolar"
           }
          ],
          "scatterpolargl": [
           {
            "marker": {
             "colorbar": {
              "outlinewidth": 0,
              "ticks": ""
             }
            },
            "type": "scatterpolargl"
           }
          ],
          "scatterternary": [
           {
            "marker": {
             "colorbar": {
              "outlinewidth": 0,
              "ticks": ""
             }
            },
            "type": "scatterternary"
           }
          ],
          "surface": [
           {
            "colorbar": {
             "outlinewidth": 0,
             "ticks": ""
            },
            "colorscale": [
             [
              0,
              "#0d0887"
             ],
             [
              0.1111111111111111,
              "#46039f"
             ],
             [
              0.2222222222222222,
              "#7201a8"
             ],
             [
              0.3333333333333333,
              "#9c179e"
             ],
             [
              0.4444444444444444,
              "#bd3786"
             ],
             [
              0.5555555555555556,
              "#d8576b"
             ],
             [
              0.6666666666666666,
              "#ed7953"
             ],
             [
              0.7777777777777778,
              "#fb9f3a"
             ],
             [
              0.8888888888888888,
              "#fdca26"
             ],
             [
              1,
              "#f0f921"
             ]
            ],
            "type": "surface"
           }
          ],
          "table": [
           {
            "cells": {
             "fill": {
              "color": "#EBF0F8"
             },
             "line": {
              "color": "white"
             }
            },
            "header": {
             "fill": {
              "color": "#C8D4E3"
             },
             "line": {
              "color": "white"
             }
            },
            "type": "table"
           }
          ]
         },
         "layout": {
          "annotationdefaults": {
           "arrowcolor": "#2a3f5f",
           "arrowhead": 0,
           "arrowwidth": 1
          },
          "autotypenumbers": "strict",
          "coloraxis": {
           "colorbar": {
            "outlinewidth": 0,
            "ticks": ""
           }
          },
          "colorscale": {
           "diverging": [
            [
             0,
             "#8e0152"
            ],
            [
             0.1,
             "#c51b7d"
            ],
            [
             0.2,
             "#de77ae"
            ],
            [
             0.3,
             "#f1b6da"
            ],
            [
             0.4,
             "#fde0ef"
            ],
            [
             0.5,
             "#f7f7f7"
            ],
            [
             0.6,
             "#e6f5d0"
            ],
            [
             0.7,
             "#b8e186"
            ],
            [
             0.8,
             "#7fbc41"
            ],
            [
             0.9,
             "#4d9221"
            ],
            [
             1,
             "#276419"
            ]
           ],
           "sequential": [
            [
             0,
             "#0d0887"
            ],
            [
             0.1111111111111111,
             "#46039f"
            ],
            [
             0.2222222222222222,
             "#7201a8"
            ],
            [
             0.3333333333333333,
             "#9c179e"
            ],
            [
             0.4444444444444444,
             "#bd3786"
            ],
            [
             0.5555555555555556,
             "#d8576b"
            ],
            [
             0.6666666666666666,
             "#ed7953"
            ],
            [
             0.7777777777777778,
             "#fb9f3a"
            ],
            [
             0.8888888888888888,
             "#fdca26"
            ],
            [
             1,
             "#f0f921"
            ]
           ],
           "sequentialminus": [
            [
             0,
             "#0d0887"
            ],
            [
             0.1111111111111111,
             "#46039f"
            ],
            [
             0.2222222222222222,
             "#7201a8"
            ],
            [
             0.3333333333333333,
             "#9c179e"
            ],
            [
             0.4444444444444444,
             "#bd3786"
            ],
            [
             0.5555555555555556,
             "#d8576b"
            ],
            [
             0.6666666666666666,
             "#ed7953"
            ],
            [
             0.7777777777777778,
             "#fb9f3a"
            ],
            [
             0.8888888888888888,
             "#fdca26"
            ],
            [
             1,
             "#f0f921"
            ]
           ]
          },
          "colorway": [
           "#636efa",
           "#EF553B",
           "#00cc96",
           "#ab63fa",
           "#FFA15A",
           "#19d3f3",
           "#FF6692",
           "#B6E880",
           "#FF97FF",
           "#FECB52"
          ],
          "font": {
           "color": "#2a3f5f"
          },
          "geo": {
           "bgcolor": "white",
           "lakecolor": "white",
           "landcolor": "#E5ECF6",
           "showlakes": true,
           "showland": true,
           "subunitcolor": "white"
          },
          "hoverlabel": {
           "align": "left"
          },
          "hovermode": "closest",
          "mapbox": {
           "style": "light"
          },
          "paper_bgcolor": "white",
          "plot_bgcolor": "#E5ECF6",
          "polar": {
           "angularaxis": {
            "gridcolor": "white",
            "linecolor": "white",
            "ticks": ""
           },
           "bgcolor": "#E5ECF6",
           "radialaxis": {
            "gridcolor": "white",
            "linecolor": "white",
            "ticks": ""
           }
          },
          "scene": {
           "xaxis": {
            "backgroundcolor": "#E5ECF6",
            "gridcolor": "white",
            "gridwidth": 2,
            "linecolor": "white",
            "showbackground": true,
            "ticks": "",
            "zerolinecolor": "white"
           },
           "yaxis": {
            "backgroundcolor": "#E5ECF6",
            "gridcolor": "white",
            "gridwidth": 2,
            "linecolor": "white",
            "showbackground": true,
            "ticks": "",
            "zerolinecolor": "white"
           },
           "zaxis": {
            "backgroundcolor": "#E5ECF6",
            "gridcolor": "white",
            "gridwidth": 2,
            "linecolor": "white",
            "showbackground": true,
            "ticks": "",
            "zerolinecolor": "white"
           }
          },
          "shapedefaults": {
           "line": {
            "color": "#2a3f5f"
           }
          },
          "ternary": {
           "aaxis": {
            "gridcolor": "white",
            "linecolor": "white",
            "ticks": ""
           },
           "baxis": {
            "gridcolor": "white",
            "linecolor": "white",
            "ticks": ""
           },
           "bgcolor": "#E5ECF6",
           "caxis": {
            "gridcolor": "white",
            "linecolor": "white",
            "ticks": ""
           }
          },
          "title": {
           "x": 0.05
          },
          "xaxis": {
           "automargin": true,
           "gridcolor": "white",
           "linecolor": "white",
           "ticks": "",
           "title": {
            "standoff": 15
           },
           "zerolinecolor": "white",
           "zerolinewidth": 2
          },
          "yaxis": {
           "automargin": true,
           "gridcolor": "white",
           "linecolor": "white",
           "ticks": "",
           "title": {
            "standoff": 15
           },
           "zerolinecolor": "white",
           "zerolinewidth": 2
          }
         }
        },
        "title": {
         "text": "Delitos en CDMX por Tipo y Mes"
        },
        "xaxis": {
         "anchor": "y",
         "domain": [
          0,
          1
         ],
         "title": {
          "text": "Tipo_Delito"
         }
        },
        "yaxis": {
         "anchor": "x",
         "domain": [
          0,
          1
         ],
         "title": {
          "text": "Cantidad"
         }
        }
       }
      }
     },
     "metadata": {},
     "output_type": "display_data"
    }
   ],
   "source": [
    "cdmx = df_long[df_long['Entidad'].str.contains(\"CDMX\", case=False)]\n",
    "\n",
    "cdmx_grouped = cdmx.groupby(['Tipo_Delito', 'Año-Mes'])['Cantidad'].mean().reset_index()\n",
    "cdmx_grouped = cdmx_grouped.sort_values('Cantidad', ascending=False)\n",
    "\n",
    "fig = px.bar(\n",
    "    cdmx_grouped,\n",
    "    x='Tipo_Delito',\n",
    "    y='Cantidad',\n",
    "    color='Año-Mes',\n",
    "    title='Delitos en CDMX por Tipo y Mes',\n",
    ")\n",
    "fig.show()"
   ]
  },
  {
   "cell_type": "markdown",
   "id": "7171e2d1",
   "metadata": {},
   "source": [
    "e) Un análisis propio que sea de tu interés."
   ]
  },
  {
   "cell_type": "code",
   "execution_count": 22,
   "id": "923cf477",
   "metadata": {},
   "outputs": [
    {
     "data": {
      "application/vnd.plotly.v1+json": {
       "config": {
        "plotlyServerURL": "https://plot.ly"
       },
       "data": [
        {
         "alignmentgroup": "True",
         "hovertemplate": "Bien_jurídico_afectado=%{x}<br>y=%{y}<extra></extra>",
         "legendgroup": "",
         "marker": {
          "color": "#636efa",
          "pattern": {
           "shape": ""
          }
         },
         "name": "",
         "offsetgroup": "",
         "orientation": "v",
         "showlegend": false,
         "textposition": "auto",
         "type": "bar",
         "x": [
          "El patrimonio",
          "Otros",
          "La familia",
          "La vida y la Integridad",
          "La libertad y la seguridad sexual",
          "La libertad personal",
          "La sociedad"
         ],
         "xaxis": "x",
         "y": [
          1761506,
          972932,
          651666,
          558314,
          167810,
          53160,
          18366
         ],
         "yaxis": "y"
        }
       ],
       "layout": {
        "barmode": "relative",
        "legend": {
         "tracegroupgap": 0
        },
        "template": {
         "data": {
          "bar": [
           {
            "error_x": {
             "color": "#2a3f5f"
            },
            "error_y": {
             "color": "#2a3f5f"
            },
            "marker": {
             "line": {
              "color": "#E5ECF6",
              "width": 0.5
             },
             "pattern": {
              "fillmode": "overlay",
              "size": 10,
              "solidity": 0.2
             }
            },
            "type": "bar"
           }
          ],
          "barpolar": [
           {
            "marker": {
             "line": {
              "color": "#E5ECF6",
              "width": 0.5
             },
             "pattern": {
              "fillmode": "overlay",
              "size": 10,
              "solidity": 0.2
             }
            },
            "type": "barpolar"
           }
          ],
          "carpet": [
           {
            "aaxis": {
             "endlinecolor": "#2a3f5f",
             "gridcolor": "white",
             "linecolor": "white",
             "minorgridcolor": "white",
             "startlinecolor": "#2a3f5f"
            },
            "baxis": {
             "endlinecolor": "#2a3f5f",
             "gridcolor": "white",
             "linecolor": "white",
             "minorgridcolor": "white",
             "startlinecolor": "#2a3f5f"
            },
            "type": "carpet"
           }
          ],
          "choropleth": [
           {
            "colorbar": {
             "outlinewidth": 0,
             "ticks": ""
            },
            "type": "choropleth"
           }
          ],
          "contour": [
           {
            "colorbar": {
             "outlinewidth": 0,
             "ticks": ""
            },
            "colorscale": [
             [
              0,
              "#0d0887"
             ],
             [
              0.1111111111111111,
              "#46039f"
             ],
             [
              0.2222222222222222,
              "#7201a8"
             ],
             [
              0.3333333333333333,
              "#9c179e"
             ],
             [
              0.4444444444444444,
              "#bd3786"
             ],
             [
              0.5555555555555556,
              "#d8576b"
             ],
             [
              0.6666666666666666,
              "#ed7953"
             ],
             [
              0.7777777777777778,
              "#fb9f3a"
             ],
             [
              0.8888888888888888,
              "#fdca26"
             ],
             [
              1,
              "#f0f921"
             ]
            ],
            "type": "contour"
           }
          ],
          "contourcarpet": [
           {
            "colorbar": {
             "outlinewidth": 0,
             "ticks": ""
            },
            "type": "contourcarpet"
           }
          ],
          "heatmap": [
           {
            "colorbar": {
             "outlinewidth": 0,
             "ticks": ""
            },
            "colorscale": [
             [
              0,
              "#0d0887"
             ],
             [
              0.1111111111111111,
              "#46039f"
             ],
             [
              0.2222222222222222,
              "#7201a8"
             ],
             [
              0.3333333333333333,
              "#9c179e"
             ],
             [
              0.4444444444444444,
              "#bd3786"
             ],
             [
              0.5555555555555556,
              "#d8576b"
             ],
             [
              0.6666666666666666,
              "#ed7953"
             ],
             [
              0.7777777777777778,
              "#fb9f3a"
             ],
             [
              0.8888888888888888,
              "#fdca26"
             ],
             [
              1,
              "#f0f921"
             ]
            ],
            "type": "heatmap"
           }
          ],
          "heatmapgl": [
           {
            "colorbar": {
             "outlinewidth": 0,
             "ticks": ""
            },
            "colorscale": [
             [
              0,
              "#0d0887"
             ],
             [
              0.1111111111111111,
              "#46039f"
             ],
             [
              0.2222222222222222,
              "#7201a8"
             ],
             [
              0.3333333333333333,
              "#9c179e"
             ],
             [
              0.4444444444444444,
              "#bd3786"
             ],
             [
              0.5555555555555556,
              "#d8576b"
             ],
             [
              0.6666666666666666,
              "#ed7953"
             ],
             [
              0.7777777777777778,
              "#fb9f3a"
             ],
             [
              0.8888888888888888,
              "#fdca26"
             ],
             [
              1,
              "#f0f921"
             ]
            ],
            "type": "heatmapgl"
           }
          ],
          "histogram": [
           {
            "marker": {
             "pattern": {
              "fillmode": "overlay",
              "size": 10,
              "solidity": 0.2
             }
            },
            "type": "histogram"
           }
          ],
          "histogram2d": [
           {
            "colorbar": {
             "outlinewidth": 0,
             "ticks": ""
            },
            "colorscale": [
             [
              0,
              "#0d0887"
             ],
             [
              0.1111111111111111,
              "#46039f"
             ],
             [
              0.2222222222222222,
              "#7201a8"
             ],
             [
              0.3333333333333333,
              "#9c179e"
             ],
             [
              0.4444444444444444,
              "#bd3786"
             ],
             [
              0.5555555555555556,
              "#d8576b"
             ],
             [
              0.6666666666666666,
              "#ed7953"
             ],
             [
              0.7777777777777778,
              "#fb9f3a"
             ],
             [
              0.8888888888888888,
              "#fdca26"
             ],
             [
              1,
              "#f0f921"
             ]
            ],
            "type": "histogram2d"
           }
          ],
          "histogram2dcontour": [
           {
            "colorbar": {
             "outlinewidth": 0,
             "ticks": ""
            },
            "colorscale": [
             [
              0,
              "#0d0887"
             ],
             [
              0.1111111111111111,
              "#46039f"
             ],
             [
              0.2222222222222222,
              "#7201a8"
             ],
             [
              0.3333333333333333,
              "#9c179e"
             ],
             [
              0.4444444444444444,
              "#bd3786"
             ],
             [
              0.5555555555555556,
              "#d8576b"
             ],
             [
              0.6666666666666666,
              "#ed7953"
             ],
             [
              0.7777777777777778,
              "#fb9f3a"
             ],
             [
              0.8888888888888888,
              "#fdca26"
             ],
             [
              1,
              "#f0f921"
             ]
            ],
            "type": "histogram2dcontour"
           }
          ],
          "mesh3d": [
           {
            "colorbar": {
             "outlinewidth": 0,
             "ticks": ""
            },
            "type": "mesh3d"
           }
          ],
          "parcoords": [
           {
            "line": {
             "colorbar": {
              "outlinewidth": 0,
              "ticks": ""
             }
            },
            "type": "parcoords"
           }
          ],
          "pie": [
           {
            "automargin": true,
            "type": "pie"
           }
          ],
          "scatter": [
           {
            "fillpattern": {
             "fillmode": "overlay",
             "size": 10,
             "solidity": 0.2
            },
            "type": "scatter"
           }
          ],
          "scatter3d": [
           {
            "line": {
             "colorbar": {
              "outlinewidth": 0,
              "ticks": ""
             }
            },
            "marker": {
             "colorbar": {
              "outlinewidth": 0,
              "ticks": ""
             }
            },
            "type": "scatter3d"
           }
          ],
          "scattercarpet": [
           {
            "marker": {
             "colorbar": {
              "outlinewidth": 0,
              "ticks": ""
             }
            },
            "type": "scattercarpet"
           }
          ],
          "scattergeo": [
           {
            "marker": {
             "colorbar": {
              "outlinewidth": 0,
              "ticks": ""
             }
            },
            "type": "scattergeo"
           }
          ],
          "scattergl": [
           {
            "marker": {
             "colorbar": {
              "outlinewidth": 0,
              "ticks": ""
             }
            },
            "type": "scattergl"
           }
          ],
          "scattermapbox": [
           {
            "marker": {
             "colorbar": {
              "outlinewidth": 0,
              "ticks": ""
             }
            },
            "type": "scattermapbox"
           }
          ],
          "scatterpolar": [
           {
            "marker": {
             "colorbar": {
              "outlinewidth": 0,
              "ticks": ""
             }
            },
            "type": "scatterpolar"
           }
          ],
          "scatterpolargl": [
           {
            "marker": {
             "colorbar": {
              "outlinewidth": 0,
              "ticks": ""
             }
            },
            "type": "scatterpolargl"
           }
          ],
          "scatterternary": [
           {
            "marker": {
             "colorbar": {
              "outlinewidth": 0,
              "ticks": ""
             }
            },
            "type": "scatterternary"
           }
          ],
          "surface": [
           {
            "colorbar": {
             "outlinewidth": 0,
             "ticks": ""
            },
            "colorscale": [
             [
              0,
              "#0d0887"
             ],
             [
              0.1111111111111111,
              "#46039f"
             ],
             [
              0.2222222222222222,
              "#7201a8"
             ],
             [
              0.3333333333333333,
              "#9c179e"
             ],
             [
              0.4444444444444444,
              "#bd3786"
             ],
             [
              0.5555555555555556,
              "#d8576b"
             ],
             [
              0.6666666666666666,
              "#ed7953"
             ],
             [
              0.7777777777777778,
              "#fb9f3a"
             ],
             [
              0.8888888888888888,
              "#fdca26"
             ],
             [
              1,
              "#f0f921"
             ]
            ],
            "type": "surface"
           }
          ],
          "table": [
           {
            "cells": {
             "fill": {
              "color": "#EBF0F8"
             },
             "line": {
              "color": "white"
             }
            },
            "header": {
             "fill": {
              "color": "#C8D4E3"
             },
             "line": {
              "color": "white"
             }
            },
            "type": "table"
           }
          ]
         },
         "layout": {
          "annotationdefaults": {
           "arrowcolor": "#2a3f5f",
           "arrowhead": 0,
           "arrowwidth": 1
          },
          "autotypenumbers": "strict",
          "coloraxis": {
           "colorbar": {
            "outlinewidth": 0,
            "ticks": ""
           }
          },
          "colorscale": {
           "diverging": [
            [
             0,
             "#8e0152"
            ],
            [
             0.1,
             "#c51b7d"
            ],
            [
             0.2,
             "#de77ae"
            ],
            [
             0.3,
             "#f1b6da"
            ],
            [
             0.4,
             "#fde0ef"
            ],
            [
             0.5,
             "#f7f7f7"
            ],
            [
             0.6,
             "#e6f5d0"
            ],
            [
             0.7,
             "#b8e186"
            ],
            [
             0.8,
             "#7fbc41"
            ],
            [
             0.9,
             "#4d9221"
            ],
            [
             1,
             "#276419"
            ]
           ],
           "sequential": [
            [
             0,
             "#0d0887"
            ],
            [
             0.1111111111111111,
             "#46039f"
            ],
            [
             0.2222222222222222,
             "#7201a8"
            ],
            [
             0.3333333333333333,
             "#9c179e"
            ],
            [
             0.4444444444444444,
             "#bd3786"
            ],
            [
             0.5555555555555556,
             "#d8576b"
            ],
            [
             0.6666666666666666,
             "#ed7953"
            ],
            [
             0.7777777777777778,
             "#fb9f3a"
            ],
            [
             0.8888888888888888,
             "#fdca26"
            ],
            [
             1,
             "#f0f921"
            ]
           ],
           "sequentialminus": [
            [
             0,
             "#0d0887"
            ],
            [
             0.1111111111111111,
             "#46039f"
            ],
            [
             0.2222222222222222,
             "#7201a8"
            ],
            [
             0.3333333333333333,
             "#9c179e"
            ],
            [
             0.4444444444444444,
             "#bd3786"
            ],
            [
             0.5555555555555556,
             "#d8576b"
            ],
            [
             0.6666666666666666,
             "#ed7953"
            ],
            [
             0.7777777777777778,
             "#fb9f3a"
            ],
            [
             0.8888888888888888,
             "#fdca26"
            ],
            [
             1,
             "#f0f921"
            ]
           ]
          },
          "colorway": [
           "#636efa",
           "#EF553B",
           "#00cc96",
           "#ab63fa",
           "#FFA15A",
           "#19d3f3",
           "#FF6692",
           "#B6E880",
           "#FF97FF",
           "#FECB52"
          ],
          "font": {
           "color": "#2a3f5f"
          },
          "geo": {
           "bgcolor": "white",
           "lakecolor": "white",
           "landcolor": "#E5ECF6",
           "showlakes": true,
           "showland": true,
           "subunitcolor": "white"
          },
          "hoverlabel": {
           "align": "left"
          },
          "hovermode": "closest",
          "mapbox": {
           "style": "light"
          },
          "paper_bgcolor": "white",
          "plot_bgcolor": "#E5ECF6",
          "polar": {
           "angularaxis": {
            "gridcolor": "white",
            "linecolor": "white",
            "ticks": ""
           },
           "bgcolor": "#E5ECF6",
           "radialaxis": {
            "gridcolor": "white",
            "linecolor": "white",
            "ticks": ""
           }
          },
          "scene": {
           "xaxis": {
            "backgroundcolor": "#E5ECF6",
            "gridcolor": "white",
            "gridwidth": 2,
            "linecolor": "white",
            "showbackground": true,
            "ticks": "",
            "zerolinecolor": "white"
           },
           "yaxis": {
            "backgroundcolor": "#E5ECF6",
            "gridcolor": "white",
            "gridwidth": 2,
            "linecolor": "white",
            "showbackground": true,
            "ticks": "",
            "zerolinecolor": "white"
           },
           "zaxis": {
            "backgroundcolor": "#E5ECF6",
            "gridcolor": "white",
            "gridwidth": 2,
            "linecolor": "white",
            "showbackground": true,
            "ticks": "",
            "zerolinecolor": "white"
           }
          },
          "shapedefaults": {
           "line": {
            "color": "#2a3f5f"
           }
          },
          "ternary": {
           "aaxis": {
            "gridcolor": "white",
            "linecolor": "white",
            "ticks": ""
           },
           "baxis": {
            "gridcolor": "white",
            "linecolor": "white",
            "ticks": ""
           },
           "bgcolor": "#E5ECF6",
           "caxis": {
            "gridcolor": "white",
            "linecolor": "white",
            "ticks": ""
           }
          },
          "title": {
           "x": 0.05
          },
          "xaxis": {
           "automargin": true,
           "gridcolor": "white",
           "linecolor": "white",
           "ticks": "",
           "title": {
            "standoff": 15
           },
           "zerolinecolor": "white",
           "zerolinewidth": 2
          },
          "yaxis": {
           "automargin": true,
           "gridcolor": "white",
           "linecolor": "white",
           "ticks": "",
           "title": {
            "standoff": 15
           },
           "zerolinecolor": "white",
           "zerolinewidth": 2
          }
         }
        },
        "title": {
         "text": "Bien Jurídico Afectado con más Delitos"
        },
        "xaxis": {
         "anchor": "y",
         "domain": [
          0,
          1
         ],
         "title": {
          "text": "Bien_jurídico_afectado"
         }
        },
        "yaxis": {
         "anchor": "x",
         "domain": [
          0,
          1
         ],
         "title": {
          "text": "y"
         }
        }
       }
      }
     },
     "metadata": {},
     "output_type": "display_data"
    }
   ],
   "source": [
    "top_bienes = df_long.groupby('Bien_jurídico_afectado')['Cantidad'].sum().sort_values(ascending=False)\n",
    "\n",
    "fig = px.bar(\n",
    "    top_bienes,\n",
    "    x=top_bienes.index,\n",
    "    y=top_bienes.values,\n",
    "    title='Bien Jurídico Afectado con más Delitos',\n",
    ")\n",
    "fig.show()"
   ]
  },
  {
   "cell_type": "markdown",
   "id": "3878e32d",
   "metadata": {},
   "source": [
    "### **Exportación del archivo en CSV para cargar en Google Data Looker**"
   ]
  },
  {
   "cell_type": "code",
   "execution_count": 23,
   "id": "3bb8f0f1",
   "metadata": {},
   "outputs": [],
   "source": [
    "df_long.to_csv('crimenes_mexico_long.csv', index=False)"
   ]
  }
 ],
 "metadata": {
  "kernelspec": {
   "display_name": "base",
   "language": "python",
   "name": "python3"
  },
  "language_info": {
   "codemirror_mode": {
    "name": "ipython",
    "version": 3
   },
   "file_extension": ".py",
   "mimetype": "text/x-python",
   "name": "python",
   "nbconvert_exporter": "python",
   "pygments_lexer": "ipython3",
   "version": "3.12.7"
  }
 },
 "nbformat": 4,
 "nbformat_minor": 5
}
